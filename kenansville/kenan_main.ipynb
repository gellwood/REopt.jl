{
 "cells": [
  {
   "cell_type": "markdown",
   "metadata": {},
   "source": [
    "# Kenan Analysis Notebook\n",
    "This notebook provides tools and steps to perform the Kenan analysis. Follow the instructions in each section to obtain the desired results."
   ]
  },
  {
   "cell_type": "markdown",
   "metadata": {},
   "source": [
    "### Required Libraries and External Scripts\n",
    "\n",
    "The cell below imports necessary Julia modules and includes external Julia scripts essential for the Y12 analysis. Ensure these modules and scripts are available in your environment."
   ]
  },
  {
   "cell_type": "code",
   "execution_count": 14,
   "metadata": {},
   "outputs": [
    {
     "data": {
      "text/plain": [
       "\"/Users/bpulluta/.julia/dev/REopt/.bp_local_testing/Y12\""
      ]
     },
     "metadata": {},
     "output_type": "display_data"
    }
   ],
   "source": [
    "using Revise, Xpress, JuMP, REopt, CSV, PlotlyJS, DataFrames, Statistics, Dates, JSON3, JSON, Serialization\n",
    "\n",
    "include(\"../reopt_getdata.jl\")\n",
    "include(\"../reopt_plotting.jl\")\n",
    "include(\"../reopt_runscenarios.jl\")\n",
    "include(\"../reopt_groupedbarplot.jl\")\n",
    "\n",
    "#Specify the folder path where the scenarios are located. The default is set to the current notebook directory.\n",
    "path =   @__DIR__"
   ]
  },
  {
   "cell_type": "markdown",
   "metadata": {},
   "source": [
    "### PRIMARY INPUTS - Required\n",
    "\n",
    "Set the required primary inputs for the analysis. Ensure you specify the site and provide the correct JSON path for scenario definitions."
   ]
  },
  {
   "cell_type": "code",
   "execution_count": 3,
   "metadata": {},
   "outputs": [
    {
     "data": {
      "text/plain": [
       "Dict{String, Any} with 1 entry:\n",
       "  \"Y12\" => Dict{String, Any}(\"240\"=>Any[Any[\"scenarios/A-case_1.json\", \"A0. Bus…"
      ]
     },
     "metadata": {},
     "output_type": "display_data"
    }
   ],
   "source": [
    "rerun_scenarios                         =   false  # Set to false if you want to load saved results\n",
    "site                                    =   \"Y12\" # Site that you are analyzing\n",
    "data                                    =   JSON.parsefile(joinpath(path, \"y12_all_runs.json\")) #JSON path to scenario definitions. Should be in the same path as the notebook"
   ]
  },
  {
   "cell_type": "markdown",
   "metadata": {},
   "source": [
    "### STEP 1: Define Site and Scenarios - DO NOT EDIT\n",
    "\n",
    "The cell below organizes the difference scenario JSONs into a dictionary that will run all JSONs together to get the results for all of the configured files"
   ]
  },
  {
   "cell_type": "code",
   "execution_count": 4,
   "metadata": {},
   "outputs": [
    {
     "data": {
      "text/plain": [
       "\"/Users/bpulluta/.julia/dev/REopt/.bp_local_testing/Y12/results\""
      ]
     },
     "metadata": {},
     "output_type": "display_data"
    }
   ],
   "source": [
    "site_data                               =   data[site]\n",
    "all_scenarios                           =   Dict{String, Vector{Tuple{String, String}}}()\n",
    "\n",
    "for (case, scenarios) in site_data\n",
    "    converted_scenarios =   Vector{Tuple{String, String}}()\n",
    "    for scenario in scenarios\n",
    "        absolute_scenario_path = joinpath(path, scenario[1])\n",
    "        push!(converted_scenarios, (absolute_scenario_path, scenario[2]))\n",
    "    end\n",
    "    all_scenarios[case] =   converted_scenarios\n",
    "end\n",
    "\n",
    "# Initialize variables to hold results\n",
    "reoptsim_results =   []\n",
    "results          =   []\n",
    "# Results directory relative to base path   \n",
    "results_dir      =   joinpath(path, \"results\")\n",
    "\n",
    "# Ensure the results directory exists\n",
    "mkpath(results_dir)"
   ]
  },
  {
   "cell_type": "markdown",
   "metadata": {},
   "source": [
    "### STEP 2: Run REopt (Execute Scenarios) - DO NOT EDIT\n",
    "\n",
    "The cell below either runs the scenarios or loads saved results based on the `rerun_scenarios` flag. It's advisable not to modify this cell unless you know what you're doing."
   ]
  },
  {
   "cell_type": "code",
   "execution_count": 5,
   "metadata": {},
   "outputs": [
    {
     "name": "stdout",
     "output_type": "stream",
     "text": [
      "===========================Loading Results for Y12 - Case 240===========================\n"
     ]
    },
    {
     "name": "stdout",
     "output_type": "stream",
     "text": [
      "===========================Loading Results for Y12 - Case 245===========================\n",
      "===========================Loading Results for Y12 - Case Combo===========================\n"
     ]
    }
   ],
   "source": [
    "if rerun_scenarios\n",
    "    all_results =   Dict()\n",
    "    for (case, scenarios) in all_scenarios\n",
    "        println(\"=========================== Running scenarios for $site - Case $case ===========================\")\n",
    "        reoptsim_results, results =   run_and_get_results(scenarios, case, results_dir);\n",
    "        all_results[case]         =   (reoptsim_results, results)\n",
    "    end\n",
    "else\n",
    "    all_results =   Dict()\n",
    "    for case in keys(all_scenarios)\n",
    "        println(\"=========================== Loading Results for $site - Case $case ===========================\")\n",
    "        reoptsim_results  =   deserialize(open(joinpath(results_dir, \"$case-reopt_results.bin\"), \"r\"))\n",
    "        results           =   deserialize(open(joinpath(results_dir, \"$case-results.bin\"), \"r\"))\n",
    "        all_results[case] =   (reoptsim_results, results)\n",
    "    end\n",
    "end"
   ]
  },
  {
   "cell_type": "markdown",
   "metadata": {},
   "source": [
    "### STEP 3: Process Results - DO NOT EDIT\n",
    "\n",
    "The cell below processes the results to create visualization and data charts"
   ]
  },
  {
   "cell_type": "code",
   "execution_count": 6,
   "metadata": {},
   "outputs": [
    {
     "name": "stdout",
     "output_type": "stream",
     "text": [
      "===========================Processing results for Y12 - Case 240===========================\n"
     ]
    },
    {
     "name": "stderr",
     "output_type": "stream",
     "text": [
      "\u001b[93m\u001b[1m┌ REopt | Warn: \u001b[22m\u001b[39m\u001b[0mEnergy periods contain different numbers of tiers, using limits of period with most tiers.\n",
      "└ @ REopt"
     ]
    },
    {
     "name": "stderr",
     "output_type": "stream",
     "text": [
      " /Users/bpulluta/.julia/dev/REopt/src/core/urdb.jl:207\n",
      "\u001b[36m\u001b[1m┌ REopt | Info: \u001b[22m\u001b[39m"
     ]
    },
    {
     "name": "stderr",
     "output_type": "stream",
     "text": [
      "\u001b[0mQuerying PVWatts for production factor and ambient air temperature... \n",
      "└ @ REopt /Users/bpulluta/.julia/dev/REopt/src/core/utils.jl:387\n"
     ]
    },
    {
     "name": "stderr",
     "output_type": "stream",
     "text": [
      "\u001b[36m\u001b[1m┌ REopt | Info: \u001b[22m\u001b[39m\u001b[0mPVWatts success.\n",
      "└ @ REopt /Users/bpulluta/.julia/dev/REopt/src/core/utils.jl:393\n",
      "\u001b[93m\u001b[1m┌ Main | Warn: \u001b[22m\u001b[39m"
     ]
    },
    {
     "name": "stderr",
     "output_type": "stream",
     "text": [
      "\u001b[0mprob_dict is empty!\n",
      "└ @ Main /Users/bpulluta/.julia/dev/REopt/.bp_local_testing/reopt_plotting.jl:463\n"
     ]
    },
    {
     "name": "stderr",
     "output_type": "stream",
     "text": [
      "\u001b[93m\u001b[1m┌ REopt | Warn: \u001b[22m\u001b[39m\u001b[0mEnergy periods contain different numbers of tiers, using limits of period with most tiers.\n",
      "└ @ REopt /Users/bpulluta/.julia/dev/REopt/src/core/urdb.jl:207\n",
      "\u001b[36m\u001b[1m┌ REopt | Info: \u001b[22m\u001b[39m\u001b[0mQuerying PVWatts for production factor and ambient air temperature... \n",
      "└ @ REopt /Users/bpulluta/.julia/dev/REopt/src/core/utils.jl:387\n",
      "\u001b[36m\u001b[1m┌ REopt | Info: \u001b[22m\u001b[39m\u001b[0mPVWatts success.\n",
      "└ @ REopt /Users/bpulluta/.julia/dev/REopt/src/core/utils.jl:393\n",
      "\u001b[93m\u001b[1m┌ Main | Warn: \u001b[22m\u001b[39m"
     ]
    },
    {
     "name": "stderr",
     "output_type": "stream",
     "text": [
      "\u001b[0mprob_dict is empty!\n",
      "└ @ Main /Users/bpulluta/.julia/dev/REopt/.bp_local_testing/reopt_plotting.jl:463\n"
     ]
    },
    {
     "name": "stderr",
     "output_type": "stream",
     "text": [
      "\u001b[93m\u001b[1m┌ REopt | Warn: \u001b[22m\u001b[39m\u001b[0mEnergy periods contain different numbers of tiers, using limits of period with most tiers.\n",
      "└ @ REopt /Users/bpulluta/.julia/dev/REopt/src/core/urdb.jl:207\n",
      "\u001b[36m\u001b[1m┌ REopt | Info: \u001b[22m\u001b[39m\u001b[0mQuerying PVWatts for production factor and ambient air temperature... \n",
      "└ @ REopt /Users/bpulluta/.julia/dev/REopt/src/core/utils.jl:387\n"
     ]
    },
    {
     "name": "stderr",
     "output_type": "stream",
     "text": [
      "\u001b[36m\u001b[1m┌ REopt | Info: \u001b[22m\u001b[39m\u001b[0mPVWatts success.\n",
      "└ @ REopt /Users/bpulluta/.julia/dev/REopt/src/core/utils.jl:393\n"
     ]
    },
    {
     "name": "stdout",
     "output_type": "stream",
     "text": [
      "================================================================================================================\n",
      "Maximum Fuel Used (gallons): 0.0\n",
      "Minimum Fuel Used (gallons): 0.0\n",
      "================================================================================================================\n"
     ]
    },
    {
     "name": "stdout",
     "output_type": "stream",
     "text": [
      "===========================Processing results for Y12 - Case 245===========================\n"
     ]
    },
    {
     "name": "stderr",
     "output_type": "stream",
     "text": [
      "\u001b[93m\u001b[1m┌ REopt | Warn: \u001b[22m\u001b[39m\u001b[0mEnergy periods contain different numbers of tiers, using limits of period with most tiers.\n",
      "└ @ REopt /Users/bpulluta/.julia/dev/REopt/src/core/urdb.jl:207\n",
      "\u001b[36m\u001b[1m┌ REopt | Info: \u001b[22m\u001b[39m\u001b[0mQuerying PVWatts for production factor and ambient air temperature... \n",
      "└ @ REopt /Users/bpulluta/.julia/dev/REopt/src/core/utils.jl:387\n",
      "\u001b[36m\u001b[1m┌ REopt | Info: \u001b[22m\u001b[39m\u001b[0mPVWatts success.\n",
      "└ @ REopt /Users/bpulluta/.julia/dev/REopt/src/core/utils.jl:393\n",
      "\u001b[93m\u001b[1m┌ Main | Warn: \u001b[22m\u001b[39m"
     ]
    },
    {
     "name": "stderr",
     "output_type": "stream",
     "text": [
      "\u001b[0mprob_dict is empty!\n",
      "└ @ Main /Users/bpulluta/.julia/dev/REopt/.bp_local_testing/reopt_plotting.jl:463\n"
     ]
    },
    {
     "name": "stderr",
     "output_type": "stream",
     "text": [
      "\u001b[93m\u001b[1m┌ REopt | Warn: \u001b[22m\u001b[39m\u001b[0mEnergy periods contain different numbers of tiers, using limits of period with most tiers.\n",
      "└ @ REopt /Users/bpulluta/.julia/dev/REopt/src/core/urdb.jl:207\n",
      "\u001b[36m\u001b[1m┌ REopt | Info: \u001b[22m\u001b[39m\u001b[0mQuerying PVWatts for production factor and ambient air temperature... \n",
      "└ @ REopt /Users/bpulluta/.julia/dev/REopt/src/core/utils.jl:387\n"
     ]
    },
    {
     "name": "stderr",
     "output_type": "stream",
     "text": [
      "\u001b[36m\u001b[1m┌ REopt | Info: \u001b[22m\u001b[39m\u001b[0mPVWatts success.\n",
      "└ @ REopt /Users/bpulluta/.julia/dev/REopt/src/core/utils.jl:393\n",
      "\u001b[93m\u001b[1m┌ Main | Warn: \u001b[22m\u001b[39m"
     ]
    },
    {
     "name": "stderr",
     "output_type": "stream",
     "text": [
      "\u001b[0mprob_dict is empty!\n",
      "└ @ Main /Users/bpulluta/.julia/dev/REopt/.bp_local_testing/reopt_plotting.jl:463\n"
     ]
    },
    {
     "name": "stderr",
     "output_type": "stream",
     "text": [
      "\u001b[93m\u001b[1m┌ REopt | Warn: \u001b[22m\u001b[39m\u001b[0mEnergy periods contain different numbers of tiers, using limits of period with most tiers.\n",
      "└ @ REopt /Users/bpulluta/.julia/dev/REopt/src/core/urdb.jl:207\n",
      "\u001b[36m\u001b[1m┌ REopt | Info: \u001b[22m\u001b[39m\u001b[0mQuerying PVWatts for production factor and ambient air temperature... \n",
      "└ @ REopt /Users/bpulluta/.julia/dev/REopt/src/core/utils.jl:387\n",
      "\u001b[36m\u001b[1m┌ REopt | Info: \u001b[22m\u001b[39m\u001b[0mPVWatts success.\n",
      "└ @ REopt /Users/bpulluta/.julia/dev/REopt/src/core/utils.jl:393\n"
     ]
    },
    {
     "name": "stdout",
     "output_type": "stream",
     "text": [
      "================================================================================================================\n",
      "Maximum Fuel Used (gallons): 0.0\n",
      "Minimum Fuel Used (gallons): 0.0\n",
      "================================================================================================================\n"
     ]
    },
    {
     "name": "stdout",
     "output_type": "stream",
     "text": [
      "===========================Processing results for Y12 - Case Combo===========================\n"
     ]
    },
    {
     "name": "stderr",
     "output_type": "stream",
     "text": [
      "\u001b[93m\u001b[1m┌ REopt | Warn: \u001b[22m\u001b[39m\u001b[0mEnergy periods contain different numbers of tiers, using limits of period with most tiers.\n",
      "└ @ REopt /Users/bpulluta/.julia/dev/REopt/src/core/urdb.jl:207\n",
      "\u001b[36m\u001b[1m┌ REopt | Info: \u001b[22m\u001b[39m\u001b[0mQuerying PVWatts for production factor and ambient air temperature... \n",
      "└ @ REopt /Users/bpulluta/.julia/dev/REopt/src/core/utils.jl:387\n",
      "\u001b[36m\u001b[1m┌ REopt | Info: \u001b[22m\u001b[39m\u001b[0mPVWatts success.\n",
      "└ @ REopt /Users/bpulluta/.julia/dev/REopt/src/core/utils.jl:393\n",
      "\u001b[93m\u001b[1m┌ Main | Warn: \u001b[22m\u001b[39m"
     ]
    },
    {
     "name": "stderr",
     "output_type": "stream",
     "text": [
      "\u001b[0mprob_dict is empty!\n",
      "└ @ Main /Users/bpulluta/.julia/dev/REopt/.bp_local_testing/reopt_plotting.jl:463\n"
     ]
    },
    {
     "name": "stderr",
     "output_type": "stream",
     "text": [
      "\u001b[93m\u001b[1m┌ REopt | Warn: \u001b[22m\u001b[39m\u001b[0mEnergy periods contain different numbers of tiers, using limits of period with most tiers.\n",
      "└ @ REopt /Users/bpulluta/.julia/dev/REopt/src/core/urdb.jl:207\n",
      "\u001b[36m\u001b[1m┌ REopt | Info: \u001b[22m\u001b[39m\u001b[0mQuerying PVWatts for production factor and ambient air temperature... \n",
      "└ @ REopt /Users/bpulluta/.julia/dev/REopt/src/core/utils.jl:387\n",
      "\u001b[36m\u001b[1m┌ REopt | Info: \u001b[22m\u001b[39m\u001b[0mPVWatts success.\n",
      "└ @ REopt /Users/bpulluta/.julia/dev/REopt/src/core/utils.jl:393\n",
      "\u001b[93m\u001b[1m┌ Main | Warn: \u001b[22m\u001b[39m"
     ]
    },
    {
     "name": "stderr",
     "output_type": "stream",
     "text": [
      "\u001b[0mprob_dict is empty!\n",
      "└ @ Main /Users/bpulluta/.julia/dev/REopt/.bp_local_testing/reopt_plotting.jl:463\n"
     ]
    },
    {
     "name": "stderr",
     "output_type": "stream",
     "text": [
      "\u001b[93m\u001b[1m┌ REopt | Warn: \u001b[22m\u001b[39m\u001b[0mEnergy periods contain different numbers of tiers, using limits of period with most tiers.\n",
      "└ @ REopt /Users/bpulluta/.julia/dev/REopt/src/core/urdb.jl:207\n",
      "\u001b[36m\u001b[1m┌ REopt | Info: \u001b[22m\u001b[39m\u001b[0mQuerying PVWatts for production factor and ambient air temperature... \n",
      "└ @ REopt /Users/bpulluta/.julia/dev/REopt/src/core/utils.jl:387\n"
     ]
    },
    {
     "name": "stderr",
     "output_type": "stream",
     "text": [
      "\u001b[36m\u001b[1m┌ REopt | Info: \u001b[22m\u001b[39m\u001b[0mPVWatts success.\n",
      "└ @ REopt /Users/bpulluta/.julia/dev/REopt/src/core/utils.jl:393\n"
     ]
    },
    {
     "name": "stdout",
     "output_type": "stream",
     "text": [
      "================================================================================================================\n",
      "Maximum Fuel Used (gallons): 0.0\n",
      "Minimum Fuel Used (gallons): 0.0\n",
      "================================================================================================================\n"
     ]
    }
   ],
   "source": [
    "for (case, scenarios) in all_scenarios  # Changed from all_scenarios\n",
    "    reoptsim_results, results =   all_results[case]\n",
    "    curr_gen_size = get(reoptsim_results[1], \"Generator\", Dict(\"size_kw\" => 0))[\"size_kw\"] #workaround for existing generator comparison\n",
    "    println(\"=========================== Processing results for $site - Case $case ===========================\")\n",
    "    post_process_results(site, scenarios, reoptsim_results, results, case, results_dir,curr_gen_size)\n",
    "end"
   ]
  },
  {
   "cell_type": "markdown",
   "metadata": {},
   "source": [
    "### STEP 4: Get Pretty Plots\n",
    "\n",
    "The cells below can be modified to include difference variables that might be interesting to compare against different scenarios."
   ]
  },
  {
   "cell_type": "code",
   "execution_count": 15,
   "metadata": {},
   "outputs": [
    {
     "name": "stdout",
     "output_type": "stream",
     "text": [
      "===========================Plotting charts for Y12 - Case 240===========================\n"
     ]
    },
    {
     "name": "stdout",
     "output_type": "stream",
     "text": [
      "===========================Plotting charts for Y12 - Case 245===========================\n"
     ]
    },
    {
     "name": "stdout",
     "output_type": "stream",
     "text": [
      "===========================Plotting charts for Y12 - Case Combo===========================\n"
     ]
    }
   ],
   "source": [
    "# Define the columns and scenarios you are interested in\n",
    "columns = [\n",
    "    \"PV Size (kW-DC)\",\n",
    "    \"Battery Size (kW)\",\n",
    "    \"Battery Capacity (kWh)\",\n",
    "    # \"Current Gen. Capacity (kW)\",\n",
    "    # \"Add-on Gen. Capacity (kW)\",\n",
    "    \"Net Present Value (\\$)\",\n",
    "    \"Payback Period (Years)\",\n",
    "    \"Lifecycle CO2 Reduction (%)\",\n",
    "    \"Capital Cost (\\$)\"\n",
    "]\n",
    "\n",
    "# select the scenarios for comparison, 1 is BAU\n",
    "selected_scenarios =   [2, 3]\n",
    "\n",
    "# Now you can loop through all your cases and plot the charts\n",
    "for (case, scenarios) in all_scenarios\n",
    "    # Call the plot function for each case\n",
    "    println(\"=========================== Plotting charts for $site - Case $case ===========================\")\n",
    "\n",
    "    plot_bar_charts(path, site, selected_scenarios, case, columns)\n",
    "end\n"
   ]
  }
 ],
 "metadata": {
  "kernelspec": {
   "display_name": "Julia 1.8.4",
   "language": "julia",
   "name": "julia-1.8"
  },
  "language_info": {
   "file_extension": ".jl",
   "mimetype": "application/julia",
   "name": "julia",
   "version": "1.8.4"
  },
  "orig_nbformat": 4
 },
 "nbformat": 4,
 "nbformat_minor": 2
}
