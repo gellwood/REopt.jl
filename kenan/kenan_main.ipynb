{
 "cells": [
  {
   "cell_type": "markdown",
   "metadata": {},
   "source": [
    "# Kenan Analysis Notebook\n",
    "This notebook provides tools and steps to perform the Kenan analysis. Follow the instructions in each section to obtain the desired results."
   ]
  },
  {
   "cell_type": "markdown",
   "metadata": {},
   "source": [
    "### Required Libraries and External Scripts\n",
    "\n",
    "The cell below imports necessary Julia modules and includes external Julia scripts essential for the Y12 analysis. Ensure these modules and scripts are available in your environment."
   ]
  },
  {
   "cell_type": "code",
   "execution_count": 10,
   "metadata": {},
   "outputs": [
    {
     "data": {
      "text/plain": [
       "\"/Users/bpulluta/.julia/dev/REopt/.bp_local_testing/kenan\""
      ]
     },
     "metadata": {},
     "output_type": "display_data"
    }
   ],
   "source": [
    "using Revise, Xpress, JuMP, REopt, CSV, PlotlyJS, DataFrames, Statistics, Dates, JSON3, JSON, Serialization\n",
    "\n",
    "include(\"../reopt_getdata.jl\")\n",
    "include(\"../reopt_plotting.jl\")\n",
    "include(\"../reopt_runscenarios.jl\")\n",
    "include(\"../reopt_groupedbarplot.jl\")\n",
    "\n",
    "#Specify the folder path where the scenarios are located. The default is set to the current notebook directory.\n",
    "path =   @__DIR__"
   ]
  },
  {
   "cell_type": "markdown",
   "metadata": {},
   "source": [
    "### PRIMARY INPUTS - Required\n",
    "\n",
    "Set the required primary inputs for the analysis. Ensure you specify the site and provide the correct JSON path for scenario definitions."
   ]
  },
  {
   "cell_type": "code",
   "execution_count": 31,
   "metadata": {},
   "outputs": [
    {
     "data": {
      "text/plain": [
       "Dict{String, Any} with 1 entry:\n",
       "  \"kenan\" => Dict{String, Any}(\"A\"=>Any[Any[\"scenarios/A-case_1_energyrate-data…"
      ]
     },
     "metadata": {},
     "output_type": "display_data"
    }
   ],
   "source": [
    "rerun_scenarios                         =   true  # Set to false if you want to load saved results\n",
    "site                                    =   \"kenan\" # Site that you are analyzing\n",
    "data                                    =   JSON.parsefile(joinpath(path, \"kenan_all_runs.json\")) #JSON path to scenario definitions. Should be in the same path as the notebook"
   ]
  },
  {
   "cell_type": "markdown",
   "metadata": {},
   "source": [
    "### STEP 1: Define Site and Scenarios - DO NOT EDIT\n",
    "\n",
    "The cell below organizes the difference scenario JSONs into a dictionary that will run all JSONs together to get the results for all of the configured files"
   ]
  },
  {
   "cell_type": "code",
   "execution_count": 32,
   "metadata": {},
   "outputs": [
    {
     "data": {
      "text/plain": [
       "\"/Users/bpulluta/.julia/dev/REopt/.bp_local_testing/kenan/results\""
      ]
     },
     "metadata": {},
     "output_type": "display_data"
    }
   ],
   "source": [
    "site_data                               =   data[site]\n",
    "all_scenarios                           =   Dict{String, Vector{Tuple{String, String}}}()\n",
    "\n",
    "for (case, scenarios) in site_data\n",
    "    converted_scenarios =   Vector{Tuple{String, String}}()\n",
    "    for scenario in scenarios\n",
    "        absolute_scenario_path = joinpath(path, scenario[1])\n",
    "        push!(converted_scenarios, (absolute_scenario_path, scenario[2]))\n",
    "    end\n",
    "    all_scenarios[case] =   converted_scenarios\n",
    "end\n",
    "\n",
    "# Initialize variables to hold results\n",
    "reoptsim_results =   []\n",
    "results          =   []\n",
    "# Results directory relative to base path   \n",
    "results_dir      =   joinpath(path, \"results\")\n",
    "\n",
    "# Ensure the results directory exists\n",
    "mkpath(results_dir)"
   ]
  },
  {
   "cell_type": "markdown",
   "metadata": {},
   "source": [
    "### STEP 2: Run REopt (Execute Scenarios) - DO NOT EDIT\n",
    "\n",
    "The cell below either runs the scenarios or loads saved results based on the `rerun_scenarios` flag. It's advisable not to modify this cell unless you know what you're doing."
   ]
  },
  {
   "cell_type": "code",
   "execution_count": 33,
   "metadata": {},
   "outputs": [
    {
     "name": "stdout",
     "output_type": "stream",
     "text": [
      "=========================== Running scenarios for kenan - Case A ===========================\n"
     ]
    },
    {
     "name": "stderr",
     "output_type": "stream",
     "text": [
      "\u001b[36m\u001b[1m┌ REopt | Info: \u001b[22m\u001b[39m\u001b[0mQuerying PVWatts for production factor and ambient air temperature... \n",
      "└ @ REopt /Users/bpulluta/.julia/dev/REopt/src/core/utils.jl:387\n"
     ]
    },
    {
     "name": "stderr",
     "output_type": "stream",
     "text": [
      "\u001b[36m\u001b[1m┌ REopt | Info: \u001b[22m\u001b[39m\u001b[0mPVWatts success.\n",
      "└ @ REopt /Users/bpulluta/.julia/dev/REopt/src/core/utils.jl:393\n"
     ]
    },
    {
     "name": "stdout",
     "output_type": "stream",
     "text": [
      "FICO Xpress v8.12.3, Hyper, solve started 14:37:42, Oct 6, 2023\n",
      "Heap usage: 3821KB (peak 3821KB, 1648KB system)\n",
      "Minimizing LP  with these control settings:\n",
      "OUTPUTLOG = 1\n",
      "MPSNAMELENGTH = 64\n",
      "CALLBACKFROMMASTERTHREAD = 1\n",
      "Original problem has:\n",
      "     17521 rows         8773 cols        26281 elements\n",
      "Presolved problem has:\n",
      "         0 rows            0 cols            0 elements\n",
      "Presolve finished in 0 seconds\n",
      "Heap usage: 3587KB (peak 12MB, 1651KB system)\n",
      " \n",
      "   Its         Obj Value      S   Ninf  Nneg   Sum Dual Inf  Time\n",
      "     0       12271439.12      D      0     0        .000000     0\n",
      "Uncrunching matrix\n",
      "Optimal solution found\n",
      "Dual solved problem\n",
      "  0 simplex iterations in 0.00 seconds at time 0\n",
      "\n",
      "Final objective                       : 1.227143912227140e+07\n",
      "  Max primal violation      (abs/rel) :       0.0 /       0.0\n",
      "  Max dual violation        (abs/rel) :       0.0 /       0.0\n",
      "  Max complementarity viol. (abs/rel) :       0.0 /       0.0\n"
     ]
    },
    {
     "name": "stderr",
     "output_type": "stream",
     "text": [
      "\u001b[36m\u001b[1m┌ REopt | Info: \u001b[22m\u001b[39m\u001b[0mModel built. Optimizing...\n",
      "└ @ REopt /Users/bpulluta/.julia/dev/REopt/src/core/reopt.jl:518\n",
      "\u001b[36m\u001b[1m┌ REopt | Info: \u001b[22m\u001b[39m\u001b[0mREopt solved with \n",
      "│   termination_status(m) = OPTIMAL\n",
      "└ @ REopt /Users/bpulluta/.julia/dev/REopt/src/core/reopt.jl:531\n",
      "\u001b[36m\u001b[1m┌ REopt | Info: \u001b[22m\u001b[39m\u001b[0mSolving took 0.051 seconds.\n",
      "└ @ REopt /Users/bpulluta/.julia/dev/REopt/src/core/reopt.jl:532\n",
      "\u001b[36m\u001b[1m┌ REopt | Info: \u001b[22m\u001b[39m"
     ]
    },
    {
     "name": "stderr",
     "output_type": "stream",
     "text": [
      "\u001b[0mResults processing took 0.57 seconds.\n",
      "└ @ REopt /Users/bpulluta/.julia/dev/REopt/src/core/reopt.jl:537\n"
     ]
    },
    {
     "name": "stderr",
     "output_type": "stream",
     "text": [
      "\u001b[36m\u001b[1m┌ REopt | Info: \u001b[22m\u001b[39m\u001b[0mModel built. Optimizing...\n",
      "└ @ REopt /Users/bpulluta/.julia/dev/REopt/src/core/reopt.jl:518\n"
     ]
    },
    {
     "name": "stdout",
     "output_type": "stream",
     "text": [
      "FICO Xpress v8.12.3, Hyper, solve started 14:37:43, Oct 6, 2023\n",
      "Heap usage: 9016KB (peak 9016KB, 1653KB system)\n",
      "Minimizing LP  with these control settings:\n",
      "OUTPUTLOG = 1\n",
      "MPSNAMELENGTH = 64\n",
      "CALLBACKFROMMASTERTHREAD = 1\n",
      "Original problem has:\n",
      "     35047 rows        26295 cols        69886 elements\n",
      "Presolved problem has:\n",
      "     12840 rows         8573 cols        29960 elements\n",
      "Presolve finished in 0 seconds\n",
      "Heap usage: 10MB (peak 26MB, 1655KB system)\n",
      "\n",
      "Coefficient range                    original                 solved        \n",
      "  Coefficients   [min,max] : [ 8.23e-05,  1.00e+00] / [ 4.22e-02,  4.00e+00]\n",
      "  RHS and bounds [min,max] : [ 6.84e+02,  1.00e+09] / [ 3.42e+02,  5.00e+08]\n",
      "  Objective      [min,max] : [ 1.45e-01,  1.01e+03] / [ 2.38e-03,  2.22e+03]\n",
      "Autoscaling applied Curtis-Reid scaling\n",
      "\n",
      "Crash basis containing 4280 structural columns created\n",
      "Starting parallel dual simplex, using up to 8 threads\n",
      " \n",
      "   Its         Obj Value      S   Ninf  Nneg   Sum Dual Inf  Time\n",
      "     0       8580449.316      D   4280     0        .000000     0\n",
      "  4298       12271439.12      D      0     0        .000000     0\n",
      "Uncrunching matrix\n",
      "Optimal solution found\n",
      "Dual solved problem\n",
      "  4298 simplex iterations in 0.05 seconds at time 0\n",
      "\n",
      "Final objective                       : 1.227143912227139e+07\n",
      "  Max primal violation      (abs/rel) :       0.0 /       0.0\n",
      "  Max dual violation        (abs/rel) :       0.0 /       0.0\n",
      "  Max complementarity viol. (abs/rel) :       0.0 /       0.0\n"
     ]
    },
    {
     "name": "stderr",
     "output_type": "stream",
     "text": [
      "\u001b[36m\u001b[1m┌ REopt | Info: \u001b[22m\u001b[39m\u001b[0mREopt solved with \n",
      "│   termination_status(m) = OPTIMAL\n",
      "└ @ REopt /Users/bpulluta/.julia/dev/REopt/src/core/reopt.jl:531\n",
      "\u001b[36m\u001b[1m┌ REopt | Info: \u001b[22m\u001b[39m\u001b[0mSolving took 0.181 seconds.\n",
      "└ @ REopt /Users/bpulluta/.julia/dev/REopt/src/core/reopt.jl:532\n",
      "\u001b[36m\u001b[1m┌ REopt | Info: \u001b[22m\u001b[39m"
     ]
    },
    {
     "name": "stderr",
     "output_type": "stream",
     "text": [
      "\u001b[0mResults processing took 0.724 seconds.\n",
      "└ @ REopt /Users/bpulluta/.julia/dev/REopt/src/core/reopt.jl:537\n"
     ]
    },
    {
     "name": "stderr",
     "output_type": "stream",
     "text": [
      "\u001b[36m\u001b[1m┌ REopt | Info: \u001b[22m\u001b[39m\u001b[0mQuerying PVWatts for production factor and ambient air temperature... \n",
      "└ @ REopt /Users/bpulluta/.julia/dev/REopt/src/core/utils.jl:387\n"
     ]
    },
    {
     "name": "stderr",
     "output_type": "stream",
     "text": [
      "\u001b[36m\u001b[1m┌ REopt | Info: \u001b[22m\u001b[39m\u001b[0mPVWatts success.\n",
      "└ @ REopt /Users/bpulluta/.julia/dev/REopt/src/core/utils.jl:393\n"
     ]
    },
    {
     "name": "stdout",
     "output_type": "stream",
     "text": [
      "FICO Xpress v8.12.3, Hyper, solve started 14:37:44, Oct 6, 2023\n",
      "Heap usage: 3821KB (peak 3821KB, 1921KB system)\n",
      "Minimizing LP  with these control settings:\n",
      "OUTPUTLOG = 1\n",
      "MPSNAMELENGTH = 64\n",
      "CALLBACKFROMMASTERTHREAD = 1\n",
      "Original problem has:\n",
      "     17521 rows         8773 cols        26281 elements\n",
      "Presolved problem has:\n",
      "         0 rows            0 cols            0 elements\n",
      "Presolve finished in 0 seconds\n",
      "Heap usage: 3587KB (peak 12MB, 1924KB system)\n",
      " \n",
      "   Its         Obj Value      S   Ninf  Nneg   Sum Dual Inf  Time\n",
      "     0       12271439.12      D      0     0        .000000     0\n",
      "Uncrunching matrix\n",
      "Optimal solution found\n",
      "Dual solved problem\n",
      "  0 simplex iterations in 0.00 seconds at time 0\n",
      "\n",
      "Final objective                       : 1.227143912227140e+07\n",
      "  Max primal violation      (abs/rel) :       0.0 /       0.0\n",
      "  Max dual violation        (abs/rel) :       0.0 /       0.0\n",
      "  Max complementarity viol. (abs/rel) :       0.0 /       0.0\n"
     ]
    },
    {
     "name": "stderr",
     "output_type": "stream",
     "text": [
      "\u001b[36m\u001b[1m┌ REopt | Info: \u001b[22m\u001b[39m\u001b[0mModel built. Optimizing...\n",
      "└ @ REopt /Users/bpulluta/.julia/dev/REopt/src/core/reopt.jl:518\n",
      "\u001b[36m\u001b[1m┌ REopt | Info: \u001b[22m\u001b[39m\u001b[0mREopt solved with \n",
      "│   termination_status(m) = OPTIMAL\n",
      "└ @ REopt /Users/bpulluta/.julia/dev/REopt/src/core/reopt.jl:531\n",
      "\u001b[36m\u001b[1m┌ REopt | Info: \u001b[22m\u001b[39m\u001b[0mSolving took 0.05 seconds.\n",
      "└ @ REopt /Users/bpulluta/.julia/dev/REopt/src/core/reopt.jl:532\n",
      "\u001b[36m\u001b[1m┌ REopt | Info: \u001b[22m\u001b[39m"
     ]
    },
    {
     "name": "stderr",
     "output_type": "stream",
     "text": [
      "\u001b[0mResults processing took 0.497 seconds.\n",
      "└ @ REopt /Users/bpulluta/.julia/dev/REopt/src/core/reopt.jl:537\n"
     ]
    },
    {
     "name": "stderr",
     "output_type": "stream",
     "text": [
      "\u001b[36m\u001b[1m┌ REopt | Info: \u001b[22m\u001b[39m\u001b[0mModel built. Optimizing...\n",
      "└ @ REopt /Users/bpulluta/.julia/dev/REopt/src/core/reopt.jl:518\n"
     ]
    },
    {
     "name": "stdout",
     "output_type": "stream",
     "text": [
      "FICO Xpress v8.12.3, Hyper, solve started 14:37:45, Oct 6, 2023\n",
      "Heap usage: 9016KB (peak 9016KB, 1926KB system)\n",
      "Minimizing LP  with these control settings:\n",
      "OUTPUTLOG = 1\n",
      "MPSNAMELENGTH = 64\n",
      "CALLBACKFROMMASTERTHREAD = 1\n",
      "Original problem has:\n",
      "     35047 rows        26295 cols        69886 elements\n",
      "Presolved problem has:\n",
      "     12840 rows         8573 cols        29960 elements\n",
      "Presolve finished in 0 seconds\n",
      "Heap usage: 10MB (peak 26MB, 1928KB system)\n",
      "\n",
      "Coefficient range                    original                 solved        \n",
      "  Coefficients   [min,max] : [ 8.23e-05,  1.00e+00] / [ 4.22e-02,  4.00e+00]\n",
      "  RHS and bounds [min,max] : [ 6.84e+02,  1.00e+09] / [ 3.42e+02,  5.00e+08]\n",
      "  Objective      [min,max] : [ 1.45e-01,  1.01e+03] / [ 2.38e-03,  2.22e+03]\n",
      "Autoscaling applied Curtis-Reid scaling\n",
      "\n",
      "Crash basis containing 4280 structural columns created\n",
      "Starting parallel dual simplex, using up to 8 threads\n",
      " \n",
      "   Its         Obj Value      S   Ninf  Nneg   Sum Dual Inf  Time\n",
      "     0       8580449.316      D   4280     0        .000000     0\n",
      "  4298       12271439.12      D      0     0        .000000     0\n",
      "Uncrunching matrix\n",
      "Optimal solution found\n",
      "Dual solved problem\n",
      "  4298 simplex iterations in 0.05 seconds at time 0\n",
      "\n",
      "Final objective                       : 1.227143912227139e+07\n",
      "  Max primal violation      (abs/rel) :       0.0 /       0.0\n",
      "  Max dual violation        (abs/rel) :       0.0 /       0.0\n",
      "  Max complementarity viol. (abs/rel) :       0.0 /       0.0\n"
     ]
    },
    {
     "name": "stderr",
     "output_type": "stream",
     "text": [
      "\u001b[36m\u001b[1m┌ REopt | Info: \u001b[22m\u001b[39m\u001b[0mREopt solved with \n",
      "│   termination_status(m) = OPTIMAL\n",
      "└ @ REopt /Users/bpulluta/.julia/dev/REopt/src/core/reopt.jl:531\n",
      "\u001b[36m\u001b[1m┌ REopt | Info: \u001b[22m\u001b[39m\u001b[0mSolving took 0.179 seconds.\n",
      "└ @ REopt /Users/bpulluta/.julia/dev/REopt/src/core/reopt.jl:532\n",
      "\u001b[36m\u001b[1m┌ REopt | Info: \u001b[22m\u001b[39m"
     ]
    },
    {
     "name": "stderr",
     "output_type": "stream",
     "text": [
      "\u001b[0mResults processing took 0.714 seconds.\n",
      "└ @ REopt /Users/bpulluta/.julia/dev/REopt/src/core/reopt.jl:537\n"
     ]
    },
    {
     "name": "stderr",
     "output_type": "stream",
     "text": [
      "\u001b[93m\u001b[1m┌ REopt | Warn: \u001b[22m\u001b[39m\u001b[0mDemand rate structure has varying number of tiers in periods. Making the number of tiers the same across all periods by repeating the last tier.\n",
      "└ @ REopt /Users/bpulluta/.julia/dev/REopt/src/core/urdb.jl:339\n",
      "\u001b[36m\u001b[1m┌ REopt | Info: \u001b[22m\u001b[39m\u001b[0mQuerying PVWatts for production factor and ambient air temperature... \n",
      "└ @ REopt /Users/bpulluta/.julia/dev/REopt/src/core/utils.jl:387\n"
     ]
    },
    {
     "name": "stderr",
     "output_type": "stream",
     "text": [
      "\u001b[36m\u001b[1m┌ REopt | Info: \u001b[22m\u001b[39m\u001b[0mPVWatts success.\n",
      "└ @ REopt /Users/bpulluta/.julia/dev/REopt/src/core/utils.jl:393\n"
     ]
    },
    {
     "name": "stdout",
     "output_type": "stream",
     "text": [
      "FICO Xpress v8.12.3, Hyper, solve started 14:37:47, Oct 6, 2023\n",
      "Heap usage: 4292KB (peak 4292KB, 2195KB system)\n",
      "Minimizing MILP  with these control settings:\n",
      "OUTPUTLOG = 1\n",
      "MPSNAMELENGTH = 64\n",
      "CALLBACKFROMMASTERTHREAD = 1\n",
      "Original problem has:\n",
      "     17689 rows         8917 cols        44137 elements        72 globals\n",
      "Presolved problem has:\n",
      "         0 rows            0 cols            0 elements         0 globals\n",
      "LP relaxation tightened\n",
      "Presolve finished in 0 seconds\n",
      "Heap usage: 5408KB (peak 14MB, 2198KB system)\n",
      "Will try to keep branch and bound tree memory usage below 27.3GB\n",
      "Starting concurrent solve with dual\n",
      "\n",
      " Concurrent-Solve,   0s\n",
      "            Dual        \n",
      "    objective   dual inf\n",
      " D  11112040.   .0000000\n",
      "------- optimal --------\n",
      "Concurrent statistics:\n",
      "      Dual: 0 simplex iterations, 0.00s\n",
      "Optimal solution found\n",
      " \n",
      "   Its         Obj Value      S   Ninf  Nneg   Sum Dual Inf  Time\n",
      "     0       11112040.22      D      0     0        .000000     0\n",
      "Dual solved problem\n",
      "  0 simplex iterations in 0.00 seconds at time 0\n",
      "\n",
      "Final objective                       : 1.111204022258759e+07\n",
      "  Max primal violation      (abs/rel) :       0.0 /       0.0\n",
      "  Max dual violation        (abs/rel) :       0.0 /       0.0"
     ]
    },
    {
     "name": "stderr",
     "output_type": "stream",
     "text": [
      "\u001b[93m\u001b[1m┌ REopt | Warn: \u001b[22m\u001b[39m\u001b[0mAdding binary variables to model TOU demand tiers.\n",
      "└ @ REopt /Users/bpulluta/.julia/dev/REopt/src/constraints/electric_utility_constraints.jl:182\n",
      "\u001b[36m\u001b[1m┌ REopt | Info: \u001b[22m\u001b[39m\u001b[0mModel built. Optimizing...\n",
      "└ @ REopt /Users/bpulluta/.julia/dev/REopt/src/core/reopt.jl:518\n"
     ]
    },
    {
     "name": "stdout",
     "output_type": "stream",
     "text": [
      "\n",
      "  Max complementarity viol. (abs/rel) :       0.0 /       0.0\n",
      "\n",
      "Starting root cutting & heuristics\n",
      " \n",
      " Its Type    BestSoln    BestBound   Sols    Add    Del     Gap     GInf   Time\n",
      "*         11112040.22  11112040.22      1                  0.00%       0      0\n"
     ]
    },
    {
     "name": "stdout",
     "output_type": "stream",
     "text": [
      " *** Search completed ***\n",
      "Uncrunching matrix\n",
      "Final MIP objective                   : 1.111204022258759e+07\n",
      "Final MIP bound                       : 1.111204022258759e+07\n",
      "  Solution time / primaldual integral :         0s/ 98.739898%\n",
      "  Number of solutions found / nodes   :         1 /         1\n",
      "  Max primal violation      (abs/rel) :       0.0 /       0.0\n",
      "  Max integer violation     (abs    ) :       0.0\n"
     ]
    },
    {
     "name": "stderr",
     "output_type": "stream",
     "text": [
      "\u001b[36m\u001b[1m┌ REopt | Info: \u001b[22m\u001b[39m\u001b[0mREopt solved with \n",
      "│   termination_status(m) = OPTIMAL\n",
      "└ @ REopt /Users/bpulluta/.julia/dev/REopt/src/core/reopt.jl:531\n",
      "\u001b[36m\u001b[1m┌ REopt | Info: \u001b[22m\u001b[39m\u001b[0mSolving took 0.059 seconds.\n",
      "└ @ REopt /Users/bpulluta/.julia/dev/REopt/src/core/reopt.jl:532\n",
      "\u001b[36m\u001b[1m┌ REopt | Info: \u001b[22m\u001b[39m"
     ]
    },
    {
     "name": "stderr",
     "output_type": "stream",
     "text": [
      "\u001b[0mResults processing took 1.366 seconds.\n",
      "└ @ REopt /Users/bpulluta/.julia/dev/REopt/src/core/reopt.jl:537\n"
     ]
    },
    {
     "name": "stderr",
     "output_type": "stream",
     "text": [
      "\u001b[93m\u001b[1m┌ REopt | Warn: \u001b[22m\u001b[39m\u001b[0mAdding binary variables to model TOU demand tiers.\n",
      "└ @ REopt /Users/bpulluta/.julia/dev/REopt/src/constraints/electric_utility_constraints.jl:182\n",
      "\u001b[36m\u001b[1m┌ REopt | Info: \u001b[22m\u001b[39m"
     ]
    },
    {
     "name": "stderr",
     "output_type": "stream",
     "text": [
      "\u001b[0mModel built. Optimizing...\n",
      "└ @ REopt /Users/bpulluta/.julia/dev/REopt/src/core/reopt.jl:518\n"
     ]
    },
    {
     "name": "stdout",
     "output_type": "stream",
     "text": [
      "FICO Xpress v8.12.3, Hyper, solve started 14:37:49, Oct 6, 2023\n",
      "Heap usage: 26MB (peak 26MB, 691KB system)\n",
      "Minimizing MILP  with these control settings:\n",
      "OUTPUTLOG = 1\n",
      "MPSNAMELENGTH = 64\n",
      "CALLBACKFROMMASTERTHREAD = 1\n",
      "Original problem has:\n",
      "     96540 rows        61482 cols       297980 elements        72 globals\n"
     ]
    },
    {
     "name": "stdout",
     "output_type": "stream",
     "text": [
      "Presolved problem has:\n",
      "     46630 rows        29113 cols       208910 elements        48 globals\n",
      "Presolve finished in 0 seconds\n",
      "Heap usage: 47MB (peak 91MB, 694KB system)\n",
      "\n",
      "Coefficient range                    original                 solved        \n",
      "  Coefficients   [min,max] : [ 3.58e-05,  1.00e+08] / [ 1.53e-05,  1.53e+03]\n",
      "  RHS and bounds [min,max] : [ 1.00e+00,  1.00e+09] / [ 1.00e+00,  2.50e+08]\n",
      "  Objective      [min,max] : [ 1.14e-04,  1.01e+03] / [ 2.28e-04,  3.28e+03]\n",
      "Autoscaling applied standard scaling\n",
      "\n",
      "Will try to keep branch and bound tree memory usage below 26.9GB\n",
      "Starting concurrent solve with dual, primal and barrier (8 threads)\n"
     ]
    },
    {
     "name": "stdout",
     "output_type": "stream",
     "text": [
      "\n",
      "                           Concurrent-Solve,   0s\n",
      "            Dual                      Primal                     Barrier      \n",
      "    objective   dual inf       objective   sum inf         p.obj.     d.obj.  \n",
      " D  10717147.   .0000000 |  p  1.734E+09   .0000000 |  B -9.455E+10  9.174E+09\n",
      " D  10941192.   .0000000 |  p  11112040.   .0000000 |  B  10451655.  11834320."
     ]
    },
    {
     "name": "stdout",
     "output_type": "stream",
     "text": [
      "\n",
      " D  11023547.   .0000000 |  p  11112040.   .0000000 |  B  11061841.  11145103."
     ]
    },
    {
     "name": "stdout",
     "output_type": "stream",
     "text": [
      "\n",
      " D  11047715.   .0000000 |  p  11112040.   .0000000 |  B  11108403.  11109497."
     ]
    },
    {
     "name": "stdout",
     "output_type": "stream",
     "text": [
      "\n",
      "----- interrupted ------ | ----- interrupted ------ | ------- optimal --------"
     ]
    },
    {
     "name": "stdout",
     "output_type": "stream",
     "text": [
      "\n",
      "Concurrent statistics:\n",
      "      Dual: 11830 simplex iterations, 0.90s\n",
      "    Primal: 4825 simplex iterations, 0.89s\n",
      "   Barrier: 53 barrier and 897 simplex iterations, 0.89s\n",
      "            Barrier used 8 threads 8 cores, L1\\L2 cache: 64K\\4096K\n",
      "            Barrier used SSE2 support, crossover used 8 threads\n",
      "Optimal solution found\n",
      " \n",
      "   Its         Obj Value      S   Ninf  Nneg        Sum Inf  Time\n",
      "     0       11108975.64      P      0     0        .000000     1\n",
      "Barrier solved problem\n",
      "  53 barrier and 897 simplex iterations in 0.90 seconds at time 1\n",
      "\n",
      "Final objective                       : 1.110897564230890e+07\n",
      "  Max primal violation      (abs/rel) : 1.350e-13 / 1.280e-13\n",
      "  Max dual violation        (abs/rel) : 1.164e-10 / 7.629e-14\n",
      "  Max complementarity viol. (abs/rel) :       0.0 /       0.0\n",
      "High attention level predicted from matrix features\n",
      "\n",
      "Starting root cutting & heuristics\n",
      " \n",
      " Its Type    BestSoln    BestBound   Sols    Add    Del     Gap     GInf   Time\n",
      "c         11108975.64  11108975.64      1                 -0.00%       0      1"
     ]
    },
    {
     "name": "stdout",
     "output_type": "stream",
     "text": [
      "\n"
     ]
    },
    {
     "name": "stdout",
     "output_type": "stream",
     "text": [
      " *** Search completed ***\n",
      "Uncrunching matrix\n",
      "Final MIP objective                   : 1.110897564230845e+07\n",
      "Final MIP bound                       : 1.110897564230890e+07\n",
      "  Solution time / primaldual integral :         1s/ 99.952425%\n",
      "  Number of solutions found / nodes   :         1 /         1\n",
      "  Max primal violation      (abs/rel) : 3.908e-13 / 3.908e-13\n",
      "  Max integer violation     (abs    ) :       0.0\n"
     ]
    },
    {
     "name": "stderr",
     "output_type": "stream",
     "text": [
      "\u001b[36m\u001b[1m┌ REopt | Info: \u001b[22m\u001b[39m\u001b[0mREopt solved with \n",
      "│   termination_status(m) = OPTIMAL\n",
      "└ @ REopt /Users/bpulluta/.julia/dev/REopt/src/core/reopt.jl:531\n",
      "\u001b[36m\u001b[1m┌ REopt | Info: \u001b[22m\u001b[39m\u001b[0mSolving took 1.874 seconds.\n",
      "└ @ REopt /Users/bpulluta/.julia/dev/REopt/src/core/reopt.jl:532\n",
      "\u001b[36m\u001b[1m┌ REopt | Info: \u001b[22m\u001b[39m"
     ]
    },
    {
     "name": "stderr",
     "output_type": "stream",
     "text": [
      "\u001b[0mResults processing took 0.717 seconds.\n",
      "└ @ REopt /Users/bpulluta/.julia/dev/REopt/src/core/reopt.jl:537\n"
     ]
    },
    {
     "name": "stderr",
     "output_type": "stream",
     "text": [
      "\u001b[93m\u001b[1m┌ REopt | Warn: \u001b[22m\u001b[39m\u001b[0mDemand rate structure has varying number of tiers in periods. Making the number of tiers the same across all periods by repeating the last tier.\n",
      "└ @ REopt /Users/bpulluta/.julia/dev/REopt/src/core/urdb.jl:339\n",
      "\u001b[36m\u001b[1m┌ REopt | Info: \u001b[22m\u001b[39m\u001b[0mQuerying PVWatts for production factor and ambient air temperature... \n",
      "└ @ REopt /Users/bpulluta/.julia/dev/REopt/src/core/utils.jl:387\n"
     ]
    },
    {
     "name": "stderr",
     "output_type": "stream",
     "text": [
      "\u001b[36m\u001b[1m┌ REopt | Info: \u001b[22m\u001b[39m\u001b[0mPVWatts success.\n",
      "└ @ REopt /Users/bpulluta/.julia/dev/REopt/src/core/utils.jl:393\n"
     ]
    },
    {
     "name": "stdout",
     "output_type": "stream",
     "text": [
      "FICO Xpress v8.12.3, Hyper, solve started 14:37:52, Oct 6, 2023\n",
      "Heap usage: 6213KB (peak 6213KB, 962KB system)\n",
      "Minimizing MILP  with these control settings:\n",
      "OUTPUTLOG = 1\n",
      "MPSNAMELENGTH = 64\n",
      "CALLBACKFROMMASTERTHREAD = 1\n",
      "Original problem has:\n",
      "     26473 rows         8929 cols        61705 elements        72 globals\n"
     ]
    },
    {
     "name": "stderr",
     "output_type": "stream",
     "text": [
      "\u001b[93m\u001b[1m┌ REopt | Warn: \u001b[22m\u001b[39m\u001b[0mAdding binary variables to model TOU demand tiers.\n",
      "└ @ REopt /Users/bpulluta/.julia/dev/REopt/src/constraints/electric_utility_constraints.jl:182\n",
      "\u001b[36m\u001b[1m┌ REopt | Info: \u001b[22m\u001b[39m\u001b[0mModel built. Optimizing...\n",
      "└ @ REopt /Users/bpulluta/.julia/dev/REopt/src/core/reopt.jl:518\n"
     ]
    },
    {
     "name": "stdout",
     "output_type": "stream",
     "text": [
      "Presolved problem has:\n",
      "        24 rows           13 cols           48 elements         0 globals\n",
      "LP relaxation tightened\n",
      "Presolve finished in 0 seconds\n",
      "Heap usage: 7557KB (peak 21MB, 964KB system)\n",
      "\n",
      "Coefficient range                    original                 solved        \n",
      "  Coefficients   [min,max] : [ 5.00e-01,  1.00e+08] / [ 5.00e-01,  1.00e+00]\n",
      "  RHS and bounds [min,max] : [ 1.00e+00,  4.90e+03] / [ 3.80e+03,  4.90e+03]\n",
      "  Objective      [min,max] : [ 8.30e-02,  1.12e+02] / [ 9.57e+00,  9.57e+00]\n",
      "Autoscaling applied standard scaling\n",
      "\n",
      "Will try to keep branch and bound tree memory usage below 26.9GB\n",
      "Starting concurrent solve with dual\n",
      "\n",
      " Concurrent-Solve,   0s\n",
      "            Dual        \n",
      "    objective   dual inf\n",
      " D  9206948.1   .0000000\n",
      "------- optimal --------\n",
      "Concurrent statistics:\n",
      "      Dual: 1 simplex iterations, 0.00s\n",
      "Optimal solution found\n",
      " \n",
      "   Its         Obj Value      S   Ninf  Nneg   Sum Dual Inf  Time\n",
      "     1       9206948.078      D      0     0        .000000     0\n",
      "Dual solved problem\n",
      "  1 simplex iterations in 0.00 seconds at time 0\n",
      "\n",
      "Final objective                       : 9.206948078055875e+06\n",
      "  Max primal violation      (abs/rel) :       0.0 /       0.0\n",
      "  Max dual violation        (abs/rel) :       0.0 /       0.0\n",
      "  Max complementarity viol. (abs/rel) :       0.0 /       0.0\n",
      "\n",
      "Starting root cutting & heuristics\n",
      " \n",
      " Its Type    BestSoln    BestBound   Sols    Add    Del     Gap     GInf   Time\n",
      "c         9206948.078  9206948.078      1                  0.00%       0      0\n"
     ]
    },
    {
     "name": "stdout",
     "output_type": "stream",
     "text": [
      " *** Search completed ***\n",
      "Uncrunching matrix\n",
      "Final MIP objective                   : 9.206948078055875e+06\n",
      "Final MIP bound                       : 9.206948078055875e+06\n",
      "  Solution time / primaldual integral :         0s/ 98.979149%\n",
      "  Number of solutions found / nodes   :         1 /         1\n",
      "  Max primal violation      (abs/rel) :       0.0 /       0.0\n",
      "  Max integer violation     (abs    ) :       0.0\n"
     ]
    },
    {
     "name": "stderr",
     "output_type": "stream",
     "text": [
      "\u001b[36m\u001b[1m┌ REopt | Info: \u001b[22m\u001b[39m\u001b[0mREopt solved with \n",
      "│   termination_status(m) = OPTIMAL\n",
      "└ @ REopt /Users/bpulluta/.julia/dev/REopt/src/core/reopt.jl:531\n",
      "\u001b[36m\u001b[1m┌ REopt | Info: \u001b[22m\u001b[39m\u001b[0mSolving took 0.076 seconds.\n",
      "└ @ REopt /Users/bpulluta/.julia/dev/REopt/src/core/reopt.jl:532\n",
      "\u001b[36m\u001b[1m┌ REopt | Info: \u001b[22m\u001b[39m"
     ]
    },
    {
     "name": "stderr",
     "output_type": "stream",
     "text": [
      "\u001b[0mResults processing took 0.515 seconds.\n",
      "└ @ REopt /Users/bpulluta/.julia/dev/REopt/src/core/reopt.jl:537\n"
     ]
    },
    {
     "name": "stderr",
     "output_type": "stream",
     "text": [
      "\u001b[93m\u001b[1m┌ REopt | Warn: \u001b[22m\u001b[39m\u001b[0mAdding binary variables to model TOU demand tiers.\n",
      "└ @ REopt /Users/bpulluta/.julia/dev/REopt/src/constraints/electric_utility_constraints.jl:182\n",
      "\u001b[36m\u001b[1m┌ REopt | Info: \u001b[22m\u001b[39m"
     ]
    },
    {
     "name": "stderr",
     "output_type": "stream",
     "text": [
      "\u001b[0mModel built. Optimizing...\n",
      "└ @ REopt /Users/bpulluta/.julia/dev/REopt/src/core/reopt.jl:518\n"
     ]
    },
    {
     "name": "stdout",
     "output_type": "stream",
     "text": [
      "FICO Xpress v8.12.3, Hyper, solve started 14:37:54, Oct 6, 2023\n",
      "Heap usage: 26MB (peak 26MB, 968KB system)\n",
      "Minimizing MILP  with these control settings:\n",
      "OUTPUTLOG = 1\n",
      "MPSNAMELENGTH = 64\n",
      "CALLBACKFROMMASTERTHREAD = 1\n",
      "Original problem has:\n",
      "    105324 rows        61494 cols       315548 elements        72 globals\n"
     ]
    },
    {
     "name": "stdout",
     "output_type": "stream",
     "text": [
      "Presolved problem has:\n",
      "     52539 rows        31795 cols       212039 elements        24 globals\n",
      "Presolve finished in 0 seconds\n",
      "Heap usage: 48MB (peak 92MB, 971KB system)\n",
      "\n",
      "Coefficient range                    original                 solved        \n",
      "  Coefficients   [min,max] : [ 3.58e-05,  1.00e+08] / [ 1.53e-05,  1.53e+03]\n",
      "  RHS and bounds [min,max] : [ 1.00e+00,  1.00e+09] / [ 1.00e+00,  3.00e+08]\n",
      "  Objective      [min,max] : [ 1.14e-04,  1.01e+03] / [ 1.08e-04,  4.21e+03]\n",
      "Autoscaling applied standard scaling\n",
      "\n",
      "Will try to keep branch and bound tree memory usage below 26.9GB\n",
      "Starting concurrent solve with dual, primal and barrier (8 threads)\n"
     ]
    },
    {
     "name": "stdout",
     "output_type": "stream",
     "text": [
      "\n",
      "                           Concurrent-Solve,   0s\n",
      "            Dual                      Primal                     Barrier      \n",
      "    objective   dual inf       objective   sum inf         p.obj.     d.obj.  \n",
      " D  5291947.3   .0000000 |  p  1.293E+11  4274683.9 |  B -1.371E+12  1.586E+10\n",
      " D  6838477.9   .0000000 |  p  13614017.   .0000000 |  B  5996874.3  11326710."
     ]
    },
    {
     "name": "stdout",
     "output_type": "stream",
     "text": [
      "\n",
      " D  7978603.4   .0000000 |  p  13614017.   .0000000 |  B  8981249.0  9277709.6"
     ]
    },
    {
     "name": "stdout",
     "output_type": "stream",
     "text": [
      "\n",
      " D  8003754.2   .0000000 |  p  13614017.   .0000000 |  B  9194807.0  9206008.2"
     ]
    },
    {
     "name": "stdout",
     "output_type": "stream",
     "text": [
      "\n",
      " D  8150260.4   .0000000 |  p  13614017.   .0000000 |           crossover     "
     ]
    },
    {
     "name": "stdout",
     "output_type": "stream",
     "text": [
      "\n",
      "----- interrupted ------ | ----- interrupted ------ | ------- optimal --------"
     ]
    },
    {
     "name": "stdout",
     "output_type": "stream",
     "text": [
      "\n",
      "Concurrent statistics:\n",
      "      Dual: 18280 simplex iterations, 1.16s\n",
      "    Primal: 6786 simplex iterations, 1.16s\n",
      "   Barrier: 61 barrier and 4641 simplex iterations, 1.16s\n",
      "            Barrier used 8 threads 8 cores, L1\\L2 cache: 64K\\4096K\n",
      "            Barrier used SSE2 support, crossover used 8 threads\n",
      "Optimal solution found\n",
      " \n",
      "   Its         Obj Value      S   Ninf  Nneg        Sum Inf  Time\n",
      "   260       9202134.406      P      0     0        .000000     1\n",
      "Barrier solved problem\n",
      "  61 barrier and 4641 simplex iterations in 1.17 seconds at time 1\n",
      "\n",
      "Final objective                       : 9.202134406139664e+06\n",
      "  Max primal violation      (abs/rel) : 4.547e-13 / 2.308e-13\n",
      "  Max dual violation        (abs/rel) : 1.863e-09 / 1.221e-12\n",
      "  Max complementarity viol. (abs/rel) :       0.0 /       0.0\n",
      "High attention level predicted from matrix features\n",
      "\n",
      "Starting root cutting & heuristics\n",
      " \n",
      " Its Type    BestSoln    BestBound   Sols    Add    Del     Gap     GInf   Time\n",
      "c         9202134.406  9202134.406      1                  0.00%       0      2"
     ]
    },
    {
     "name": "stdout",
     "output_type": "stream",
     "text": [
      "\n"
     ]
    },
    {
     "name": "stdout",
     "output_type": "stream",
     "text": [
      " *** Search completed ***\n",
      "Uncrunching matrix\n",
      "Final MIP objective                   : 9.202134406139705e+06\n",
      "Final MIP bound                       : 9.202134406139664e+06\n",
      "  Solution time / primaldual integral :         2s/ 99.966994%\n",
      "  Number of solutions found / nodes   :         1 /         1\n",
      "  Max primal violation      (abs/rel) : 4.157e-13 / 4.157e-13\n",
      "  Max integer violation     (abs    ) :       0.0\n"
     ]
    },
    {
     "name": "stderr",
     "output_type": "stream",
     "text": [
      "\u001b[36m\u001b[1m┌ REopt | Info: \u001b[22m\u001b[39m\u001b[0mREopt solved with \n",
      "│   termination_status(m) = OPTIMAL\n",
      "└ @ REopt /Users/bpulluta/.julia/dev/REopt/src/core/reopt.jl:531\n",
      "\u001b[36m\u001b[1m┌ REopt | Info: \u001b[22m\u001b[39m\u001b[0mSolving took 2.566 seconds.\n",
      "└ @ REopt /Users/bpulluta/.julia/dev/REopt/src/core/reopt.jl:532\n",
      "\u001b[36m\u001b[1m┌ REopt | Info: \u001b[22m\u001b[39m"
     ]
    },
    {
     "name": "stderr",
     "output_type": "stream",
     "text": [
      "\u001b[0mResults processing took 0.696 seconds.\n",
      "└ @ REopt /Users/bpulluta/.julia/dev/REopt/src/core/reopt.jl:537\n"
     ]
    }
   ],
   "source": [
    "if rerun_scenarios\n",
    "    all_results =   Dict()\n",
    "    for (case, scenarios) in all_scenarios\n",
    "        println(\"=========================== Running scenarios for $site - Case $case ===========================\")\n",
    "        reoptsim_results, results =   run_and_get_results(scenarios, case, results_dir);\n",
    "        all_results[case]         =   (reoptsim_results, results)\n",
    "    end\n",
    "else\n",
    "    all_results =   Dict()\n",
    "    for case in keys(all_scenarios)\n",
    "        println(\"=========================== Loading Results for $site - Case $case ===========================\")\n",
    "        reoptsim_results  =   deserialize(open(joinpath(results_dir, \"$case-reopt_results.bin\"), \"r\"))\n",
    "        results           =   deserialize(open(joinpath(results_dir, \"$case-results.bin\"), \"r\"))\n",
    "        all_results[case] =   (reoptsim_results, results)\n",
    "    end\n",
    "end"
   ]
  },
  {
   "cell_type": "markdown",
   "metadata": {},
   "source": [
    "### STEP 3: Process Results - DO NOT EDIT\n",
    "\n",
    "The cell below processes the results to create visualization and data charts"
   ]
  },
  {
   "cell_type": "code",
   "execution_count": 34,
   "metadata": {},
   "outputs": [
    {
     "name": "stdout",
     "output_type": "stream",
     "text": [
      "=========================== Processing results for kenan - Case A ===========================\n"
     ]
    },
    {
     "name": "stderr",
     "output_type": "stream",
     "text": [
      "\u001b[36m\u001b[1m┌ REopt | Info: \u001b[22m\u001b[39m\u001b[0mQuerying PVWatts for production factor and ambient air temperature... \n",
      "└ @ REopt /Users/bpulluta/.julia/dev/REopt/src/core/utils.jl:387\n"
     ]
    },
    {
     "name": "stderr",
     "output_type": "stream",
     "text": [
      "\u001b[36m\u001b[1m┌ REopt | Info: \u001b[22m\u001b[39m\u001b[0mPVWatts success.\n",
      "└ @ REopt /Users/bpulluta/.julia/dev/REopt/src/core/utils.jl:393\n",
      "\u001b[93m\u001b[1m┌ Main | Warn: \u001b[22m\u001b[39m"
     ]
    },
    {
     "name": "stderr",
     "output_type": "stream",
     "text": [
      "\u001b[0mprob_dict is empty!\n",
      "└ @ Main /Users/bpulluta/.julia/dev/REopt/.bp_local_testing/reopt_plotting.jl:463\n"
     ]
    },
    {
     "name": "stderr",
     "output_type": "stream",
     "text": [
      "\u001b[36m\u001b[1m┌ REopt | Info: \u001b[22m\u001b[39m\u001b[0mQuerying PVWatts for production factor and ambient air temperature... \n",
      "└ @ REopt /Users/bpulluta/.julia/dev/REopt/src/core/utils.jl:387\n"
     ]
    },
    {
     "name": "stderr",
     "output_type": "stream",
     "text": [
      "\u001b[36m\u001b[1m┌ REopt | Info: \u001b[22m\u001b[39m\u001b[0mPVWatts success.\n",
      "└ @ REopt /Users/bpulluta/.julia/dev/REopt/src/core/utils.jl:393\n",
      "\u001b[93m\u001b[1m┌ Main | Warn: \u001b[22m\u001b[39m"
     ]
    },
    {
     "name": "stderr",
     "output_type": "stream",
     "text": [
      "\u001b[0mprob_dict is empty!\n",
      "└ @ Main /Users/bpulluta/.julia/dev/REopt/.bp_local_testing/reopt_plotting.jl:463\n"
     ]
    },
    {
     "name": "stderr",
     "output_type": "stream",
     "text": [
      "\u001b[93m\u001b[1m┌ REopt | Warn: \u001b[22m\u001b[39m\u001b[0mDemand rate structure has varying number of tiers in periods. Making the number of tiers the same across all periods by repeating the last tier.\n",
      "└ @ REopt /Users/bpulluta/.julia/dev/REopt/src/core/urdb.jl:339\n",
      "\u001b[36m\u001b[1m┌ REopt | Info: \u001b[22m\u001b[39m\u001b[0mQuerying PVWatts for production factor and ambient air temperature... \n",
      "└ @ REopt /Users/bpulluta/.julia/dev/REopt/src/core/utils.jl:387\n"
     ]
    },
    {
     "name": "stderr",
     "output_type": "stream",
     "text": [
      "\u001b[36m\u001b[1m┌ REopt | Info: \u001b[22m\u001b[39m\u001b[0mPVWatts success.\n",
      "└ @ REopt /Users/bpulluta/.julia/dev/REopt/src/core/utils.jl:393\n"
     ]
    },
    {
     "name": "stdout",
     "output_type": "stream",
     "text": [
      "================================================================================================================\n",
      "Maximum Fuel Used (gallons): 0.0\n",
      "Minimum Fuel Used (gallons): 0.0\n",
      "================================================================================================================\n"
     ]
    },
    {
     "name": "stderr",
     "output_type": "stream",
     "text": [
      "\u001b[93m\u001b[1m┌ REopt | Warn: \u001b[22m\u001b[39m\u001b[0mDemand rate structure has varying number of tiers in periods. Making the number of tiers the same across all periods by repeating the last tier.\n",
      "└ @ REopt /Users/bpulluta/.julia/dev/REopt/src/core/urdb.jl:339\n",
      "\u001b[36m\u001b[1m┌ REopt | Info: \u001b[22m\u001b[39m\u001b[0mQuerying PVWatts for production factor and ambient air temperature... \n",
      "└ @ REopt /Users/bpulluta/.julia/dev/REopt/src/core/utils.jl:387\n"
     ]
    },
    {
     "name": "stdout",
     "output_type": "stream",
     "text": [
      "================================================================================================================\n",
      "Maximum Fuel Used (gallons): 0.0\n",
      "Minimum Fuel Used (gallons): 0.0\n",
      "================================================================================================================\n"
     ]
    },
    {
     "name": "stderr",
     "output_type": "stream",
     "text": [
      "\u001b[36m\u001b[1m┌ REopt | Info: \u001b[22m\u001b[39m\u001b[0mPVWatts success.\n",
      "└ @ REopt /Users/bpulluta/.julia/dev/REopt/src/core/utils.jl:393\n"
     ]
    }
   ],
   "source": [
    "for (case, scenarios) in all_scenarios  # Changed from all_scenarios\n",
    "    reoptsim_results, results =   all_results[case]\n",
    "    curr_gen_size = get(reoptsim_results[1], \"Generator\", Dict(\"size_kw\" => 0))[\"size_kw\"] #workaround for existing generator comparison\n",
    "    println(\"=========================== Processing results for $site - Case $case ===========================\")\n",
    "    post_process_results(site, scenarios, reoptsim_results, results, case, results_dir,curr_gen_size)\n",
    "end"
   ]
  },
  {
   "cell_type": "markdown",
   "metadata": {},
   "source": [
    "### STEP 4: Get Pretty Plots\n",
    "\n",
    "The cells below can be modified to include difference variables that might be interesting to compare against different scenarios."
   ]
  },
  {
   "cell_type": "code",
   "execution_count": 15,
   "metadata": {},
   "outputs": [
    {
     "name": "stdout",
     "output_type": "stream",
     "text": [
      "===========================Plotting charts for Y12 - Case 240===========================\n"
     ]
    },
    {
     "name": "stdout",
     "output_type": "stream",
     "text": [
      "===========================Plotting charts for Y12 - Case 245===========================\n"
     ]
    },
    {
     "name": "stdout",
     "output_type": "stream",
     "text": [
      "===========================Plotting charts for Y12 - Case Combo===========================\n"
     ]
    }
   ],
   "source": [
    "# Define the columns and scenarios you are interested in\n",
    "columns = [\n",
    "    \"PV Size (kW-DC)\",\n",
    "    \"Battery Size (kW)\",\n",
    "    \"Battery Capacity (kWh)\",\n",
    "    # \"Current Gen. Capacity (kW)\",\n",
    "    # \"Add-on Gen. Capacity (kW)\",\n",
    "    \"Net Present Value (\\$)\",\n",
    "    \"Payback Period (Years)\",\n",
    "    \"Lifecycle CO2 Reduction (%)\",\n",
    "    \"Capital Cost (\\$)\"\n",
    "]\n",
    "\n",
    "# select the scenarios for comparison, 1 is BAU\n",
    "selected_scenarios =   [2, 3]\n",
    "\n",
    "# Now you can loop through all your cases and plot the charts\n",
    "for (case, scenarios) in all_scenarios\n",
    "    # Call the plot function for each case\n",
    "    println(\"=========================== Plotting charts for $site - Case $case ===========================\")\n",
    "\n",
    "    plot_bar_charts(path, site, selected_scenarios, case, columns)\n",
    "end\n"
   ]
  }
 ],
 "metadata": {
  "kernelspec": {
   "display_name": "Julia 1.8.4",
   "language": "julia",
   "name": "julia-1.8"
  },
  "language_info": {
   "file_extension": ".jl",
   "mimetype": "application/julia",
   "name": "julia",
   "version": "1.8.4"
  },
  "orig_nbformat": 4
 },
 "nbformat": 4,
 "nbformat_minor": 2
}
