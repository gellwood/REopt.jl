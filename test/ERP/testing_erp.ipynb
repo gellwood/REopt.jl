{
 "cells": [
  {
   "cell_type": "code",
   "execution_count": 1,
   "metadata": {},
   "outputs": [
    {
     "name": "stderr",
     "output_type": "stream",
     "text": [
      "┌ Info: Xpress: Found license file /Applications/FICO Xpress/Xpress Workbench.app/Contents/Resources/xpressmp/bin/xpauth.xpr\n",
      "└ @ Xpress /Users/bpulluta/.julia/packages/Xpress/IPJtC/src/license.jl:44\n",
      "┌ Info: Xpress: Development license detected.\n",
      "└ @ Xpress /Users/bpulluta/.julia/packages/Xpress/IPJtC/src/license.jl:89\n"
     ]
    },
    {
     "name": "stderr",
     "output_type": "stream",
     "text": [
      "WARNING: redefinition of constant UNIT_FORMATS. This may fail, cause incorrect answers, or produce other errors.\n"
     ]
    }
   ],
   "source": [
    "# using Pkg     ####use this if you are getting errors\n",
    "# Pkg.instantiate()\n",
    "using Revise, Xpress, JuMP, REopt, CSV, Plots, DataFrames, Statistics, JSON, StatsBase"
   ]
  },
  {
   "cell_type": "markdown",
   "metadata": {},
   "source": [
    "### Comments\n",
    "\n",
    "-  1) add output of max and min fuel used\n",
    "-  2) ensure that battery is charging generator to ensure more resilience\n",
    "-  3) fuel accounting needs to be rethought, it doesn't make sense that we are leaving fuel to be unlimited since we have cost and limits on site associated with those variables. It might be better to program in fuel based on size of generator or max consumption\n",
    "-  4) Maybe make generator size a variable of 10 and place ceiling\n",
    "-  5) Output critical_loads \n",
    "-  6) increasing the gen size only slightly will cause it to be infeasible\n",
    "-  7) Might be good to get the entire year survival stats rather than just a few to get a good idea of the probability throughout the year\n"
   ]
  },
  {
   "cell_type": "markdown",
   "metadata": {},
   "source": [
    "## Code Begins"
   ]
  },
  {
   "cell_type": "markdown",
   "metadata": {},
   "source": [
    "### Function to get key reopt results"
   ]
  },
  {
   "cell_type": "code",
   "execution_count": 4,
   "metadata": {},
   "outputs": [
    {
     "data": {
      "text/plain": [
       "summarize_reopt_results (generic function with 1 method)"
      ]
     },
     "metadata": {},
     "output_type": "display_data"
    }
   ],
   "source": [
    "function summarize_reopt_results(reopt_response)\n",
    "    # Adjusting for the Financial details\n",
    "    println(\"LCC (\\$) = \", get(reopt_response[\"Financial\"], \"lcc\", \"N/A\"))\n",
    "    println(\"Capital Cost, Net (\\$) = \", get(reopt_response[\"Financial\"], \"lifecycle_capital_costs\", \"N/A\"))\n",
    "    println(\"Lifecycle Emission Tons (CO2) = \", get(reopt_response[\"Site\"], \"lifecycle_emissions_tonnes_CO2\", \"N/A\"))\n",
    "    println(\"NPV (\\$) = \", get(reopt_response[\"Financial\"], \"npv\", \"N/A\"))\n",
    "    println(\"LCOE (\\$/kWh) = \", get(reopt_response[\"PV\"], \"lcoe_per_kwh\", \"N/A\"))\n",
    "\n",
    "    tech_list = [\"PV\", \"Wind\", \"ElectricStorage\", \"CHP\", \"Generator\", \"HotThermalStorage\",\n",
    "        \"ColdThermalStorage\", \"AbsorptionChiller\", \"GHP\", \"NewBoiler\", \"SteamTurbine\"]\n",
    "\n",
    "    for tech in tech_list\n",
    "        if haskey(reopt_response, tech)\n",
    "            if tech ==   \"GHP\"\n",
    "                # Adjusting for GHP details\n",
    "                println(\"GHX Number of Boreholes = \", get(reopt_response[tech][\"ghpghx_chosen_outputs\"], \"number_of_boreholes\", \"N/A\"))\n",
    "                println(\"GHP Heat Pump Capacity (ton) = \", get(reopt_response[tech][\"ghpghx_chosen_outputs\"], \"peak_combined_heatpump_thermal_ton\", \"N/A\"))\n",
    "            end\n",
    "            # Extract sizes for each technology\n",
    "            for (key, value) in reopt_response[tech]\n",
    "                if occursin(\"size\", key)\n",
    "                    println(\"$(tech) $(key) = $(value)\")\n",
    "                end\n",
    "            end\n",
    "        end\n",
    "    end\n",
    "end"
   ]
  },
  {
   "cell_type": "markdown",
   "metadata": {},
   "source": [
    "### BASE CASE"
   ]
  },
  {
   "cell_type": "code",
   "execution_count": 5,
   "metadata": {},
   "outputs": [
    {
     "name": "stderr",
     "output_type": "stream",
     "text": [
      "\u001b[93m\u001b[1m┌ REopt | Warn: \u001b[22m\u001b[39m\u001b[0mWhen using stochastic outage modeling (i.e. outage_start_time_steps, outage_durations, outage_probabilities), \n",
      "│                     emissions and renewable energy percentage calculations and constraints do not consider outages.\n",
      "└ @ "
     ]
    },
    {
     "name": "stderr",
     "output_type": "stream",
     "text": [
      "REopt /Users/bpulluta/.julia/dev/REopt/src/core/electric_utility.jl:199\n"
     ]
    },
    {
     "name": "stderr",
     "output_type": "stream",
     "text": [
      "\u001b[36m\u001b[1m┌ REopt | Info: \u001b[22m\u001b[39m\u001b[0mQuerying PVWatts for production factor and ambient air temperature... \n",
      "└ @ REopt /Users/bpulluta/.julia/dev/REopt/src/core/utils.jl:414\n"
     ]
    },
    {
     "name": "stderr",
     "output_type": "stream",
     "text": [
      "\u001b[36m\u001b[1m┌ REopt | Info: \u001b[22m\u001b[39m\u001b[0mPVWatts success.\n",
      "└ @ REopt /Users/bpulluta/.julia/dev/REopt/src/core/utils.jl:420\n"
     ]
    },
    {
     "name": "stderr",
     "output_type": "stream",
     "text": [
      "\u001b[93m\u001b[1m┌ REopt | Warn: \u001b[22m\u001b[39m\u001b[0mAdding binary variable to model outages. Some solvers are very slow with integer variables\n",
      "└ @ REopt /Users/bpulluta/.julia/dev/REopt/src/core/reopt.jl:642\n",
      "\u001b[36m\u001b[1m┌ REopt | Info: \u001b[22m\u001b[39m"
     ]
    },
    {
     "name": "stderr",
     "output_type": "stream",
     "text": [
      "\u001b[0mModel built. Optimizing...\n",
      "└ @ REopt /Users/bpulluta/.julia/dev/REopt/src/core/reopt.jl:541\n"
     ]
    },
    {
     "name": "stdout",
     "output_type": "stream",
     "text": [
      "FICO Xpress v8.12.3, Hyper, solve started 11:03:45, Sep 15, 2023\n",
      "Heap usage: 5043KB (peak 5043KB, 559KB system)\n",
      "Minimizing MILP  with these control settings:\n",
      "OUTPUTLOG = 1\n",
      "MPSNAMELENGTH = 64\n",
      "CALLBACKFROMMASTERTHREAD = 1\n",
      "Original problem has:\n",
      "     19541 rows        11306 cols        28805 elements      1009 globals\n",
      "         1 inds\n",
      "Presolved problem has:\n",
      "         0 rows            0 cols            0 elements         0 globals\n",
      "Presolve finished in 0 seconds\n",
      "Heap usage: 5428KB (peak 16MB, 561KB system)\n",
      "Will try to keep branch and bound tree memory usage below 29.2GB\n",
      "Starting concurrent solve with dual\n",
      "\n",
      " Concurrent-Solve,   0s\n",
      "            Dual        \n",
      "    objective   dual inf\n",
      " D  152512.47   .0000000\n",
      "------- optimal --------\n",
      "Concurrent statistics:\n",
      "      Dual: 0 simplex iterations, 0.00s\n",
      "Optimal solution found\n",
      " \n",
      "   Its         Obj Value      S   Ninf  Nneg   Sum Dual Inf  Time\n",
      "     0       152512.4747      D      0     0        .000000     0\n",
      "Dual solved problem\n",
      "  0 simplex iterations in 0.00 seconds at time 0\n",
      "\n",
      "Final objective                       : 1.525124746625998e+05\n",
      "  Max primal violation      (abs/rel) :       0.0 /       0.0\n",
      "  Max dual violation        (abs/rel) :       0.0 /       0.0\n",
      "  Max complementarity viol. (abs/rel) :       0.0 /       0.0\n",
      "\n",
      "Starting root cutting & heuristics\n",
      " \n",
      " Its Type    BestSoln    BestBound   Sols    Add    Del     Gap     GInf   Time\n",
      "*         152512.4747  152512.4747      1                  0.00%       0      0\n"
     ]
    },
    {
     "name": "stdout",
     "output_type": "stream",
     "text": [
      " *** Search completed ***\n",
      "Uncrunching matrix\n",
      "Final MIP objective                   : 1.525124746625998e+05\n",
      "Final MIP bound                       : 1.525124746625998e+05\n",
      "  Solution time / primaldual integral :         0s/ 76.296411%\n",
      "  Number of solutions found / nodes   :         1 /         1\n",
      "  Max primal violation      (abs/rel) :       0.0 /       0.0\n",
      "  Max integer violation     (abs    ) :       0.0\n"
     ]
    },
    {
     "name": "stderr",
     "output_type": "stream",
     "text": [
      "\u001b[36m\u001b[1m┌ REopt | Info: \u001b[22m\u001b[39m\u001b[0mREopt solved with \n",
      "│   termination_status(m) = OPTIMAL\n",
      "└ @ REopt /Users/bpulluta/.julia/dev/REopt/src/core/reopt.jl:554\n",
      "\u001b[36m\u001b[1m┌ REopt | Info: \u001b[22m\u001b[39m\u001b[0mSolving took 3.084 seconds.\n",
      "└ @ REopt /Users/bpulluta/.julia/dev/REopt/src/core/reopt.jl:555\n",
      "\u001b[36m\u001b[1m┌ REopt | Info: \u001b[22m\u001b[39m"
     ]
    },
    {
     "name": "stderr",
     "output_type": "stream",
     "text": [
      "\u001b[0mResults processing took 2.203 seconds.\n",
      "└ @ REopt /Users/bpulluta/.julia/dev/REopt/src/core/reopt.jl:560\n",
      "\u001b[93m\u001b[1m┌ REopt | Warn: \u001b[22m\u001b[39m\u001b[0mAdding binary variable to model gas generator. Some solvers are very slow with integer variables.\n",
      "└ @ REopt /Users/bpulluta/.julia/dev/REopt/src/core/reopt.jl:607\n",
      "\u001b[93m\u001b[1m┌ REopt | Warn: \u001b[22m\u001b[39m"
     ]
    },
    {
     "name": "stderr",
     "output_type": "stream",
     "text": [
      "\u001b[0mAdding binary variable to model outages. Some solvers are very slow with integer variables\n",
      "└ @ REopt /Users/bpulluta/.julia/dev/REopt/src/core/reopt.jl:642\n"
     ]
    },
    {
     "name": "stderr",
     "output_type": "stream",
     "text": [
      "\u001b[36m\u001b[1m┌ REopt | Info: \u001b[22m\u001b[39m\u001b[0mModel built. Optimizing...\n",
      "└ @ REopt /Users/bpulluta/.julia/dev/REopt/src/core/reopt.jl:541\n"
     ]
    },
    {
     "name": "stdout",
     "output_type": "stream",
     "text": [
      "FICO Xpress v8.12.3, Hyper, solve started 11:03:59, Sep 15, 2023\n",
      "Heap usage: 51MB (peak 51MB, 610KB system)\n",
      "Minimizing MILP  with these control settings:\n",
      "OUTPUTLOG = 1\n",
      "MPSNAMELENGTH = 64\n",
      "CALLBACKFROMMASTERTHREAD = 1\n",
      "Original problem has:\n",
      "    169815 rows       128229 cols       521396 elements      9771 globals\n",
      "      3534 inds\n"
     ]
    },
    {
     "name": "stdout",
     "output_type": "stream",
     "text": [
      "Presolved problem has:\n",
      "     53497 rows        31961 cols       211078 elements       507 globals\n",
      "      2520 inds\n",
      "Presolve finished in 0 seconds\n",
      "Heap usage: 83MB (peak 184MB, 612KB system)\n",
      "\n",
      "Coefficient range                    original                 solved        \n",
      "  Coefficients   [min,max] : [ 3.52e-05,  1.00e+06] / [ 3.52e-05,  1.25e+00]\n",
      "  RHS and bounds [min,max] : [ 1.00e+00,  1.00e+09] / [ 1.07e-02,  1.00e+06]\n",
      "  Objective      [min,max] : [ 1.00e-04,  1.14e+03] / [ 1.00e-04,  7.78e+02]\n",
      "Autoscaling applied standard scaling\n",
      "\n",
      "Will try to keep branch and bound tree memory usage below 28.4GB\n",
      "Starting concurrent solve with dual, primal and barrier (8 threads)\n"
     ]
    },
    {
     "name": "stdout",
     "output_type": "stream",
     "text": [
      "\n",
      "                           Concurrent-Solve,   0s\n",
      "            Dual                      Primal                     Barrier      \n",
      "    objective   dual inf       objective   sum inf         p.obj.     d.obj.  \n",
      " D  101071.80   .0000000 |  p  14373070.  10218.868 |  B  1.772E+08 -9.599E+10\n",
      " D  110423.74   .0000000 |  p  200147.48   .0000000 |  B  333806.22  38830.430"
     ]
    },
    {
     "name": "stdout",
     "output_type": "stream",
     "text": [
      "\n",
      " D  117949.04   .0000000 |  p  199244.12   .0000000 |  B  201882.68  190966.60"
     ]
    },
    {
     "name": "stdout",
     "output_type": "stream",
     "text": [
      "\n",
      " D  156026.87   .0000000 |  p  199244.12   .0000000 |  B  197850.76  197846.94"
     ]
    },
    {
     "name": "stdout",
     "output_type": "stream",
     "text": [
      "\n",
      "----- interrupted ------ | ----- interrupted ------ | ------- optimal --------"
     ]
    },
    {
     "name": "stdout",
     "output_type": "stream",
     "text": [
      "\n",
      "Concurrent statistics:\n",
      "      Dual: 14218 simplex iterations, 1.38s\n",
      "    Primal: 7335 simplex iterations, 1.38s\n",
      "   Barrier: 53 barrier and 1399 simplex iterations, 1.37s\n",
      "            Barrier used 8 threads 8 cores, L1\\L2 cache: 64K\\4096K\n",
      "            Barrier used SSE2 support, crossover used 8 threads\n",
      "Optimal solution found\n",
      " \n",
      "   Its         Obj Value      S   Ninf  Nneg        Sum Inf  Time\n",
      "   102       197849.9254      P      0     0        .000000     2\n",
      "Barrier solved problem\n",
      "  53 barrier and 1399 simplex iterations in 1.39 seconds at time 2\n",
      "\n",
      "Final objective                       : 1.978499253771025e+05\n",
      "  Max primal violation      (abs/rel) : 1.776e-15 / 1.684e-15\n",
      "  Max dual violation        (abs/rel) : 2.331e-15 / 2.331e-15\n",
      "  Max complementarity viol. (abs/rel) :       0.0 /       0.0\n",
      "High attention level predicted from matrix features\n",
      "\n",
      "Starting root cutting & heuristics\n",
      " \n",
      " Its Type    BestSoln    BestBound   Sols    Add    Del     Gap     GInf   Time\n",
      "c         197849.9254  197849.9254      1                 -0.00%       0      2\n"
     ]
    },
    {
     "name": "stdout",
     "output_type": "stream",
     "text": [
      " *** Search completed ***\n",
      "Uncrunching matrix\n",
      "Final MIP objective                   : 1.978499253770989e+05\n",
      "Final MIP bound                       : 1.978499253771025e+05\n",
      "  Solution time / primaldual integral :         2s/ 99.958227%\n",
      "  Number of solutions found / nodes   :         1 /         1\n",
      "  Max primal violation      (abs/rel) : 2.798e-13 / 2.798e-13\n",
      "  Max integer violation     (abs    ) :       0.0\n"
     ]
    },
    {
     "name": "stderr",
     "output_type": "stream",
     "text": [
      "\u001b[36m\u001b[1m┌ REopt | Info: \u001b[22m\u001b[39m\u001b[0mREopt solved with \n",
      "│   termination_status(m) = OPTIMAL\n",
      "└ @ REopt /Users/bpulluta/.julia/dev/REopt/src/core/reopt.jl:554\n",
      "\u001b[36m\u001b[1m┌ REopt | Info: \u001b[22m\u001b[39m\u001b[0mSolving took 3.027 seconds.\n",
      "└ @ REopt /Users/bpulluta/.julia/dev/REopt/src/core/reopt.jl:555\n",
      "\u001b[36m\u001b[1m┌ REopt | Info: \u001b[22m\u001b[39m"
     ]
    },
    {
     "name": "stderr",
     "output_type": "stream",
     "text": [
      "\u001b[0mResults processing took 4.681 seconds.\n",
      "└ @ REopt /Users/bpulluta/.julia/dev/REopt/src/core/reopt.jl:560\n"
     ]
    },
    {
     "data": {
      "text/plain": [
       "Dict{String, Any} with 12 entries:\n",
       "  \"Site\"            => Dict{String, Any}(\"annual_emissions_from_fuelburn_tonnes…\n",
       "  \"Generator\"       => Dict{String, Any}(\"electric_to_grid_series_kw\"=>1-dimens…\n",
       "  \"Outages\"         => Dict{String, Any}(\"generator_fuel_used_per_outage_gal\"=>…\n",
       "  \"ElectricStorage\" => Dict{String, Any}(\"size_kw\"=>3.76, \"size_kwh\"=>9.21, \"in…\n",
       "  \"status\"          => \"optimal\"\n",
       "  \"solver_seconds\"  => 3.027\n",
       "  \"ElectricUtility\" => Dict{String, Any}(\"lifecycle_emissions_tonnes_CO2_bau\"=>…\n",
       "  \"ElectricTariff\"  => Dict{String, Any}(\"lifecycle_demand_cost_after_tax_bau\"=…\n",
       "  \"ElectricLoad\"    => Dict{String, Any}(\"load_series_kw\"=>Real[8.302, 8.285, 8…\n",
       "  \"Messages\"        => Dict{Any, Any}(\"errors\"=>Any[], \"warnings\"=>Any[(\"core_r…\n",
       "  \"PV\"              => Dict{String, Any}(\"electric_to_grid_series_kw\"=>[0.0, 0.…\n",
       "  \"Financial\"       => Dict{String, Any}(\"lifecycle_chp_standby_cost_after_tax\"…"
      ]
     },
     "metadata": {},
     "output_type": "display_data"
    }
   ],
   "source": [
    "# Load inputs for REopt optimization\n",
    "p =   REoptInputs(\"./scenarios/reopt_inputs.json\")\n",
    "\n",
    "# Initialize the model\n",
    "model    =   Model(Xpress.Optimizer)\n",
    "modelbau =   Model(Xpress.Optimizer)\n",
    "\n",
    "# Run the REopt optimization\n",
    "results =   run_reopt([modelbau, model], p)"
   ]
  },
  {
   "cell_type": "code",
   "execution_count": 6,
   "metadata": {},
   "outputs": [
    {
     "data": {
      "text/plain": [
       "700820"
      ]
     },
     "metadata": {},
     "output_type": "display_data"
    }
   ],
   "source": [
    "open(\"./results/initial_reopt_results.json\", \"w\") do f\n",
    "    write(f, JSON.json(results))\n",
    "end"
   ]
  },
  {
   "cell_type": "markdown",
   "metadata": {},
   "source": [
    "### SETTING UP RELIABILITY INPUTS BASED ON BASE CASE RESULTS\n"
   ]
  },
  {
   "cell_type": "code",
   "execution_count": 7,
   "metadata": {},
   "outputs": [
    {
     "data": {
      "text/plain": [
       "1"
      ]
     },
     "metadata": {},
     "output_type": "display_data"
    }
   ],
   "source": [
    "# Load reliability inputs from file\n",
    "reliability_inputs =   JSON.parsefile(\"./scenarios/backup_reliability_inputs.json\")\n",
    "\n",
    "# Update reliability inputs based on the results from the base case\n",
    "reliability_inputs[\"pv_size_kw\"]                  =   results[\"PV\"][\"size_kw\"]\n",
    "reliability_inputs[\"critical_loads_kw\"]           =   results[\"ElectricLoad\"][\"critical_load_series_kw\"]\n",
    "reliability_inputs[\"generator_size_kw\"]           =   results[\"Generator\"][\"size_kw\"]\n",
    "reliability_inputs[\"battery_size_kw\"]             =   results[\"ElectricStorage\"][\"size_kw\"]\n",
    "reliability_inputs[\"battery_size_kwh\"]            =   results[\"ElectricStorage\"][\"size_kwh\"]\n",
    "reliability_inputs[\"pv_production_factor_series\"] =   results[\"PV\"][\"production_factor_series\"]\n",
    "reliability_inputs[\"num_generators\"]              =   1\n"
   ]
  },
  {
   "cell_type": "markdown",
   "metadata": {},
   "source": [
    "### COMPUTE RELIABILITY METRICS\n"
   ]
  },
  {
   "cell_type": "code",
   "execution_count": 8,
   "metadata": {},
   "outputs": [
    {
     "data": {
      "text/plain": [
       "Dict{String, Any} with 16 entries:\n",
       "  \"mean_cumulative_surviva… => [0.985631, 0.98423, 0.982739, 0.981425, 0.980163…\n",
       "  \"fuel_outage_survival_fi… => [1.0, 1.0, 1.0, 1.0, 1.0, 1.0, 1.0, 1.0, 1.0, 1.…\n",
       "  \"monthly_lower_quartile_… => [0.903238, 0.903238, 0.903238, 0.903238, 0.90323…\n",
       "  \"mean_cumulative_surviva… => 0.871057\n",
       "  \"unlimited_fuel_cumulati… => [0.903238, 0.903238, 0.903238, 0.903238, 0.90323…\n",
       "  \"max_fuel_used\"           => 194.448\n",
       "  \"min_fuel_used\"           => 43.5786\n",
       "  \"unlimited_fuel_min_cumu… => [0.0, 0.0, 0.0, 0.0, 0.0, 0.0, 0.0, 0.0, 0.0, 0.…\n",
       "  \"monthly_median_cumulati… => [0.903238, 0.903238, 0.903238, 0.903238, 0.90323…\n",
       "  \"cumulative_survival_fin… => [0.903238, 0.903238, 0.903238, 0.903238, 0.90323…\n",
       "  \"unlimited_fuel_mean_cum… => [0.985631, 0.98423, 0.982739, 0.981531, 0.980376…\n",
       "  \"min_cumulative_survival… => [0.0, 0.0, 0.0, 0.0, 0.0, 0.0, 0.0, 0.0, 0.0, 0.…\n",
       "  \"monthly_upper_quartile_… => [0.903238, 0.903238, 0.903238, 0.903238, 0.90323…\n",
       "  \"monthly_max_cumulative_… => [0.911903, 0.911114, 0.912692, 0.912692, 0.91348…\n",
       "  \"monthly_min_cumulative_… => [0.903238, 0.903238, 0.903238, 0.903238, 0.90323…\n",
       "  \"mean_fuel_survival_by_d… => [0.999658, 0.999543, 0.999201, 0.998973, 0.99874…"
      ]
     },
     "metadata": {},
     "output_type": "display_data"
    }
   ],
   "source": [
    "reliability_results =   backup_reliability(results, p, reliability_inputs)\n"
   ]
  },
  {
   "cell_type": "markdown",
   "metadata": {},
   "source": [
    "### SECOND ITERATION: MODIFYING GENERATOR PARAMETERS"
   ]
  },
  {
   "cell_type": "code",
   "execution_count": 9,
   "metadata": {},
   "outputs": [
    {
     "data": {
      "text/plain": [
       "closest_gen_size (generic function with 1 method)"
      ]
     },
     "metadata": {},
     "output_type": "display_data"
    }
   ],
   "source": [
    "# Define the real generator sizes\n",
    "real_gen_sizes = [\n",
    "    8, 10, 15, 20, 30, 40, 60, 75, 100, 125, \n",
    "    135, 150, 175, 200, 230, 250, 300, 350, \n",
    "    400, 500, 600, 750\n",
    "]\n",
    "\n",
    "function closest_gen_size(value, gen_sizes)\n",
    "    return argmin(abs.(gen_sizes .- value))\n",
    "end"
   ]
  },
  {
   "cell_type": "code",
   "execution_count": 20,
   "metadata": {},
   "outputs": [
    {
     "data": {
      "text/plain": [
       "300.0"
      ]
     },
     "metadata": {},
     "output_type": "display_data"
    }
   ],
   "source": [
    "#percentage increase of fuel\n",
    "perc_increase =   50\n",
    "# Increase the number of generators and adjust their size\n",
    "num_generators                          =   1\n",
    "# reliability_inputs[\"generator_size_kw\"] =   ceil(results[\"Generator\"][\"size_kw\"] / 10) * 10 #Round up to the nearest 10 value of generator size\n",
    "\n",
    "# Use the function to get the closest generator size\n",
    "reliability_inputs[\"generator_size_kw\"] = real_gen_sizes[closest_gen_size(results[\"Generator\"][\"size_kw\"], real_gen_sizes)]\n",
    "reliability_inputs[\"num_generators\"]    =  num_generators\n",
    "\n",
    "#Re-compute reliability metrics\n",
    "reliability_results2 =   backup_reliability(results, p, reliability_inputs)\n",
    "\n",
    "# Update generator parameters for the next optimization\n",
    "generator_size_kw =   reliability_inputs[\"generator_size_kw\"]\n",
    "batt_size_kw      =   reliability_inputs[\"battery_size_kw\"]\n",
    "batt_size_kwh     =   reliability_inputs[\"battery_size_kwh\"]\n",
    "pv_kw             =   reliability_inputs[\"pv_size_kw\"]\n",
    "\n",
    "total_fuel_needed =   reliability_results2[\"max_fuel_used\"]\n",
    "\n",
    "# Load the original JSON file and update generator parameters\n",
    "erp_data                                =   JSON.parsefile(\"./scenarios/reopt_inputs.json\")\n",
    "erp_data[\"Generator\"][\"min_kw\"]         =   generator_size_kw\n",
    "erp_data[\"Generator\"][\"max_kw\"]         =   generator_size_kw\n",
    "erp_data[\"PV\"][\"min_kw\"]                =   pv_kw\n",
    "erp_data[\"PV\"][\"max_kw\"]                =   pv_kw\n",
    "erp_data[\"ElectricStorage\"][\"min_kw\"]   =   batt_size_kw\n",
    "erp_data[\"ElectricStorage\"][\"max_kw\"]   =   batt_size_kw\n",
    "erp_data[\"ElectricStorage\"][\"min_kwh\"]  =   batt_size_kwh\n",
    "erp_data[\"ElectricStorage\"][\"max_kwh\"]  =   batt_size_kwh\n",
    "erp_data[\"Generator\"][\"fuel_avail_gal\"] =   ceil(total_fuel_needed / 10) * 10 * (1 + (perc_increase / 100))\n"
   ]
  },
  {
   "cell_type": "code",
   "execution_count": 21,
   "metadata": {},
   "outputs": [
    {
     "data": {
      "text/plain": [
       "77828"
      ]
     },
     "metadata": {},
     "output_type": "display_data"
    }
   ],
   "source": [
    "# Save the updated parameters to a new file\n",
    "open(\"./scenarios/ERP_MOD_reopt_inputs.json\", \"w\") do f\n",
    "    write(f, JSON.json(erp_data))\n",
    "end"
   ]
  },
  {
   "cell_type": "markdown",
   "metadata": {},
   "source": [
    "### RERUN OPTIMIZATION WITH MODIFIED PARAMETERS"
   ]
  },
  {
   "cell_type": "code",
   "execution_count": 22,
   "metadata": {},
   "outputs": [
    {
     "name": "stderr",
     "output_type": "stream",
     "text": [
      "\u001b[93m\u001b[1m┌ REopt | Warn: \u001b[22m\u001b[39m\u001b[0mWhen using stochastic outage modeling (i.e. outage_start_time_steps, outage_durations, outage_probabilities), \n",
      "│                     emissions and renewable energy percentage calculations and constraints do not consider outages.\n",
      "└ @ REopt /Users/bpulluta/.julia/dev/REopt/src/core/electric_utility.jl:199\n",
      "\u001b[36m\u001b[1m┌ REopt | Info: \u001b[22m\u001b[39m\u001b[0mQuerying PVWatts for production factor and ambient air temperature... \n",
      "└ @ REopt /Users/bpulluta/.julia/dev/REopt/src/core/utils.jl:414\n"
     ]
    },
    {
     "name": "stderr",
     "output_type": "stream",
     "text": [
      "\u001b[36m\u001b[1m┌ REopt | Info: \u001b[22m\u001b[39m\u001b[0mPVWatts success.\n",
      "└ @ REopt /Users/bpulluta/.julia/dev/REopt/src/core/utils.jl:420\n",
      "\u001b[93m\u001b[1m┌ REopt | Warn: \u001b[22m\u001b[39m\u001b[0mAdding binary variable to model outages. Some solvers are very slow with integer variables\n",
      "└ @ REopt /Users/bpulluta/.julia/dev/REopt/src/core/reopt.jl:642\n",
      "\u001b[36m\u001b[1m┌ REopt | Info: \u001b[22m\u001b[39m"
     ]
    },
    {
     "name": "stdout",
     "output_type": "stream",
     "text": [
      "FICO Xpress v8.12.3, Hyper, solve started 11:09:47, Sep 15, 2023\n",
      "Heap usage: 5043KB (peak 5043KB, 1093KB system)\n",
      "Minimizing MILP  with these control settings:\n",
      "OUTPUTLOG = 1\n",
      "MPSNAMELENGTH = 64\n",
      "CALLBACKFROMMASTERTHREAD = 1\n",
      "Original problem has:\n",
      "     19541 rows        11306 cols        28805 elements      1009 globals\n",
      "         1 inds\n",
      "Presolved problem has:\n",
      "         0 rows            0 cols            0 elements         0 globals\n",
      "Presolve finished in 0 seconds\n",
      "Heap usage: 5428KB (peak 16MB, 1096KB system)\n",
      "Will try to keep branch and bound tree memory usage below 27.2GB\n",
      "Starting concurrent solve with dual\n",
      "\n",
      " Concurrent-Solve,   0s\n",
      "            Dual        \n",
      "    objective   dual inf\n",
      " D  152512.47   .0000000\n",
      "------- optimal --------\n",
      "Concurrent statistics:\n",
      "      Dual: 0 simplex iterations, 0.00s\n",
      "Optimal solution found\n",
      " \n",
      "   Its         Obj Value      S   Ninf  Nneg   Sum Dual Inf  Time\n",
      "     0       152512.4747      D      0     0        .000000     0\n",
      "Dual solved problem\n",
      "  0 simplex iterations in 0.00 seconds at time 0\n",
      "\n",
      "Final objective                       : 1.525124746625998e+05\n",
      "  Max primal violation      (abs/rel) :       0.0 /       0.0\n",
      "  Max dual violation        (abs/rel) :       0.0 /       0.0\n",
      "  Max complementarity viol. (abs/rel) :       0.0 /       0.0\n",
      "\n",
      "Starting root cutting & heuristics\n",
      " \n",
      " Its Type    BestSoln    BestBound   Sols    Add    Del     Gap     GInf   Time\n",
      "*         152512.4747  152512.4747      1                  0.00%       0      0\n"
     ]
    },
    {
     "name": "stdout",
     "output_type": "stream",
     "text": [
      " *** Search completed ***\n",
      "Uncrunching matrix\n",
      "Final MIP objective                   : 1.525124746625998e+05\n",
      "Final MIP bound                       : 1.525124746625998e+05\n",
      "  Solution time / primaldual integral :         0s/ 98.369102%\n",
      "  Number of solutions found / nodes   :         1 /         1\n",
      "  Max primal violation      (abs/rel) :       0.0 /       0.0\n",
      "  Max integer violation     (abs    ) :       0.0\n"
     ]
    },
    {
     "name": "stderr",
     "output_type": "stream",
     "text": [
      "\u001b[0mModel built. Optimizing...\n",
      "└ @ REopt /Users/bpulluta/.julia/dev/REopt/src/core/reopt.jl:541\n",
      "\u001b[36m\u001b[1m┌ REopt | Info: \u001b[22m\u001b[39m\u001b[0mREopt solved with \n",
      "│   termination_status(m) = OPTIMAL\n",
      "└ @ REopt /Users/bpulluta/.julia/dev/REopt/src/core/reopt.jl:554\n",
      "\u001b[36m\u001b[1m┌ REopt | Info: \u001b[22m\u001b[39m\u001b[0mSolving took 0.067 seconds.\n",
      "└ @ REopt /Users/bpulluta/.julia/dev/REopt/src/core/reopt.jl:555\n",
      "\u001b[36m\u001b[1m┌ REopt | Info: \u001b[22m\u001b[39m"
     ]
    },
    {
     "name": "stderr",
     "output_type": "stream",
     "text": [
      "\u001b[0mResults processing took 0.512 seconds.\n",
      "└ @ REopt /Users/bpulluta/.julia/dev/REopt/src/core/reopt.jl:560\n",
      "\u001b[93m\u001b[1m┌ REopt | Warn: \u001b[22m\u001b[39m\u001b[0mAdding binary variable to model gas generator. Some solvers are very slow with integer variables.\n",
      "└ @ REopt /Users/bpulluta/.julia/dev/REopt/src/core/reopt.jl:607\n",
      "\u001b[93m\u001b[1m┌ REopt | Warn: \u001b[22m\u001b[39m\u001b[0mAdding binary variable to model outages. Some solvers are very slow with integer variables\n",
      "└ @ REopt /Users/bpulluta/.julia/dev/REopt/src/core/reopt.jl:642\n"
     ]
    },
    {
     "name": "stderr",
     "output_type": "stream",
     "text": [
      "\u001b[36m\u001b[1m┌ REopt | Info: \u001b[22m\u001b[39m\u001b[0mModel built. Optimizing...\n",
      "└ @ REopt /Users/bpulluta/.julia/dev/REopt/src/core/reopt.jl:541\n"
     ]
    },
    {
     "name": "stdout",
     "output_type": "stream",
     "text": [
      "FICO Xpress v8.12.3, Hyper, solve started 11:09:49, Sep 15, 2023\n",
      "Heap usage: 51MB (peak 51MB, 1100KB system)\n",
      "Minimizing MILP  with these control settings:\n",
      "OUTPUTLOG = 1\n",
      "MPSNAMELENGTH = 64\n",
      "CALLBACKFROMMASTERTHREAD = 1\n",
      "Original problem has:\n",
      "    169815 rows       128229 cols       521396 elements      9771 globals\n",
      "      3534 inds\n"
     ]
    },
    {
     "name": "stdout",
     "output_type": "stream",
     "text": [
      "Presolved problem has:\n",
      "     21484 rows        29631 cols        66404 elements         0 globals\n",
      "LP relaxation tightened\n",
      "Presolve finished in 0 seconds\n",
      "Heap usage: 63MB (peak 177MB, 1102KB system)\n",
      "\n",
      "Coefficient range                    original                 solved        \n",
      "  Coefficients   [min,max] : [ 3.52e-05,  6.00e+01] / [ 2.28e-01,  1.05e+00]\n",
      "  RHS and bounds [min,max] : [ 1.00e+00,  1.00e+09] / [ 1.77e-03,  9.00e+02]\n",
      "  Objective      [min,max] : [ 1.00e-04,  1.14e+03] / [ 1.00e-04,  1.14e+02]\n",
      "Autoscaling applied standard scaling\n",
      "\n",
      "Will try to keep branch and bound tree memory usage below 26.8GB\n",
      "Starting concurrent solve with dual, primal and barrier (8 threads)\n"
     ]
    },
    {
     "name": "stdout",
     "output_type": "stream",
     "text": [
      "\n",
      "                           Concurrent-Solve,   0s\n",
      "            Dual                      Primal                     Barrier      \n",
      "                                                          objective   sum inf \n",
      "                         |                          |  P  202412.03   .0000000\n",
      "----- interrupted ------ | ----- interrupted ------ | ------- optimal --------\n",
      "Concurrent statistics:\n",
      "      Dual: 5859 simplex iterations, 0.18s\n",
      "    Primal: 8052 simplex iterations, 0.09s\n",
      "   Barrier: 21 barrier and 4470 simplex iterations, 0.27s\n",
      "            Barrier used 8 threads 8 cores, L1\\L2 cache: 64K\\4096K\n",
      "            Barrier used SSE2 support, crossover used 8 threads\n",
      "Optimal solution found\n",
      " \n",
      "   Its         Obj Value      S   Ninf  Nneg        Sum Inf  Time\n",
      "     8       202412.0297      P      0     0        .000000     0\n",
      "Barrier solved problem\n",
      "  21 barrier and 4470 simplex iterations in 0.27 seconds at time 0\n",
      "\n",
      "Final objective                       : 2.024120296692981e+05\n",
      "  Max primal violation      (abs/rel) :       0.0 /       0.0\n",
      "  Max dual violation        (abs/rel) : 1.110e-16 / 1.110e-16\n",
      "  Max complementarity viol. (abs/rel) :       0.0 /       0.0\n",
      "High attention level predicted from matrix features\n",
      "\n",
      "Starting root cutting & heuristics\n",
      " \n",
      " Its Type    BestSoln    BestBound   Sols    Add    Del     Gap     GInf   Time\n",
      "c         202412.0297  202412.0297      1                  0.00%       0      0\n"
     ]
    },
    {
     "name": "stdout",
     "output_type": "stream",
     "text": [
      " *** Search completed ***\n",
      "Uncrunching matrix\n",
      "Final MIP objective                   : 2.024120296693369e+05\n",
      "Final MIP bound                       : 2.024120296692981e+05\n",
      "  Solution time / primaldual integral :         0s/ 99.871941%\n",
      "  Number of solutions found / nodes   :         1 /         1\n",
      "  Max primal violation      (abs/rel) : 1.683e-13 / 1.683e-13\n",
      "  Max integer violation     (abs    ) :       0.0\n"
     ]
    },
    {
     "name": "stderr",
     "output_type": "stream",
     "text": [
      "\u001b[36m\u001b[1m┌ REopt | Info: \u001b[22m\u001b[39m\u001b[0mREopt solved with \n",
      "│   termination_status(m) = OPTIMAL\n",
      "└ @ REopt /Users/bpulluta/.julia/dev/REopt/src/core/reopt.jl:554\n",
      "\u001b[36m\u001b[1m┌ REopt | Info: \u001b[22m\u001b[39m\u001b[0mSolving took 1.123 seconds.\n",
      "└ @ REopt /Users/bpulluta/.julia/dev/REopt/src/core/reopt.jl:555\n",
      "\u001b[36m\u001b[1m┌ REopt | Info: \u001b[22m\u001b[39m"
     ]
    },
    {
     "name": "stderr",
     "output_type": "stream",
     "text": [
      "\u001b[0mResults processing took 1.169 seconds.\n",
      "└ @ REopt /Users/bpulluta/.julia/dev/REopt/src/core/reopt.jl:560\n"
     ]
    },
    {
     "data": {
      "text/plain": [
       "Dict{String, Any} with 12 entries:\n",
       "  \"Site\"            => Dict{String, Any}(\"annual_emissions_from_fuelburn_tonnes…\n",
       "  \"Generator\"       => Dict{String, Any}(\"electric_to_grid_series_kw\"=>1-dimens…\n",
       "  \"Outages\"         => Dict{String, Any}(\"generator_fuel_used_per_outage_gal\"=>…\n",
       "  \"ElectricStorage\" => Dict{String, Any}(\"size_kw\"=>3.76, \"size_kwh\"=>9.21, \"in…\n",
       "  \"status\"          => \"optimal\"\n",
       "  \"solver_seconds\"  => 1.123\n",
       "  \"ElectricUtility\" => Dict{String, Any}(\"lifecycle_emissions_tonnes_CO2_bau\"=>…\n",
       "  \"ElectricTariff\"  => Dict{String, Any}(\"lifecycle_demand_cost_after_tax_bau\"=…\n",
       "  \"ElectricLoad\"    => Dict{String, Any}(\"load_series_kw\"=>Real[8.302, 8.285, 8…\n",
       "  \"Messages\"        => Dict{Any, Any}(\"errors\"=>Any[], \"warnings\"=>Any[(\"core_r…\n",
       "  \"PV\"              => Dict{String, Any}(\"electric_to_grid_series_kw\"=>[0.0, 0.…\n",
       "  \"Financial\"       => Dict{String, Any}(\"lifecycle_chp_standby_cost_after_tax\"…"
      ]
     },
     "metadata": {},
     "output_type": "display_data"
    }
   ],
   "source": [
    "# Load the updated inputs\n",
    "p2 =   REoptInputs(\"./scenarios/ERP_MOD_reopt_inputs.json\")\n",
    "\n",
    "# Initialize a new model\n",
    "model2    =   Model(Xpress.Optimizer)\n",
    "model2bau =   Model(Xpress.Optimizer)\n",
    "\n",
    "# Run the REopt optimization again\n",
    "results2 =   run_reopt([model2bau, model2], p2)\n"
   ]
  },
  {
   "cell_type": "code",
   "execution_count": 23,
   "metadata": {},
   "outputs": [
    {
     "data": {
      "text/plain": [
       "699909"
      ]
     },
     "metadata": {},
     "output_type": "display_data"
    }
   ],
   "source": [
    "\n",
    "open(\"./results/final_reopt_results.json\", \"w\") do f\n",
    "    write(f, JSON.json(results2))\n",
    "end"
   ]
  },
  {
   "cell_type": "markdown",
   "metadata": {},
   "source": [
    "### FINAL RELIABILITY METRICS"
   ]
  },
  {
   "cell_type": "code",
   "execution_count": 25,
   "metadata": {},
   "outputs": [
    {
     "name": "stdout",
     "output_type": "stream",
     "text": [
      "60.0\n"
     ]
    },
    {
     "data": {
      "text/plain": [
       "Dict{String, Any} with 16 entries:\n",
       "  \"mean_cumulative_surviva… => [0.98614, 0.984915, 0.983801, 0.982761, 0.981772…\n",
       "  \"fuel_outage_survival_fi… => [1.0, 1.0, 1.0, 1.0, 1.0, 1.0, 1.0, 1.0, 1.0, 1.…\n",
       "  \"monthly_lower_quartile_… => [0.903238, 0.903238, 0.903238, 0.903238, 0.90323…\n",
       "  \"mean_cumulative_surviva… => 0.903233\n",
       "  \"unlimited_fuel_cumulati… => [0.903238, 0.903238, 0.903238, 0.903238, 0.90323…\n",
       "  \"max_fuel_used\"           => 195.715\n",
       "  \"min_fuel_used\"           => 43.5786\n",
       "  \"unlimited_fuel_min_cumu… => [0.955208, 0.935253, 0.934403, 0.933554, 0.93270…\n",
       "  \"monthly_median_cumulati… => [0.903238, 0.903238, 0.903238, 0.903238, 0.90323…\n",
       "  \"cumulative_survival_fin… => [0.903238, 0.903238, 0.903238, 0.903238, 0.90323…\n",
       "  \"unlimited_fuel_mean_cum… => [0.98614, 0.984915, 0.983801, 0.982761, 0.981772…\n",
       "  \"min_cumulative_survival… => [0.955208, 0.935253, 0.934403, 0.933554, 0.93270…\n",
       "  \"monthly_upper_quartile_… => [0.903238, 0.903238, 0.903238, 0.903238, 0.90323…\n",
       "  \"monthly_max_cumulative_… => [0.911903, 0.911114, 0.912692, 0.912692, 0.91348…\n",
       "  \"monthly_min_cumulative_… => [0.903238, 0.903238, 0.903238, 0.903238, 0.90323…\n",
       "  \"mean_fuel_survival_by_d… => [1.0, 1.0, 1.0, 1.0, 1.0, 1.0, 1.0, 1.0, 1.0, 1.…"
      ]
     },
     "metadata": {},
     "output_type": "display_data"
    }
   ],
   "source": [
    "# Update reliability inputs based on the new results\n",
    "reliability_inputs2                                =   reliability_inputs\n",
    "reliability_inputs2[\"pv_size_kw\"]                  =   results2[\"PV\"][\"size_kw\"]\n",
    "reliability_inputs2[\"critical_loads_kw\"]           =   results2[\"ElectricLoad\"][\"critical_load_series_kw\"]\n",
    "reliability_inputs2[\"generator_size_kw\"]           =   results2[\"Generator\"][\"size_kw\"]\n",
    "reliability_inputs2[\"battery_size_kw\"]             =   results2[\"ElectricStorage\"][\"size_kw\"]\n",
    "reliability_inputs2[\"battery_size_kwh\"]            =   results2[\"ElectricStorage\"][\"size_kwh\"]\n",
    "reliability_inputs2[\"pv_production_factor_series\"] =   results2[\"PV\"][\"production_factor_series\"]\n",
    "\n",
    "# Compute final reliability metrics\n",
    "reliability_results_final =   backup_reliability(results2, p2, reliability_inputs2)"
   ]
  },
  {
   "cell_type": "markdown",
   "metadata": {},
   "source": [
    "### COMPARE RESULTS"
   ]
  },
  {
   "cell_type": "code",
   "execution_count": 26,
   "metadata": {},
   "outputs": [
    {
     "name": "stdout",
     "output_type": "stream",
     "text": [
      "\n",
      "###########First Iteration: \n",
      "LCC ($) = "
     ]
    },
    {
     "name": "stdout",
     "output_type": "stream",
     "text": [
      "197857.5018\n",
      "Capital Cost, Net ($) = 49907.005\n",
      "Lifecycle Emission Tons (CO2) = 2031.69\n",
      "NPV ($) = -45346.06\n",
      "LCOE ($/kWh) = 0.076\n",
      "PV size_kw = 8.543\n",
      "ElectricStorage size_kw = 3.76\n",
      "ElectricStorage size_kwh = 9.21\n",
      "Generator size_kw = 54.14\n",
      "\n",
      "###########Second Iteration: \n",
      "LCC ($) = 202419.604\n",
      "Capital Cost, Net ($) = 53719.6744\n",
      "Lifecycle Emission Tons (CO2) = 2031.69\n",
      "NPV ($) = -49908.16\n",
      "LCOE ($/kWh) = 0.076\n",
      "PV size_kw = 8.543\n",
      "ElectricStorage size_kw = 3.76\n",
      "ElectricStorage size_kwh = 9.21\n",
      "Generator size_kw = 60.0\n"
     ]
    }
   ],
   "source": [
    "println(\"\")\n",
    "println(\"###########First Iteration: \")\n",
    "summarize_reopt_results(results)\n",
    "\n",
    "println(\"\")\n",
    "println(\"###########Second Iteration: \")\n",
    "summarize_reopt_results(results2)"
   ]
  },
  {
   "cell_type": "markdown",
   "metadata": {},
   "source": [
    "### STATISTICS"
   ]
  },
  {
   "cell_type": "code",
   "execution_count": 27,
   "metadata": {},
   "outputs": [
    {
     "data": {
      "text/plain": [
       "descriptive_stats (generic function with 1 method)"
      ]
     },
     "metadata": {},
     "output_type": "display_data"
    }
   ],
   "source": [
    "# using Pkg\n",
    "# Pkg.add(\"StatsBase\")\n",
    "\n",
    "# using StatsBase\n",
    "\n",
    "function descriptive_stats(data::Vector{Float64})\n",
    "    return Dict(\n",
    "        \"Mean\" => mean(data),\n",
    "        \"Median\" => median(data),\n",
    "        \"Variance\" => var(data),\n",
    "        \"Standard Deviation\" => std(data),\n",
    "        \"Skewness\" => skewness(data),\n",
    "        \"Kurtosis\" => kurtosis(data)\n",
    "    )\n",
    "end"
   ]
  },
  {
   "cell_type": "code",
   "execution_count": 30,
   "metadata": {},
   "outputs": [
    {
     "name": "stdout",
     "output_type": "stream",
     "text": [
      "Descriptive Statistics:\n",
      "Dict{String, Dict{String, Any}}(\"Iteration 2\" => Dict(\"mean_cumulative_survival_by_duration\" => Dict(\"Median\" => 0.9432625, \"Kurtosis\" => -1.1888420396425476, \"Skewness\" => 0.038667675517938496, \"Standard Deviation\" => 0.024058880134225868, \"Mean\" => 0.9436023854166665, \"Variance\" => 0.0005788297133130481), \"fuel_outage_survival_final_time_step\" => Dict(\"Median\" => 1.0, \"Kurtosis\" => NaN, \"Skewness\" => NaN, \"Standard Deviation\" => 0.0, \"Mean\" => 1.0, \"Variance\" => 0.0), \"monthly_lower_quartile_cumulative_survival_final_time_step\" => Dict(\"Median\" => 0.903238, \"Kurtosis\" => NaN, \"Skewness\" => NaN, \"Standard Deviation\" => 0.0, \"Mean\" => 0.903238, \"Variance\" => 0.0), \"mean_cumulative_survival_final_time_step\" => 0.903233, \"unlimited_fuel_cumulative_survival_final_time_step\" => Dict(\"Median\" => 0.903238, \"Kurtosis\" => 65.65546346523392, \"Skewness\" => -7.294497487426539, \"Standard Deviation\" => 0.0030809056779191385, \"Mean\" => 0.9032326630137, \"Variance\" => 9.491979796234387e-6), \"max_fuel_used\" => 195.71474409103394, \"min_fuel_used\" => 43.57862854003906, \"unlimited_fuel_min_cumulative_survival_by_duration\" => Dict(\"Median\" => 0.902661, \"Kurtosis\" => -1.0157371311138692, \"Skewness\" => 0.06039777013414647, \"Standard Deviation\" => 0.02319969270417846, \"Mean\" => 0.8974770104166666, \"Variance\" => 0.0005382257415683112), \"monthly_median_cumulative_survival_final_time_step\" => Dict(\"Median\" => 0.903238, \"Kurtosis\" => NaN, \"Skewness\" => NaN, \"Standard Deviation\" => 0.0, \"Mean\" => 0.903238, \"Variance\" => 0.0), \"cumulative_survival_final_time_step\" => Dict(\"Median\" => 0.903238, \"Kurtosis\" => 65.65546346523392, \"Skewness\" => -7.294497487426539, \"Standard Deviation\" => 0.0030809056779191385, \"Mean\" => 0.9032326630137, \"Variance\" => 9.491979796234387e-6), \"unlimited_fuel_mean_cumulative_survival_by_duration\" => Dict(\"Median\" => 0.9432625, \"Kurtosis\" => -1.1888420396425476, \"Skewness\" => 0.038667675517938496, \"Standard Deviation\" => 0.024058880134225868, \"Mean\" => 0.9436023854166665, \"Variance\" => 0.0005788297133130481), \"min_cumulative_survival_by_duration\" => Dict(\"Median\" => 0.902661, \"Kurtosis\" => -1.0157371311138692, \"Skewness\" => 0.06039777013414647, \"Standard Deviation\" => 0.02319969270417846, \"Mean\" => 0.8974770104166666, \"Variance\" => 0.0005382257415683112), \"monthly_upper_quartile_cumulative_survival_final_time_step\" => Dict(\"Median\" => 0.903238, \"Kurtosis\" => NaN, \"Skewness\" => NaN, \"Standard Deviation\" => 0.0, \"Mean\" => 0.903238, \"Variance\" => 0.0), \"monthly_max_cumulative_survival_final_time_step\" => Dict(\"Median\" => 0.9114925, \"Kurtosis\" => 0.30671843235356633, \"Skewness\" => -0.7355273703231046, \"Standard Deviation\" => 0.001565627173681435, \"Mean\" => 0.9115005833333333, \"Variance\" => 2.451188446969718e-6), \"monthly_min_cumulative_survival_final_time_step\" => Dict(\"Median\" => 0.903238, \"Kurtosis\" => 7.09090909090904, \"Skewness\" => -3.0151134457776236, \"Standard Deviation\" => 0.01288068450562055, \"Mean\" => 0.8995196666666666, \"Variance\" => 0.00016591203333333332), \"mean_fuel_survival_by_duration\" => Dict(\"Median\" => 1.0, \"Kurtosis\" => NaN, \"Skewness\" => NaN, \"Standard Deviation\" => 0.0, \"Mean\" => 1.0, \"Variance\" => 0.0)), \"Original\" => Dict(\"mean_cumulative_survival_by_duration\" => Dict(\"Median\" => 0.9259245, \"Kurtosis\" => -1.2274068161015164, \"Skewness\" => 0.046549967621062734, \"Standard Deviation\" => 0.033799400339121564, \"Mean\" => 0.9271569999999999, \"Variance\" => 0.0011423994632842108), \"fuel_outage_survival_final_time_step\" => Dict(\"Median\" => 1.0, \"Kurtosis\" => 25.345535082245124, \"Skewness\" => -5.229295849563237, \"Standard Deviation\" => 0.17862282185240877, \"Mean\" => 0.9670091324200913, \"Variance\" => 0.03190611248651736), \"monthly_lower_quartile_cumulative_survival_final_time_step\" => Dict(\"Median\" => 0.903238, \"Kurtosis\" => 7.047706943429196, \"Skewness\" => -3.003559884592368, \"Standard Deviation\" => 0.25991721826812936, \"Mean\" => 0.8244453333333333, \"Variance\" => 0.0675569603522424), \"mean_cumulative_survival_final_time_step\" => 0.871057, \"unlimited_fuel_cumulative_survival_final_time_step\" => Dict(\"Median\" => 0.903238, \"Kurtosis\" => 80.14795513297679, \"Skewness\" => -8.999608380262924, \"Standard Deviation\" => 0.09629999260530805, \"Mean\" => 0.8895881710045674, \"Variance\" => 0.009273688575782386), \"max_fuel_used\" => 194.4477480649948, \"min_fuel_used\" => 43.57862854003906, \"unlimited_fuel_min_cumulative_survival_by_duration\" => Dict(\"Median\" => 0.0, \"Kurtosis\" => NaN, \"Skewness\" => NaN, \"Standard Deviation\" => 0.0, \"Mean\" => 0.0, \"Variance\" => 0.0), \"monthly_median_cumulative_survival_final_time_step\" => Dict(\"Median\" => 0.903238, \"Kurtosis\" => 1.1999999999999336, \"Skewness\" => -1.7888543819998042, \"Standard Deviation\" => 0.01054749294497241, \"Mean\" => 0.8987218333333332, \"Variance\" => 0.00011124960742424275), \"cumulative_survival_final_time_step\" => Dict(\"Median\" => 0.903238, \"Kurtosis\" => 25.1337603548976, \"Skewness\" => -5.198641595610833, \"Standard Deviation\" => 0.1612013276251548, \"Mean\" => 0.8710570256849327, \"Variance\" => 0.02598586802811249), \"unlimited_fuel_mean_cumulative_survival_by_duration\" => Dict(\"Median\" => 0.935546, \"Kurtosis\" => -1.1818679144126039, \"Skewness\" => 0.05033600729364204, \"Standard Deviation\" => 0.02779149411785056, \"Mean\" => 0.9360425520833332, \"Variance\" => 0.0007723671453025222), \"min_cumulative_survival_by_duration\" => Dict(\"Median\" => 0.0, \"Kurtosis\" => NaN, \"Skewness\" => NaN, \"Standard Deviation\" => 0.0, \"Mean\" => 0.0, \"Variance\" => 0.0), \"monthly_upper_quartile_cumulative_survival_final_time_step\" => Dict(\"Median\" => 0.903238, \"Kurtosis\" => NaN, \"Skewness\" => NaN, \"Standard Deviation\" => 0.0, \"Mean\" => 0.903238, \"Variance\" => 0.0), \"monthly_max_cumulative_survival_final_time_step\" => Dict(\"Median\" => 0.9114925, \"Kurtosis\" => 0.868672298330682, \"Skewness\" => -1.2741080095667632, \"Standard Deviation\" => 0.0023093907106735995, \"Mean\" => 0.9111079999999999, \"Variance\" => 5.333285454545513e-6), \"monthly_min_cumulative_survival_final_time_step\" => Dict(\"Median\" => 0.903238, \"Kurtosis\" => 1.1901996030094297, \"Skewness\" => -1.7836486003550818, \"Standard Deviation\" => 0.3500808149452456, \"Mean\" => 0.74898, \"Variance\" => 0.1225565769927273), \"mean_fuel_survival_by_duration\" => Dict(\"Median\" => 0.983276, \"Kurtosis\" => -1.3315960074808233, \"Skewness\" => -0.0025812382679796875, \"Standard Deviation\" => 0.010155434230698118, \"Mean\" => 0.9839326666666669, \"Variance\" => 0.00010313284441403507)), \"Final\" => Dict(\"mean_cumulative_survival_by_duration\" => Dict(\"Median\" => 0.9432625, \"Kurtosis\" => -1.1888420396425476, \"Skewness\" => 0.038667675517938496, \"Standard Deviation\" => 0.024058880134225868, \"Mean\" => 0.9436023854166665, \"Variance\" => 0.0005788297133130481), \"fuel_outage_survival_final_time_step\" => Dict(\"Median\" => 1.0, \"Kurtosis\" => NaN, \"Skewness\" => NaN, \"Standard Deviation\" => 0.0, \"Mean\" => 1.0, \"Variance\" => 0.0), \"monthly_lower_quartile_cumulative_survival_final_time_step\" => Dict(\"Median\" => 0.903238, \"Kurtosis\" => NaN, \"Skewness\" => NaN, \"Standard Deviation\" => 0.0, \"Mean\" => 0.903238, \"Variance\" => 0.0), \"mean_cumulative_survival_final_time_step\" => 0.903233, \"unlimited_fuel_cumulative_survival_final_time_step\" => Dict(\"Median\" => 0.903238, \"Kurtosis\" => 65.65546346523392, \"Skewness\" => -7.294497487426539, \"Standard Deviation\" => 0.0030809056779191385, \"Mean\" => 0.9032326630137, \"Variance\" => 9.491979796234387e-6), \"max_fuel_used\" => 195.71474409103394, \"min_fuel_used\" => 43.57862854003906, \"unlimited_fuel_min_cumulative_survival_by_duration\" => Dict(\"Median\" => 0.902661, \"Kurtosis\" => -1.0157371311138692, \"Skewness\" => 0.06039777013414647, \"Standard Deviation\" => 0.02319969270417846, \"Mean\" => 0.8974770104166666, \"Variance\" => 0.0005382257415683112), \"monthly_median_cumulative_survival_final_time_step\" => Dict(\"Median\" => 0.903238, \"Kurtosis\" => NaN, \"Skewness\" => NaN, \"Standard Deviation\" => 0.0, \"Mean\" => 0.903238, \"Variance\" => 0.0), \"cumulative_survival_final_time_step\" => Dict(\"Median\" => 0.903238, \"Kurtosis\" => 65.65546346523392, \"Skewness\" => -7.294497487426539, \"Standard Deviation\" => 0.0030809056779191385, \"Mean\" => 0.9032326630137, \"Variance\" => 9.491979796234387e-6), \"unlimited_fuel_mean_cumulative_survival_by_duration\" => Dict(\"Median\" => 0.9432625, \"Kurtosis\" => -1.1888420396425476, \"Skewness\" => 0.038667675517938496, \"Standard Deviation\" => 0.024058880134225868, \"Mean\" => 0.9436023854166665, \"Variance\" => 0.0005788297133130481), \"min_cumulative_survival_by_duration\" => Dict(\"Median\" => 0.902661, \"Kurtosis\" => -1.0157371311138692, \"Skewness\" => 0.06039777013414647, \"Standard Deviation\" => 0.02319969270417846, \"Mean\" => 0.8974770104166666, \"Variance\" => 0.0005382257415683112), \"monthly_upper_quartile_cumulative_survival_final_time_step\" => Dict(\"Median\" => 0.903238, \"Kurtosis\" => NaN, \"Skewness\" => NaN, \"Standard Deviation\" => 0.0, \"Mean\" => 0.903238, \"Variance\" => 0.0), \"monthly_max_cumulative_survival_final_time_step\" => Dict(\"Median\" => 0.9114925, \"Kurtosis\" => 0.30671843235356633, \"Skewness\" => -0.7355273703231046, \"Standard Deviation\" => 0.001565627173681435, \"Mean\" => 0.9115005833333333, \"Variance\" => 2.451188446969718e-6), \"monthly_min_cumulative_survival_final_time_step\" => Dict(\"Median\" => 0.903238, \"Kurtosis\" => 7.09090909090904, \"Skewness\" => -3.0151134457776236, \"Standard Deviation\" => 0.01288068450562055, \"Mean\" => 0.8995196666666666, \"Variance\" => 0.00016591203333333332), \"mean_fuel_survival_by_duration\" => Dict(\"Median\" => 1.0, \"Kurtosis\" => NaN, \"Skewness\" => NaN, \"Standard Deviation"
     ]
    },
    {
     "name": "stdout",
     "output_type": "stream",
     "text": [
      "\" => 0.0, \"Mean\" => 1.0, \"Variance\" => 0.0)))\n"
     ]
    },
    {
     "data": {
      "text/plain": [
       "\"/Users/bpulluta/.julia/dev/REopt/test/ERP/results/plots/fuel_compare_lineplot.png\""
      ]
     },
     "metadata": {},
     "output_type": "display_data"
    }
   ],
   "source": [
    "datasets = Dict(\n",
    "    \"Original\"    =>   reliability_results,\n",
    "    \"Iteration 2\" =>   reliability_results2,\n",
    "    \"Final\"       =>   reliability_results_final\n",
    ")\n",
    "\n",
    "# Compute descriptive statistics for each dataset\n",
    "descriptive_statistics_all = Dict(\n",
    "    name => Dict(\n",
    "        key =>   isa(value, Vector{Float64}) ? descriptive_stats(value) : value\n",
    "        for (key, value) in dataset\n",
    "    )\n",
    "    for (name, dataset) in datasets\n",
    ")\n",
    "\n",
    "println(\"Descriptive Statistics:\")\n",
    "println(descriptive_statistics_all)\n",
    "\n",
    "open(\"./results/stats.json\", \"w\") do f\n",
    "    write(f, JSON.json(descriptive_statistics_all))\n",
    "end\n",
    "\n",
    "# Function to plot comparison line charts\n",
    "function compare_lineplots(key)\n",
    "    # Assuming the key exists in all datasets\n",
    "    if isa(datasets[\"Original\"][key], Vector{Float64})\n",
    "        p = plot(\n",
    "            datasets[\"Original\"][key] .* 100,  # Multiply by 100\n",
    "            label     =   \"Original\",\n",
    "            title     =   key,\n",
    "            linewidth =   2,\n",
    "            ylims     =   (0, 140),   # Set y-axis limits\n",
    "            ylabel    =   \"%\",        # Label for y-axis\n",
    "            legend    =   :topright\n",
    "        )\n",
    "        plot!(p, datasets[\"Iteration 2\"][key] .* 100, label=\"Iteration 2\", linewidth=2, linestyle=:dash)  # Multiply by 100\n",
    "        plot!(p, datasets[\"Final\"][key] .* 100, label=\"Final\", linewidth=2, linestyle=:dot)  # Multiply by 100\n",
    "        savefig(\"./results/plots/comparison_$(key)_lineplot.png\")\n",
    "    end\n",
    "end\n",
    "\n",
    "# Extract unique keys across all datasets (assuming they all have the same keys)\n",
    "all_keys =   keys(datasets[\"Original\"])\n",
    "\n",
    "# Plot comparison line charts for each key\n",
    "for key in all_keys\n",
    "    compare_lineplots(key)\n",
    "end\n",
    "\n",
    "# Plot line chart for min and max fuel used\n",
    "p_fuel = plot(\n",
    "    [\"Original\", \"Iteration 2\", \"Final\"],\n",
    "    [\n",
    "        datasets[\"Original\"][\"min_fuel_used\"],\n",
    "        datasets[\"Iteration 2\"][\"min_fuel_used\"],\n",
    "        datasets[\"Final\"][\"min_fuel_used\"]\n",
    "    ],\n",
    "    label     =   \"Min Fuel Used\",\n",
    "    color     =   :blue,\n",
    "    linewidth =   2,\n",
    "    marker    =   :circle\n",
    ")\n",
    "plot!(\n",
    "    p_fuel,\n",
    "    [\"Original\", \"Iteration 2\", \"Final\"],\n",
    "    [\n",
    "        datasets[\"Original\"][\"max_fuel_used\"],\n",
    "        datasets[\"Iteration 2\"][\"max_fuel_used\"],\n",
    "        datasets[\"Final\"][\"max_fuel_used\"]\n",
    "    ],\n",
    "    label     =   \"Max Fuel Used\",\n",
    "    color     =   :red,\n",
    "    linewidth =   2,\n",
    "    marker    =   :circle\n",
    ")\n",
    "\n",
    "savefig(\"./results/plots/fuel_compare_lineplot.png\")\n"
   ]
  }
 ],
 "metadata": {
  "kernelspec": {
   "display_name": "Julia 1.8.4",
   "language": "julia",
   "name": "julia-1.8"
  },
  "language_info": {
   "file_extension": ".jl",
   "mimetype": "application/julia",
   "name": "julia",
   "version": "1.8.4"
  },
  "orig_nbformat": 4
 },
 "nbformat": 4,
 "nbformat_minor": 2
}
