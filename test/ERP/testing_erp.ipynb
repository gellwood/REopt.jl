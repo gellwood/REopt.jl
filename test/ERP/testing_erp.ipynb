{
 "cells": [
  {
   "cell_type": "code",
   "execution_count": 1,
   "metadata": {},
   "outputs": [
    {
     "name": "stderr",
     "output_type": "stream",
     "text": [
      "┌ Info: Xpress: Found license file /Applications/FICO Xpress/Xpress Workbench.app/Contents/Resources/xpressmp/bin/xpauth.xpr\n",
      "└ @ Xpress /Users/bpulluta/.julia/packages/Xpress/IPJtC/src/license.jl:44\n",
      "┌ Info: Xpress: Development license detected.\n",
      "└ @ Xpress /Users/bpulluta/.julia/packages/Xpress/IPJtC/src/license.jl:89\n"
     ]
    },
    {
     "name": "stderr",
     "output_type": "stream",
     "text": [
      "WARNING: redefinition of constant UNIT_FORMATS. This may fail, cause incorrect answers, or produce other errors.\n"
     ]
    }
   ],
   "source": [
    "# using Pkg     ####use this if you are getting errors\n",
    "# Pkg.instantiate()\n",
    "using Revise, Xpress, JuMP, REopt, CSV, Plots, DataFrames, Statistics, JSON, StatsBase"
   ]
  },
  {
   "cell_type": "markdown",
   "metadata": {},
   "source": [
    "### Comments\n",
    "\n",
    "-  1) add output of max and min fuel used\n",
    "-  2) ensure that battery is charging generator to ensure more resilience\n",
    "-  3) fuel accounting needs to be rethought, it doesn't make sense that we are leaving fuel to be unlimited since we have cost and limits on site associated with those variables. It might be better to program in fuel based on size of generator or max consumption\n",
    "-  4) Maybe make generator size a variable of 10 and place ceiling\n",
    "-  5) Output critical_loads \n",
    "-  6) increasing the gen size only slightly will cause it to be infeasible\n",
    "-  7) Might be good to get the entire year survival stats rather than just a few to get a good idea of the probability throughout the year\n"
   ]
  },
  {
   "cell_type": "markdown",
   "metadata": {},
   "source": [
    "## Code Begins"
   ]
  },
  {
   "cell_type": "markdown",
   "metadata": {},
   "source": [
    "### Function to get key reopt results"
   ]
  },
  {
   "cell_type": "code",
   "execution_count": 2,
   "metadata": {},
   "outputs": [
    {
     "data": {
      "text/plain": [
       "summarize_reopt_results (generic function with 1 method)"
      ]
     },
     "metadata": {},
     "output_type": "display_data"
    }
   ],
   "source": [
    "function summarize_reopt_results(reopt_response)\n",
    "    # Adjusting for the Financial details\n",
    "    println(\"LCC (\\$) = \", get(reopt_response[\"Financial\"], \"lcc\", \"N/A\"))\n",
    "    println(\"Capital Cost, Net (\\$) = \", get(reopt_response[\"Financial\"], \"lifecycle_capital_costs\", \"N/A\"))\n",
    "    println(\"Lifecycle Emission Tons (CO2) = \", get(reopt_response[\"Site\"], \"lifecycle_emissions_tonnes_CO2\", \"N/A\"))\n",
    "    println(\"NPV (\\$) = \", get(reopt_response[\"Financial\"], \"npv\", \"N/A\"))\n",
    "    println(\"LCOE (\\$/kWh) = \", get(reopt_response[\"PV\"], \"lcoe_per_kwh\", \"N/A\"))\n",
    "\n",
    "    tech_list = [\"PV\", \"Wind\", \"ElectricStorage\", \"CHP\", \"Generator\", \"HotThermalStorage\",\n",
    "        \"ColdThermalStorage\", \"AbsorptionChiller\", \"GHP\", \"NewBoiler\", \"SteamTurbine\"]\n",
    "\n",
    "    for tech in tech_list\n",
    "        if haskey(reopt_response, tech)\n",
    "            if tech ==   \"GHP\"\n",
    "                # Adjusting for GHP details\n",
    "                println(\"GHX Number of Boreholes = \", get(reopt_response[tech][\"ghpghx_chosen_outputs\"], \"number_of_boreholes\", \"N/A\"))\n",
    "                println(\"GHP Heat Pump Capacity (ton) = \", get(reopt_response[tech][\"ghpghx_chosen_outputs\"], \"peak_combined_heatpump_thermal_ton\", \"N/A\"))\n",
    "            end\n",
    "            # Extract sizes for each technology\n",
    "            for (key, value) in reopt_response[tech]\n",
    "                if occursin(\"size\", key)\n",
    "                    println(\"$(tech) $(key) = $(value)\")\n",
    "                end\n",
    "            end\n",
    "        end\n",
    "    end\n",
    "end"
   ]
  },
  {
   "cell_type": "markdown",
   "metadata": {},
   "source": [
    "### BASE CASE"
   ]
  },
  {
   "cell_type": "code",
   "execution_count": 3,
   "metadata": {},
   "outputs": [
    {
     "name": "stderr",
     "output_type": "stream",
     "text": [
      "\u001b[93m\u001b[1m┌ REopt | Warn: \u001b[22m\u001b[39m\u001b[0mWhen using stochastic outage modeling (i.e. outage_start_time_steps, outage_durations, outage_probabilities), \n"
     ]
    },
    {
     "name": "stderr",
     "output_type": "stream",
     "text": [
      "│                     emissions and renewable energy percentage calculations and constraints do not consider outages.\n",
      "└ @ REopt /Users/bpulluta/.julia/dev/REopt/src/core/electric_utility.jl:199\n"
     ]
    },
    {
     "name": "stderr",
     "output_type": "stream",
     "text": [
      "\u001b[36m\u001b[1m┌ REopt | Info: \u001b[22m\u001b[39m\u001b[0mQuerying PVWatts for production factor and ambient air temperature... \n",
      "└ @ REopt /Users/bpulluta/.julia/dev/REopt/src/core/utils.jl:414\n"
     ]
    },
    {
     "name": "stderr",
     "output_type": "stream",
     "text": [
      "\u001b[36m\u001b[1m┌ REopt | Info: \u001b[22m\u001b[39m\u001b[0mPVWatts success.\n",
      "└ @ REopt /Users/bpulluta/.julia/dev/REopt/src/core/utils.jl:420\n"
     ]
    },
    {
     "name": "stderr",
     "output_type": "stream",
     "text": [
      "\u001b[93m\u001b[1m┌ REopt | Warn: \u001b[22m\u001b[39m\u001b[0mAdding binary variable to model outages. Some solvers are very slow with integer variables\n",
      "└ @ REopt /Users/bpulluta/.julia/dev/REopt/src/core/reopt.jl:642\n",
      "\u001b[36m\u001b[1m┌ REopt | Info: \u001b[22m\u001b[39m"
     ]
    },
    {
     "name": "stderr",
     "output_type": "stream",
     "text": [
      "\u001b[0mModel built. Optimizing...\n",
      "└ @ REopt /Users/bpulluta/.julia/dev/REopt/src/core/reopt.jl:541\n"
     ]
    },
    {
     "name": "stdout",
     "output_type": "stream",
     "text": [
      "FICO Xpress v8.12.3, Hyper, solve started 16:09:37, Sep 14, 2023\n",
      "Heap usage: 5043KB (peak 5043KB, 559KB system)\n",
      "Minimizing MILP  with these control settings:\n",
      "OUTPUTLOG = 1\n",
      "MPSNAMELENGTH = 64\n",
      "CALLBACKFROMMASTERTHREAD = 1\n",
      "Original problem has:\n",
      "     19541 rows        11306 cols        28805 elements      1009 globals\n",
      "         1 inds\n",
      "Presolved problem has:\n",
      "         0 rows            0 cols            0 elements         0 globals\n",
      "Presolve finished in 0 seconds\n",
      "Heap usage: 5428KB (peak 16MB, 561KB system)\n",
      "Will try to keep branch and bound tree memory usage below 29.5GB\n",
      "Starting concurrent solve with dual\n",
      "\n",
      " Concurrent-Solve,   0s\n",
      "            Dual        \n",
      "    objective   dual inf\n",
      " D  152512.47   .0000000\n",
      "------- optimal --------\n",
      "Concurrent statistics:\n",
      "      Dual: 0 simplex iterations, 0.00s\n",
      "Optimal solution found\n",
      " \n",
      "   Its         Obj Value      S   Ninf  Nneg   Sum Dual Inf  Time\n",
      "     0       152512.4747      D      0     0        .000000     0\n",
      "Dual solved problem\n",
      "  0 simplex iterations in 0.00 seconds at time 0\n",
      "\n",
      "Final objective                       : 1.525124746625998e+05\n",
      "  Max primal violation      (abs/rel) :       0.0 /       0.0\n",
      "  Max dual violation        (abs/rel) :       0.0 /       0.0\n",
      "  Max complementarity viol. (abs/rel) :       0.0 /       0.0\n",
      "\n",
      "Starting root cutting & heuristics\n",
      " \n",
      " Its Type    BestSoln    BestBound   Sols    Add    Del     Gap     GInf   Time\n",
      "*         152512.4747  152512.4747      1                  0.00%       0      0\n"
     ]
    },
    {
     "name": "stdout",
     "output_type": "stream",
     "text": [
      " *** Search completed ***\n",
      "Uncrunching matrix\n",
      "Final MIP objective                   : 1.525124746625998e+05\n",
      "Final MIP bound                       : 1.525124746625998e+05\n",
      "  Solution time / primaldual integral :         0s/ 58.408434%\n",
      "  Number of solutions found / nodes   :         1 /         1\n",
      "  Max primal violation      (abs/rel) :       0.0 /       0.0\n",
      "  Max integer violation     (abs    ) :       0.0\n"
     ]
    },
    {
     "name": "stderr",
     "output_type": "stream",
     "text": [
      "\u001b[36m\u001b[1m┌ REopt | Info: \u001b[22m\u001b[39m\u001b[0mREopt solved with \n"
     ]
    },
    {
     "name": "stderr",
     "output_type": "stream",
     "text": [
      "│   termination_status(m) = OPTIMAL\n",
      "└ @ REopt /Users/bpulluta/.julia/dev/REopt/src/core/reopt.jl:554\n",
      "\u001b[36m\u001b[1m┌ REopt | Info: \u001b[22m\u001b[39m\u001b[0mSolving took 3.24 seconds.\n",
      "└ @ REopt /Users/bpulluta/.julia/dev/REopt/src/core/reopt.jl:555\n",
      "\u001b[36m\u001b[1m┌ REopt | Info: \u001b[22m\u001b[39m"
     ]
    },
    {
     "name": "stderr",
     "output_type": "stream",
     "text": [
      "\u001b[0mResults processing took 1.989 seconds.\n",
      "└ @ REopt /Users/bpulluta/.julia/dev/REopt/src/core/reopt.jl:560\n",
      "\u001b[93m\u001b[1m┌ REopt | Warn: \u001b[22m\u001b[39m\u001b[0mAdding binary variable to model gas generator. Some solvers are very slow with integer variables.\n",
      "└ @ REopt /Users/bpulluta/.julia/dev/REopt/src/core/reopt.jl:607\n",
      "\u001b[93m\u001b[1m┌ REopt | Warn: \u001b[22m\u001b[39m"
     ]
    },
    {
     "name": "stderr",
     "output_type": "stream",
     "text": [
      "\u001b[0mAdding binary variable to model outages. Some solvers are very slow with integer variables\n",
      "└ @ REopt /Users/bpulluta/.julia/dev/REopt/src/core/reopt.jl:642\n"
     ]
    },
    {
     "name": "stderr",
     "output_type": "stream",
     "text": [
      "\u001b[36m\u001b[1m┌ REopt | Info: \u001b[22m\u001b[39m\u001b[0mModel built. Optimizing...\n",
      "└ @ REopt /Users/bpulluta/.julia/dev/REopt/src/core/reopt.jl:541\n"
     ]
    },
    {
     "name": "stdout",
     "output_type": "stream",
     "text": [
      "FICO Xpress v8.12.3, Hyper, solve started 16:09:51, Sep 14, 2023\n",
      "Heap usage: 51MB (peak 51MB, 697KB system)\n",
      "Minimizing MILP  with these control settings:\n",
      "OUTPUTLOG = 1\n",
      "MPSNAMELENGTH = 64\n",
      "CALLBACKFROMMASTERTHREAD = 1\n",
      "Original problem has:\n",
      "    169815 rows       128229 cols       521396 elements      9771 globals\n",
      "      3534 inds\n"
     ]
    },
    {
     "name": "stdout",
     "output_type": "stream",
     "text": [
      "Presolved problem has:\n",
      "     53497 rows        31961 cols       211078 elements       507 globals\n",
      "      2520 inds\n",
      "Presolve finished in 0 seconds\n",
      "Heap usage: 83MB (peak 184MB, 699KB system)\n",
      "\n",
      "Coefficient range                    original                 solved        \n",
      "  Coefficients   [min,max] : [ 3.52e-05,  1.00e+06] / [ 3.52e-05,  1.25e+00]\n",
      "  RHS and bounds [min,max] : [ 1.00e+00,  1.00e+09] / [ 1.07e-02,  1.00e+06]\n",
      "  Objective      [min,max] : [ 1.00e-04,  1.14e+03] / [ 1.00e-04,  7.78e+02]\n",
      "Autoscaling applied standard scaling\n",
      "\n",
      "Will try to keep branch and bound tree memory usage below 28.4GB\n",
      "Starting concurrent solve with dual, primal and barrier (8 threads)\n"
     ]
    },
    {
     "name": "stdout",
     "output_type": "stream",
     "text": [
      "\n",
      "                           Concurrent-Solve,   0s\n",
      "            Dual                      Primal                     Barrier      \n",
      "    objective   dual inf       objective   sum inf         p.obj.     d.obj.  \n",
      " D  101071.80   .0000000 |  p  14373070.  10218.868 |  B  1.772E+08 -9.599E+10\n",
      " D  110423.74   .0000000 |  p  200147.48   .0000000 |  B  333806.22  38830.430"
     ]
    },
    {
     "name": "stdout",
     "output_type": "stream",
     "text": [
      "\n",
      " D  117949.04   .0000000 |  p  199244.12   .0000000 |  B  201882.68  190966.60"
     ]
    },
    {
     "name": "stdout",
     "output_type": "stream",
     "text": [
      "\n",
      " D  156026.87   .0000000 |  p  199244.12   .0000000 |  B  197850.76  197846.94"
     ]
    },
    {
     "name": "stdout",
     "output_type": "stream",
     "text": [
      "\n",
      "----- interrupted ------ | ----- interrupted ------ | ------- optimal --------"
     ]
    },
    {
     "name": "stdout",
     "output_type": "stream",
     "text": [
      "\n",
      "Concurrent statistics:\n",
      "      Dual: 14168 simplex iterations, 1.34s\n",
      "    Primal: 7266 simplex iterations, 1.34s\n",
      "   Barrier: 53 barrier and 1399 simplex iterations, 1.34s\n",
      "            Barrier used 8 threads 8 cores, L1\\L2 cache: 64K\\4096K\n",
      "            Barrier used SSE2 support, crossover used 8 threads\n",
      "Optimal solution found\n",
      " \n",
      "   Its         Obj Value      S   Ninf  Nneg        Sum Inf  Time\n",
      "   102       197849.9254      P      0     0        .000000     2\n",
      "Barrier solved problem\n",
      "  53 barrier and 1399 simplex iterations in 1.36 seconds at time 2\n",
      "\n",
      "Final objective                       : 1.978499253771025e+05\n",
      "  Max primal violation      (abs/rel) : 1.776e-15 / 1.684e-15\n",
      "  Max dual violation        (abs/rel) : 2.331e-15 / 2.331e-15\n",
      "  Max complementarity viol. (abs/rel) :       0.0 /       0.0\n",
      "High attention level predicted from matrix features\n",
      "\n",
      "Starting root cutting & heuristics\n",
      " \n",
      " Its Type    BestSoln    BestBound   Sols    Add    Del     Gap     GInf   Time\n",
      "c         197849.9254  197849.9254      1                 -0.00%       0      2\n"
     ]
    },
    {
     "name": "stdout",
     "output_type": "stream",
     "text": [
      " *** Search completed ***\n",
      "Uncrunching matrix\n",
      "Final MIP objective                   : 1.978499253770989e+05\n",
      "Final MIP bound                       : 1.978499253771025e+05\n",
      "  Solution time / primaldual integral :         2s/ 99.961458%\n",
      "  Number of solutions found / nodes   :         1 /         1\n",
      "  Max primal violation      (abs/rel) : 2.798e-13 / 2.798e-13\n",
      "  Max integer violation     (abs    ) :       0.0\n"
     ]
    },
    {
     "name": "stderr",
     "output_type": "stream",
     "text": [
      "\u001b[36m\u001b[1m┌ REopt | Info: \u001b[22m\u001b[39m\u001b[0mREopt solved with \n",
      "│   termination_status(m) = OPTIMAL\n",
      "└ @ REopt /Users/bpulluta/.julia/dev/REopt/src/core/reopt.jl:554\n",
      "\u001b[36m\u001b[1m┌ REopt | Info: \u001b[22m\u001b[39m\u001b[0mSolving took 2.949 seconds.\n",
      "└ @ REopt /Users/bpulluta/.julia/dev/REopt/src/core/reopt.jl:555\n",
      "\u001b[36m\u001b[1m┌ REopt | Info: \u001b[22m\u001b[39m"
     ]
    },
    {
     "name": "stderr",
     "output_type": "stream",
     "text": [
      "\u001b[0mResults processing took 4.881 seconds.\n",
      "└ @ REopt /Users/bpulluta/.julia/dev/REopt/src/core/reopt.jl:560\n"
     ]
    },
    {
     "data": {
      "text/plain": [
       "Dict{String, Any} with 12 entries:\n",
       "  \"Site\"            => Dict{String, Any}(\"annual_emissions_from_fuelburn_tonnes…\n",
       "  \"Generator\"       => Dict{String, Any}(\"electric_to_grid_series_kw\"=>1-dimens…\n",
       "  \"Outages\"         => Dict{String, Any}(\"generator_fuel_used_per_outage_gal\"=>…\n",
       "  \"ElectricStorage\" => Dict{String, Any}(\"size_kw\"=>3.76, \"size_kwh\"=>9.21, \"in…\n",
       "  \"status\"          => \"optimal\"\n",
       "  \"solver_seconds\"  => 2.949\n",
       "  \"ElectricUtility\" => Dict{String, Any}(\"lifecycle_emissions_tonnes_CO2_bau\"=>…\n",
       "  \"ElectricTariff\"  => Dict{String, Any}(\"lifecycle_demand_cost_after_tax_bau\"=…\n",
       "  \"ElectricLoad\"    => Dict{String, Any}(\"load_series_kw\"=>Real[8.302, 8.285, 8…\n",
       "  \"Messages\"        => Dict{Any, Any}(\"errors\"=>Any[], \"warnings\"=>Any[(\"core_r…\n",
       "  \"PV\"              => Dict{String, Any}(\"electric_to_grid_series_kw\"=>[0.0, 0.…\n",
       "  \"Financial\"       => Dict{String, Any}(\"lifecycle_chp_standby_cost_after_tax\"…"
      ]
     },
     "metadata": {},
     "output_type": "display_data"
    }
   ],
   "source": [
    "# Load inputs for REopt optimization\n",
    "p =   REoptInputs(\"./scenarios/reopt_inputs.json\")\n",
    "\n",
    "# Initialize the model\n",
    "model    =   Model(Xpress.Optimizer)\n",
    "modelbau =   Model(Xpress.Optimizer)\n",
    "\n",
    "# Run the REopt optimization\n",
    "results =   run_reopt([modelbau, model], p)"
   ]
  },
  {
   "cell_type": "code",
   "execution_count": 4,
   "metadata": {},
   "outputs": [
    {
     "data": {
      "text/plain": [
       "700820"
      ]
     },
     "metadata": {},
     "output_type": "display_data"
    }
   ],
   "source": [
    "open(\"./results/initial_reopt_results.json\", \"w\") do f\n",
    "    write(f, JSON.json(results))\n",
    "end"
   ]
  },
  {
   "cell_type": "markdown",
   "metadata": {},
   "source": [
    "### SETTING UP RELIABILITY INPUTS BASED ON BASE CASE RESULTS\n"
   ]
  },
  {
   "cell_type": "code",
   "execution_count": 5,
   "metadata": {},
   "outputs": [
    {
     "data": {
      "text/plain": [
       "1"
      ]
     },
     "metadata": {},
     "output_type": "display_data"
    }
   ],
   "source": [
    "# Load reliability inputs from file\n",
    "reliability_inputs =   JSON.parsefile(\"./scenarios/backup_reliability_inputs.json\")\n",
    "\n",
    "# Update reliability inputs based on the results from the base case\n",
    "reliability_inputs[\"pv_size_kw\"]                  =   results[\"PV\"][\"size_kw\"]\n",
    "reliability_inputs[\"critical_loads_kw\"]           =   results[\"ElectricLoad\"][\"critical_load_series_kw\"]\n",
    "reliability_inputs[\"generator_size_kw\"]           =   results[\"Generator\"][\"size_kw\"]\n",
    "reliability_inputs[\"battery_size_kw\"]             =   results[\"ElectricStorage\"][\"size_kw\"]\n",
    "reliability_inputs[\"battery_size_kwh\"]            =   results[\"ElectricStorage\"][\"size_kwh\"]\n",
    "reliability_inputs[\"pv_production_factor_series\"] =   results[\"PV\"][\"production_factor_series\"]\n",
    "reliability_inputs[\"num_generators\"]              =   1\n"
   ]
  },
  {
   "cell_type": "markdown",
   "metadata": {},
   "source": [
    "### COMPUTE RELIABILITY METRICS\n"
   ]
  },
  {
   "cell_type": "code",
   "execution_count": 6,
   "metadata": {},
   "outputs": [
    {
     "data": {
      "text/plain": [
       "Dict{String, Any} with 16 entries:\n",
       "  \"mean_cumulative_surviva… => [0.985631, 0.98423, 0.982739, 0.981425, 0.980163…\n",
       "  \"fuel_outage_survival_fi… => [1.0, 1.0, 1.0, 1.0, 1.0, 1.0, 1.0, 1.0, 1.0, 1.…\n",
       "  \"monthly_lower_quartile_… => [0.903238, 0.903238, 0.903238, 0.903238, 0.90323…\n",
       "  \"mean_cumulative_surviva… => 0.871057\n",
       "  \"unlimited_fuel_cumulati… => [0.903238, 0.903238, 0.903238, 0.903238, 0.90323…\n",
       "  \"max_fuel_used\"           => 194.448\n",
       "  \"min_fuel_used\"           => 43.5786\n",
       "  \"unlimited_fuel_min_cumu… => [0.0, 0.0, 0.0, 0.0, 0.0, 0.0, 0.0, 0.0, 0.0, 0.…\n",
       "  \"monthly_median_cumulati… => [0.903238, 0.903238, 0.903238, 0.903238, 0.90323…\n",
       "  \"cumulative_survival_fin… => [0.903238, 0.903238, 0.903238, 0.903238, 0.90323…\n",
       "  \"unlimited_fuel_mean_cum… => [0.985631, 0.98423, 0.982739, 0.981531, 0.980376…\n",
       "  \"min_cumulative_survival… => [0.0, 0.0, 0.0, 0.0, 0.0, 0.0, 0.0, 0.0, 0.0, 0.…\n",
       "  \"monthly_upper_quartile_… => [0.903238, 0.903238, 0.903238, 0.903238, 0.90323…\n",
       "  \"monthly_max_cumulative_… => [0.911903, 0.911114, 0.912692, 0.912692, 0.91348…\n",
       "  \"monthly_min_cumulative_… => [0.903238, 0.903238, 0.903238, 0.903238, 0.90323…\n",
       "  \"mean_fuel_survival_by_d… => [0.999658, 0.999543, 0.999201, 0.998973, 0.99874…"
      ]
     },
     "metadata": {},
     "output_type": "display_data"
    }
   ],
   "source": [
    "reliability_results =   backup_reliability(results, p, reliability_inputs)\n"
   ]
  },
  {
   "cell_type": "markdown",
   "metadata": {},
   "source": [
    "### SECOND ITERATION: MODIFYING GENERATOR PARAMETERS"
   ]
  },
  {
   "cell_type": "code",
   "execution_count": 7,
   "metadata": {},
   "outputs": [
    {
     "data": {
      "text/plain": [
       "300.0"
      ]
     },
     "metadata": {},
     "output_type": "display_data"
    }
   ],
   "source": [
    "#percentage increase of fuel\n",
    "perc_increase =   50\n",
    "# Increase the number of generators and adjust their size\n",
    "num_generators                          =   1\n",
    "reliability_inputs[\"generator_size_kw\"] =   ceil(results[\"Generator\"][\"size_kw\"] / 10) * 10 #Round up to the nearest 10 value of generator size\n",
    "reliability_inputs[\"num_generators\"]    =   num_generators\n",
    "\n",
    "#Re-compute reliability metrics\n",
    "reliability_results2 =   backup_reliability(results, p, reliability_inputs)\n",
    "\n",
    "# Update generator parameters for the next optimization\n",
    "generator_size_kw =   reliability_inputs[\"generator_size_kw\"]\n",
    "batt_size_kw      =   reliability_inputs[\"battery_size_kw\"]\n",
    "batt_size_kwh     =   reliability_inputs[\"battery_size_kwh\"]\n",
    "pv_kw             =   reliability_inputs[\"pv_size_kw\"]\n",
    "\n",
    "total_fuel_needed =   reliability_results2[\"max_fuel_used\"]\n",
    "\n",
    "# Load the original JSON file and update generator parameters\n",
    "erp_data                                =   JSON.parsefile(\"./scenarios/reopt_inputs.json\")\n",
    "erp_data[\"Generator\"][\"min_kw\"]         =   generator_size_kw\n",
    "erp_data[\"Generator\"][\"max_kw\"]         =   generator_size_kw\n",
    "erp_data[\"PV\"][\"min_kw\"]                =   pv_kw\n",
    "erp_data[\"PV\"][\"max_kw\"]                =   pv_kw\n",
    "erp_data[\"ElectricStorage\"][\"min_kw\"]   =   batt_size_kw\n",
    "erp_data[\"ElectricStorage\"][\"max_kw\"]   =   batt_size_kw\n",
    "erp_data[\"ElectricStorage\"][\"min_kwh\"]  =   batt_size_kwh\n",
    "erp_data[\"ElectricStorage\"][\"max_kwh\"]  =   batt_size_kwh\n",
    "erp_data[\"Generator\"][\"fuel_avail_gal\"] =   ceil(total_fuel_needed / 10) * 10 * (1 + (perc_increase / 100))\n"
   ]
  },
  {
   "cell_type": "code",
   "execution_count": 8,
   "metadata": {},
   "outputs": [
    {
     "data": {
      "text/plain": [
       "77832"
      ]
     },
     "metadata": {},
     "output_type": "display_data"
    }
   ],
   "source": [
    "# Save the updated parameters to a new file\n",
    "open(\"./scenarios/ERP_MOD_reopt_inputs.json\", \"w\") do f\n",
    "    write(f, JSON.json(erp_data))\n",
    "end"
   ]
  },
  {
   "cell_type": "markdown",
   "metadata": {},
   "source": [
    "### RERUN OPTIMIZATION WITH MODIFIED PARAMETERS"
   ]
  },
  {
   "cell_type": "code",
   "execution_count": 9,
   "metadata": {},
   "outputs": [
    {
     "name": "stderr",
     "output_type": "stream",
     "text": [
      "\u001b[93m\u001b[1m┌ REopt | Warn: \u001b[22m\u001b[39m\u001b[0mWhen using stochastic outage modeling (i.e. outage_start_time_steps, outage_durations, outage_probabilities), \n",
      "│                     emissions and renewable energy percentage calculations and constraints do not consider outages.\n",
      "└ @ REopt /Users/bpulluta/.julia/dev/REopt/src/core/electric_utility.jl:199\n",
      "\u001b[36m\u001b[1m┌ REopt | Info: \u001b[22m\u001b[39m\u001b[0mQuerying PVWatts for production factor and ambient air temperature... \n",
      "└ @ REopt /Users/bpulluta/.julia/dev/REopt/src/core/utils.jl:414\n"
     ]
    },
    {
     "name": "stderr",
     "output_type": "stream",
     "text": [
      "\u001b[36m\u001b[1m┌ REopt | Info: \u001b[22m\u001b[39m\u001b[0mPVWatts success.\n",
      "└ @ REopt /Users/bpulluta/.julia/dev/REopt/src/core/utils.jl:420\n"
     ]
    },
    {
     "name": "stderr",
     "output_type": "stream",
     "text": [
      "\u001b[93m\u001b[1m┌ REopt | Warn: \u001b[22m\u001b[39m\u001b[0mAdding binary variable to model outages. Some solvers are very slow with integer variables\n",
      "└ @ REopt /Users/bpulluta/.julia/dev/REopt/src/core/reopt.jl:642\n",
      "\u001b[36m\u001b[1m┌ REopt | Info: \u001b[22m\u001b[39m\u001b[0mModel built. Optimizing...\n",
      "└ @ REopt /Users/bpulluta/.julia/dev/REopt/src/core/reopt.jl:541\n"
     ]
    },
    {
     "name": "stdout",
     "output_type": "stream",
     "text": [
      "FICO Xpress v8.12.3, Hyper, solve started 16:10:20, Sep 14, 2023\n",
      "Heap usage: 5043KB (peak 5043KB, 989KB system)\n",
      "Minimizing MILP  with these control settings:\n",
      "OUTPUTLOG = 1\n",
      "MPSNAMELENGTH = 64\n",
      "CALLBACKFROMMASTERTHREAD = 1\n",
      "Original problem has:\n",
      "     19541 rows        11306 cols        28805 elements      1009 globals\n",
      "         1 inds\n",
      "Presolved problem has:\n",
      "         0 rows            0 cols            0 elements         0 globals\n",
      "Presolve finished in 0 seconds\n",
      "Heap usage: 5428KB (peak 16MB, 991KB system)\n",
      "Will try to keep branch and bound tree memory usage below 27.7GB\n",
      "Starting concurrent solve with dual\n",
      "\n",
      " Concurrent-Solve,   0s\n",
      "            Dual        \n",
      "    objective   dual inf\n",
      " D  152512.47   .0000000\n",
      "------- optimal --------\n",
      "Concurrent statistics:\n",
      "      Dual: 0 simplex iterations, 0.00s\n",
      "Optimal solution found\n",
      " \n",
      "   Its         Obj Value      S   Ninf  Nneg   Sum Dual Inf  Time\n",
      "     0       152512.4747      D      0     0        .000000     0\n",
      "Dual solved problem\n",
      "  0 simplex iterations in 0.00 seconds at time 0\n",
      "\n",
      "Final objective                       : 1.525124746625998e+05\n",
      "  Max primal violation      (abs/rel) :       0.0 /       0.0\n",
      "  Max dual violation        (abs/rel) :       0.0 /       0.0\n",
      "  Max complementarity viol. (abs/rel) :       0.0 /       0.0\n",
      "\n",
      "Starting root cutting & heuristics\n",
      " \n",
      " Its Type    BestSoln    BestBound   Sols    Add    Del     Gap     GInf   Time\n",
      "*         152512.4747  152512.4747      1                  0.00%       0      0\n"
     ]
    },
    {
     "name": "stdout",
     "output_type": "stream",
     "text": [
      " *** Search completed ***\n",
      "Uncrunching matrix\n",
      "Final MIP objective                   : 1.525124746625998e+05\n",
      "Final MIP bound                       : 1.525124746625998e+05\n",
      "  Solution time / primaldual integral :         0s/ 98.533038%\n",
      "  Number of solutions found / nodes   :         1 /         1\n",
      "  Max primal violation      (abs/rel) :       0.0 /       0.0\n",
      "  Max integer violation     (abs    ) :       0.0\n"
     ]
    },
    {
     "name": "stderr",
     "output_type": "stream",
     "text": [
      "\u001b[36m\u001b[1m┌ REopt | Info: \u001b[22m\u001b[39m\u001b[0mREopt solved with \n",
      "│   termination_status(m) = OPTIMAL\n",
      "└ @ REopt /Users/bpulluta/.julia/dev/REopt/src/core/reopt.jl:554\n",
      "\u001b[36m\u001b[1m┌ REopt | Info: \u001b[22m\u001b[39m\u001b[0mSolving took 0.066 seconds.\n",
      "└ @ REopt /Users/bpulluta/.julia/dev/REopt/src/core/reopt.jl:555\n",
      "\u001b[36m\u001b[1m┌ REopt | Info: \u001b[22m\u001b[39m"
     ]
    },
    {
     "name": "stderr",
     "output_type": "stream",
     "text": [
      "\u001b[0mResults processing took 0.546 seconds.\n",
      "└ @ REopt /Users/bpulluta/.julia/dev/REopt/src/core/reopt.jl:560\n",
      "\u001b[93m\u001b[1m┌ REopt | Warn: \u001b[22m\u001b[39m\u001b[0mAdding binary variable to model gas generator. Some solvers are very slow with integer variables.\n",
      "└ @ REopt /Users/bpulluta/.julia/dev/REopt/src/core/reopt.jl:607\n",
      "\u001b[93m\u001b[1m┌ REopt | Warn: \u001b[22m\u001b[39m\u001b[0mAdding binary variable to model outages. Some solvers are very slow with integer variables\n",
      "└ @ REopt /Users/bpulluta/.julia/dev/REopt/src/core/reopt.jl:642\n"
     ]
    },
    {
     "name": "stderr",
     "output_type": "stream",
     "text": [
      "\u001b[36m\u001b[1m┌ REopt | Info: \u001b[22m\u001b[39m\u001b[0mModel built. Optimizing...\n",
      "└ @ REopt /Users/bpulluta/.julia/dev/REopt/src/core/reopt.jl:541\n"
     ]
    },
    {
     "name": "stdout",
     "output_type": "stream",
     "text": [
      "FICO Xpress v8.12.3, Hyper, solve started 16:10:22, Sep 14, 2023\n",
      "Heap usage: 51MB (peak 51MB, 995KB system)\n",
      "Minimizing MILP  with these control settings:\n",
      "OUTPUTLOG = 1\n",
      "MPSNAMELENGTH = 64\n",
      "CALLBACKFROMMASTERTHREAD = 1\n",
      "Original problem has:\n",
      "    169815 rows       128229 cols       521396 elements      9771 globals\n",
      "      3534 inds\n"
     ]
    },
    {
     "name": "stdout",
     "output_type": "stream",
     "text": [
      "Presolved problem has:\n",
      "     21484 rows        29631 cols        66404 elements         0 globals\n",
      "LP relaxation tightened\n",
      "Presolve finished in 0 seconds\n",
      "Heap usage: 63MB (peak 177MB, 997KB system)\n",
      "\n",
      "Coefficient range                    original                 solved        \n",
      "  Coefficients   [min,max] : [ 3.52e-05,  6.00e+01] / [ 2.28e-01,  1.05e+00]\n",
      "  RHS and bounds [min,max] : [ 1.00e+00,  1.00e+09] / [ 1.77e-03,  9.00e+02]\n",
      "  Objective      [min,max] : [ 1.00e-04,  1.14e+03] / [ 1.00e-04,  1.14e+02]\n",
      "Autoscaling applied standard scaling\n",
      "\n",
      "Will try to keep branch and bound tree memory usage below 27.2GB\n",
      "Starting concurrent solve with dual, primal and barrier (8 threads)\n"
     ]
    },
    {
     "name": "stdout",
     "output_type": "stream",
     "text": [
      "\n",
      "                           Concurrent-Solve,   0s\n",
      "            Dual                      Primal                     Barrier      \n",
      "                                                          objective   sum inf \n",
      "                         |                          |  P  202412.03   .0000000\n",
      "----- interrupted ------ | ----- interrupted ------ | ------- optimal --------\n",
      "Concurrent statistics:\n",
      "      Dual: 5859 simplex iterations, 0.18s\n",
      "    Primal: 8052 simplex iterations, 0.09s\n",
      "   Barrier: 21 barrier and 4470 simplex iterations, 0.26s\n",
      "            Barrier used 8 threads 8 cores, L1\\L2 cache: 64K\\4096K\n",
      "            Barrier used SSE2 support, crossover used 8 threads\n",
      "Optimal solution found\n",
      " \n",
      "   Its         Obj Value      S   Ninf  Nneg        Sum Inf  Time\n",
      "     8       202412.0297      P      0     0        .000000     0\n",
      "Barrier solved problem\n",
      "  21 barrier and 4470 simplex iterations in 0.27 seconds at time 0\n",
      "\n",
      "Final objective                       : 2.024120296692981e+05\n",
      "  Max primal violation      (abs/rel) :       0.0 /       0.0\n",
      "  Max dual violation        (abs/rel) : 1.110e-16 / 1.110e-16\n",
      "  Max complementarity viol. (abs/rel) :       0.0 /       0.0\n",
      "High attention level predicted from matrix features\n",
      "\n",
      "Starting root cutting & heuristics\n",
      " \n",
      " Its Type    BestSoln    BestBound   Sols    Add    Del     Gap     GInf   Time\n",
      "c         202412.0297  202412.0297      1                  0.00%       0      0\n"
     ]
    },
    {
     "name": "stdout",
     "output_type": "stream",
     "text": [
      " *** Search completed ***\n",
      "Uncrunching matrix\n",
      "Final MIP objective                   : 2.024120296693369e+05\n",
      "Final MIP bound                       : 2.024120296692981e+05\n",
      "  Solution time / primaldual integral :         0s/ 99.884007%\n",
      "  Number of solutions found / nodes   :         1 /         1\n",
      "  Max primal violation      (abs/rel) : 1.683e-13 / 1.683e-13\n",
      "  Max integer violation     (abs    ) :       0.0\n"
     ]
    },
    {
     "name": "stderr",
     "output_type": "stream",
     "text": [
      "\u001b[36m\u001b[1m┌ REopt | Info: \u001b[22m\u001b[39m\u001b[0mREopt solved with \n",
      "│   termination_status(m) = OPTIMAL\n",
      "└ @ REopt /Users/bpulluta/.julia/dev/REopt/src/core/reopt.jl:554\n",
      "\u001b[36m\u001b[1m┌ REopt | Info: \u001b[22m\u001b[39m\u001b[0mSolving took 1.187 seconds.\n",
      "└ @ REopt /Users/bpulluta/.julia/dev/REopt/src/core/reopt.jl:555\n",
      "\u001b[36m\u001b[1m┌ REopt | Info: \u001b[22m\u001b[39m"
     ]
    },
    {
     "name": "stderr",
     "output_type": "stream",
     "text": [
      "\u001b[0mResults processing took 1.893 seconds.\n",
      "└ @ REopt /Users/bpulluta/.julia/dev/REopt/src/core/reopt.jl:560\n"
     ]
    },
    {
     "data": {
      "text/plain": [
       "Dict{String, Any} with 12 entries:\n",
       "  \"Site\"            => Dict{String, Any}(\"annual_emissions_from_fuelburn_tonnes…\n",
       "  \"Generator\"       => Dict{String, Any}(\"electric_to_grid_series_kw\"=>1-dimens…\n",
       "  \"Outages\"         => Dict{String, Any}(\"generator_fuel_used_per_outage_gal\"=>…\n",
       "  \"ElectricStorage\" => Dict{String, Any}(\"size_kw\"=>3.76, \"size_kwh\"=>9.21, \"in…\n",
       "  \"status\"          => \"optimal\"\n",
       "  \"solver_seconds\"  => 1.187\n",
       "  \"ElectricUtility\" => Dict{String, Any}(\"lifecycle_emissions_tonnes_CO2_bau\"=>…\n",
       "  \"ElectricTariff\"  => Dict{String, Any}(\"lifecycle_demand_cost_after_tax_bau\"=…\n",
       "  \"ElectricLoad\"    => Dict{String, Any}(\"load_series_kw\"=>Real[8.302, 8.285, 8…\n",
       "  \"Messages\"        => Dict{Any, Any}(\"errors\"=>Any[], \"warnings\"=>Any[(\"core_r…\n",
       "  \"PV\"              => Dict{String, Any}(\"electric_to_grid_series_kw\"=>[0.0, 0.…\n",
       "  \"Financial\"       => Dict{String, Any}(\"lifecycle_chp_standby_cost_after_tax\"…"
      ]
     },
     "metadata": {},
     "output_type": "display_data"
    }
   ],
   "source": [
    "# Load the updated inputs\n",
    "p2 =   REoptInputs(\"./scenarios/ERP_MOD_reopt_inputs.json\")\n",
    "\n",
    "# Initialize a new model\n",
    "model2    =   Model(Xpress.Optimizer)\n",
    "model2bau =   Model(Xpress.Optimizer)\n",
    "\n",
    "# Run the REopt optimization again\n",
    "results2 =   run_reopt([model2bau, model2], p2)\n"
   ]
  },
  {
   "cell_type": "code",
   "execution_count": 10,
   "metadata": {},
   "outputs": [
    {
     "data": {
      "text/plain": [
       "699909"
      ]
     },
     "metadata": {},
     "output_type": "display_data"
    }
   ],
   "source": [
    "\n",
    "open(\"./results/final_reopt_results.json\", \"w\") do f\n",
    "    write(f, JSON.json(results2))\n",
    "end"
   ]
  },
  {
   "cell_type": "markdown",
   "metadata": {},
   "source": [
    "### FINAL RELIABILITY METRICS"
   ]
  },
  {
   "cell_type": "code",
   "execution_count": 11,
   "metadata": {},
   "outputs": [
    {
     "data": {
      "text/plain": [
       "Dict{String, Any} with 16 entries:\n",
       "  \"mean_cumulative_surviva… => [0.98614, 0.984915, 0.983801, 0.982761, 0.981772…\n",
       "  \"fuel_outage_survival_fi… => [1.0, 1.0, 1.0, 1.0, 1.0, 1.0, 1.0, 1.0, 1.0, 1.…\n",
       "  \"monthly_lower_quartile_… => [0.903238, 0.903238, 0.903238, 0.903238, 0.90323…\n",
       "  \"mean_cumulative_surviva… => 0.903233\n",
       "  \"unlimited_fuel_cumulati… => [0.903238, 0.903238, 0.903238, 0.903238, 0.90323…\n",
       "  \"max_fuel_used\"           => 195.715\n",
       "  \"min_fuel_used\"           => 43.5786\n",
       "  \"unlimited_fuel_min_cumu… => [0.955208, 0.935253, 0.934403, 0.933554, 0.93270…\n",
       "  \"monthly_median_cumulati… => [0.903238, 0.903238, 0.903238, 0.903238, 0.90323…\n",
       "  \"cumulative_survival_fin… => [0.903238, 0.903238, 0.903238, 0.903238, 0.90323…\n",
       "  \"unlimited_fuel_mean_cum… => [0.98614, 0.984915, 0.983801, 0.982761, 0.981772…\n",
       "  \"min_cumulative_survival… => [0.955208, 0.935253, 0.934403, 0.933554, 0.93270…\n",
       "  \"monthly_upper_quartile_… => [0.903238, 0.903238, 0.903238, 0.903238, 0.90323…\n",
       "  \"monthly_max_cumulative_… => [0.911903, 0.911114, 0.912692, 0.912692, 0.91348…\n",
       "  \"monthly_min_cumulative_… => [0.903238, 0.903238, 0.903238, 0.903238, 0.90323…\n",
       "  \"mean_fuel_survival_by_d… => [1.0, 1.0, 1.0, 1.0, 1.0, 1.0, 1.0, 1.0, 1.0, 1.…"
      ]
     },
     "metadata": {},
     "output_type": "display_data"
    }
   ],
   "source": [
    "# Update reliability inputs based on the new results\n",
    "reliability_inputs2                                =   reliability_inputs\n",
    "reliability_inputs2[\"pv_size_kw\"]                  =   results2[\"PV\"][\"size_kw\"]\n",
    "reliability_inputs2[\"critical_loads_kw\"]           =   results2[\"ElectricLoad\"][\"critical_load_series_kw\"]\n",
    "reliability_inputs2[\"generator_size_kw\"]           =   results2[\"Generator\"][\"size_kw\"]\n",
    "reliability_inputs2[\"battery_size_kw\"]             =   results2[\"ElectricStorage\"][\"size_kw\"]\n",
    "reliability_inputs2[\"battery_size_kwh\"]            =   results2[\"ElectricStorage\"][\"size_kwh\"]\n",
    "reliability_inputs2[\"pv_production_factor_series\"] =   results2[\"PV\"][\"production_factor_series\"]\n",
    "\n",
    "# Compute final reliability metrics\n",
    "reliability_results_final =   backup_reliability(results2, p2, reliability_inputs2)"
   ]
  },
  {
   "cell_type": "markdown",
   "metadata": {},
   "source": [
    "### COMPARE RESULTS"
   ]
  },
  {
   "cell_type": "code",
   "execution_count": 12,
   "metadata": {},
   "outputs": [
    {
     "name": "stdout",
     "output_type": "stream",
     "text": [
      "\n",
      "###########First Iteration: \n",
      "LCC ($) = 197857.5018\n",
      "Capital Cost, Net ($) = 49907.005\n",
      "Lifecycle Emission Tons (CO2) = 2031.69\n",
      "NPV ($) = -45346.06\n",
      "LCOE ($/kWh) = 0.076\n"
     ]
    },
    {
     "name": "stdout",
     "output_type": "stream",
     "text": [
      "PV size_kw = 8.543\n",
      "ElectricStorage size_kw = 3.76\n",
      "ElectricStorage size_kwh = 9.21\n",
      "Generator size_kw = 54.14\n",
      "\n",
      "###########Second Iteration: \n",
      "LCC ($) = 202419.604\n",
      "Capital Cost, Net ($) = 53719.6744\n",
      "Lifecycle Emission Tons (CO2) = 2031.69\n",
      "NPV ($) = -49908.16\n",
      "LCOE ($/kWh) = 0.076\n",
      "PV size_kw = 8.543\n",
      "ElectricStorage size_kw = 3.76\n",
      "ElectricStorage size_kwh = 9.21\n",
      "Generator size_kw = 60.0\n"
     ]
    }
   ],
   "source": [
    "println(\"\")\n",
    "println(\"###########First Iteration: \")\n",
    "summarize_reopt_results(results)\n",
    "\n",
    "println(\"\")\n",
    "println(\"###########Second Iteration: \")\n",
    "summarize_reopt_results(results2)"
   ]
  },
  {
   "cell_type": "markdown",
   "metadata": {},
   "source": [
    "### STATISTICS"
   ]
  },
  {
   "cell_type": "code",
   "execution_count": 13,
   "metadata": {},
   "outputs": [
    {
     "data": {
      "text/plain": [
       "descriptive_stats (generic function with 1 method)"
      ]
     },
     "metadata": {},
     "output_type": "display_data"
    }
   ],
   "source": [
    "# using Pkg\n",
    "# Pkg.add(\"StatsBase\")\n",
    "\n",
    "# using StatsBase\n",
    "\n",
    "function descriptive_stats(data::Vector{Float64})\n",
    "    return Dict(\n",
    "        \"Mean\" => mean(data),\n",
    "        \"Median\" => median(data),\n",
    "        \"Variance\" => var(data),\n",
    "        \"Standard Deviation\" => std(data),\n",
    "        \"Skewness\" => skewness(data),\n",
    "        \"Kurtosis\" => kurtosis(data)\n",
    "    )\n",
    "end"
   ]
  },
  {
   "cell_type": "code",
   "execution_count": 16,
   "metadata": {},
   "outputs": [
    {
     "name": "stdout",
     "output_type": "stream",
     "text": [
      "Descriptive Statistics:\n",
      "Dict{String, Dict{String, Any}}(\"Iteration 2\" => Dict(\"mean_cumulative_survival_by_duration\" => Dict(\"Median\" => 0.9432625, \"Kurtosis\" => -1.1888420396425476, \"Skewness\" => 0.038667675517938496, \"Standard Deviation\" => 0.024058880134225868, \"Mean\" => 0.9436023854166665, \"Variance\" => 0.0005788297133130481), \"fuel_outage_survival_final_time_step\" => Dict(\"Median\" => 1.0, \"Kurtosis\" => NaN, \"Skewness\" => NaN, \"Standard Deviation\" => 0.0, \"Mean\" => 1.0, \"Variance\" => 0.0), \"monthly_lower_quartile_cumulative_survival_final_time_step\" => Dict(\"Median\" => 0.903238, \"Kurtosis\" => NaN, \"Skewness\" => NaN, \"Standard Deviation\" => 0.0, \"Mean\" => 0.903238, \"Variance\" => 0.0), \"mean_cumulative_survival_final_time_step\" => 0.903233, \"unlimited_fuel_cumulative_survival_final_time_step\" => Dict(\"Median\" => 0.903238, \"Kurtosis\" => 65.65546346523392, \"Skewness\" => -7.294497487426539, \"Standard Deviation\" => 0.0030809056779191385, \"Mean\" => 0.9032326630137, \"Variance\" => 9.491979796234387e-6), \"max_fuel_used\" => 195.71474409103394, \"min_fuel_used\" => 43.57862854003906, \"unlimited_fuel_min_cumulative_survival_by_duration\" => Dict(\"Median\" => 0.902661, \"Kurtosis\" => -1.0157371311138692, \"Skewness\" => 0.06039777013414647, \"Standard Deviation\" => 0.02319969270417846, \"Mean\" => 0.8974770104166666, \"Variance\" => 0.0005382257415683112), \"monthly_median_cumulative_survival_final_time_step\" => Dict(\"Median\" => 0.903238, \"Kurtosis\" => NaN, \"Skewness\" => NaN, \"Standard Deviation\" => 0.0, \"Mean\" => 0.903238, \"Variance\" => 0.0), \"cumulative_survival_final_time_step\" => Dict(\"Median\" => 0.903238, \"Kurtosis\" => 65.65546346523392, \"Skewness\" => -7.294497487426539, \"Standard Deviation\" => 0.0030809056779191385, \"Mean\" => 0.9032326630137, \"Variance\" => 9.491979796234387e-6), \"unlimited_fuel_mean_cumulative_survival_by_duration\" => Dict(\"Median\" => 0.9432625, \"Kurtosis\" => -1.1888420396425476, \"Skewness\" => 0.038667675517938496, \"Standard Deviation\" => 0.024058880134225868, \"Mean\" => 0.9436023854166665, \"Variance\" => 0.0005788297133130481), \"min_cumulative_survival_by_duration\" => Dict(\"Median\" => 0.902661, \"Kurtosis\" => -1.0157371311138692, \"Skewness\" => 0.06039777013414647, \"Standard Deviation\" => 0.02319969270417846, \"Mean\" => 0.8974770104166666, \"Variance\" => 0.0005382257415683112), \"monthly_upper_quartile_cumulative_survival_final_time_step\" => Dict(\"Median\" => 0.903238, \"Kurtosis\" => NaN, \"Skewness\" => NaN, \"Standard Deviation\" => 0.0, \"Mean\" => 0.903238, \"Variance\" => 0.0), \"monthly_max_cumulative_survival_final_time_step\" => Dict(\"Median\" => 0.9114925, \"Kurtosis\" => 0.30671843235356633, \"Skewness\" => -0.7355273703231046, \"Standard Deviation\" => 0.001565627173681435, \"Mean\" => 0.9115005833333333, \"Variance\" => 2.451188446969718e-6), \"monthly_min_cumulative_survival_final_time_step\" => Dict(\"Median\" => 0.903238, \"Kurtosis\" => 7.09090909090904, \"Skewness\" => -3.0151134457776236, \"Standard Deviation\" => 0.01288068450562055, \"Mean\" => 0.8995196666666666, \"Variance\" => 0.00016591203333333332), \"mean_fuel_survival_by_duration\" => Dict(\"Median\" => 1.0, \"Kurtosis\" => NaN, \"Skewness\" => NaN, \"Standard Deviation\" => 0.0, \"Mean\" => 1.0, \"Variance\" => 0.0)), \"Original\" => Dict(\"mean_cumulative_survival_by_duration\" => Dict(\"Median\" => 0.9259245, \"Kurtosis\" => -1.2274068161015164, \"Skewness\" => 0.046549967621062734, \"Standard Deviation\" => 0.033799400339121564, \"Mean\" => 0.9271569999999999, \"Variance\" => 0.0011423994632842108), \"fuel_outage_survival_final_time_step\" => Dict(\"Median\" => 1.0, \"Kurtosis\" => 25.345535082245124, \"Skewness\" => -5.229295849563237, \"Standard Deviation\" => 0.17862282185240877, \"Mean\" => 0.9670091324200913, \"Variance\" => 0.03190611248651736), \"monthly_lower_quartile_cumulative_survival_final_time_step\" => Dict(\"Median\" => 0.903238, \"Kurtosis\" => 7.047706943429196, \"Skewness\" => -3.003559884592368, \"Standard Deviation\" => 0.25991721826812936, \"Mean\" => 0.8244453333333333, \"Variance\" => 0.0675569603522424), \"mean_cumulative_survival_final_time_step\" => 0.871057, \"unlimited_fuel_cumulative_survival_final_time_step\" => Dict(\"Median\" => 0.903238, \"Kurtosis\" => 80.14795513297679, \"Skewness\" => -8.999608380262924, \"Standard Deviation\" => 0.09629999260530805, \"Mean\" => 0.8895881710045674, \"Variance\" => 0.009273688575782386), \"max_fuel_used\" => 194.4477480649948, \"min_fuel_used\" => 43.57862854003906, \"unlimited_fuel_min_cumulative_survival_by_duration\" => Dict(\"Median\" => 0.0, \"Kurtosis\" => NaN, \"Skewness\" => NaN, \"Standard Deviation\" => 0.0, \"Mean\" => 0.0, \"Variance\" => 0.0), \"monthly_median_cumulative_survival_final_time_step\" => Dict(\"Median\" => 0.903238, \"Kurtosis\" => 1.1999999999999336, \"Skewness\" => -1.7888543819998042, \"Standard Deviation\" => 0.01054749294497241, \"Mean\" => 0.8987218333333332, \"Variance\" => 0.00011124960742424275), \"cumulative_survival_final_time_step\" => Dict(\"Median\" => 0.903238, \"Kurtosis\" => 25.1337603548976, \"Skewness\" => -5.198641595610833, \"Standard Deviation\" => 0.1612013276251548, \"Mean\" => 0.8710570256849327, \"Variance\" => 0.02598586802811249), \"unlimited_fuel_mean_cumulative_survival_by_duration\" => Dict(\"Median\" => 0.935546, \"Kurtosis\" => -1.1818679144126039, \"Skewness\" => 0.05033600729364204, \"Standard Deviation\" => 0.02779149411785056, \"Mean\" => 0.9360425520833332, \"Variance\" => 0.0007723671453025222), \"min_cumulative_survival_by_duration\" => Dict(\"Median\" => 0.0, \"Kurtosis\" => NaN, \"Skewness\" => NaN, \"Standard Deviation\" => 0.0, \"Mean\" => 0.0, \"Variance\" => 0.0), \"monthly_upper_quartile_cumulative_survival_final_time_step\" => Dict(\"Median\" => 0.903238, \"Kurtosis\" => NaN, \"Skewness\" => NaN, \"Standard Deviation\" => 0.0, \"Mean\" => 0.903238, \"Variance\" => 0.0), \"monthly_max_cumulative_survival_final_time_step\" => Dict(\"Median\" => 0.9114925, \"Kurtosis\" => 0.868672298330682, \"Skewness\" => -1.2741080095667632, \"Standard Deviation\" => 0.0023093907106735995, \"Mean\" => 0.9111079999999999, \"Variance\" => 5.333285454545513e-6), \"monthly_min_cumulative_survival_final_time_step\" => Dict(\"Median\" => 0.903238, \"Kurtosis\" => 1.1901996030094297, \"Skewness\" => -1.7836486003550818, \"Standard Deviation\" => 0.3500808149452456, \"Mean\" => 0.74898, \"Variance\" => 0.1225565769927273), \"mean_fuel_survival_by_duration\" => Dict(\"Median\" => 0.983276, \"Kurtosis\" => -1.3315960074808233, \"Skewness\" => -0.0025812382679796875, \"Standard Deviation\" => 0.010155434230698118, \"Mean\" => 0.9839326666666669, \"Variance\" => 0.00010313284441403507)), \"Final\" => Dict(\"mean_cumulative_survival_by_duration\" => Dict(\"Median\" => 0.9432625, \"Kurtosis\" => -1.1888420396425476, \"Skewness\" => 0.038667675517938496, \"Standard Deviation\" => 0.024058880134225868, \"Mean\" => 0.9436023854166665, \"Variance\" => 0.0005788297133130481), \"fuel_outage_survival_final_time_step\" => Dict(\"Median\" => 1.0, \"Kurtosis\" => NaN, \"Skewness\" => NaN, \"Standard Deviation\" => 0.0, \"Mean\" => 1.0, \"Variance\" => 0.0), \"monthly_lower_quartile_cumulative_survival_final_time_step\" => Dict(\"Median\" => 0.903238, \"Kurtosis\" => NaN, \"Skewness\" => NaN, \"Standard Deviation\" => 0.0, \"Mean\" => 0.903238, \"Variance\" => 0.0), \"mean_cumulative_survival_final_time_step\" => 0.903233, \"unlimited_fuel_cumulative_survival_final_time_step\" => Dict(\"Median\" => 0.903238, \"Kurtosis\" => 65.65546346523392, \"Skewness\" => -7.294497487426539, \"Standard Deviation\" => 0.0030809056779191385, \"Mean\" => 0.9032326630137, \"Variance\" => 9.491979796234387e-6), \"max_fuel_used\" => 195.71474409103394, \"min_fuel_used\" => 43.57862854003906, \"unlimited_fuel_min_cumulative_survival_by_duration\" => Dict(\"Median\" => 0.902661, \"Kurtosis\" => -1.0157371311138692, \"Skewness\" => 0.06039777013414647, \"Standard Deviation\" => 0.02319969270417846, \"Mean\" => 0.8974770104166666, \"Variance\" => 0.0005382257415683112), \"monthly_median_cumulative_survival_final_time_step\" => Dict(\"Median\" => 0.903238, \"Kurtosis\" => NaN, \"Skewness\" => NaN, \"Standard Deviation\" => 0.0, \"Mean\" => 0.903238, \"Variance\" => 0.0), \"cumulative_survival_final_time_step\" => Dict(\"Median\" => 0.903238, \"Kurtosis\" => 65.65546346523392, \"Skewness\" => -7.294497487426539, \"Standard Deviation\" => 0.0030809056779191385, \"Mean\" => 0.9032326630137, \"Variance\" => 9.491979796234387e-6), \"unlimited_fuel_mean_cumulative_survival_by_duration\" => Dict(\"Median\" => 0.9432625, \"Kurtosis\" => -1.1888420396425476, \"Skewness\" => 0.038667675517938496, \"Standard Deviation\" => 0.024058880134225868, \"Mean\" => 0.9436023854166665, \"Variance\" => 0.0005788297133130481), \"min_cumulative_survival_by_duration\" => Dict(\"Median\" => 0.902661, \"Kurtosis\" => -1.0157371311138692, \"Skewness\" => 0.06039777013414647, \"Standard Deviation\" => 0.02319969270417846, \"Mean\" => 0.8974770104166666, \"Variance\" => 0.0005382257415683112), \"monthly_upper_quartile_cumulative_survival_final_time_step\" => Dict(\"Median\" => 0.903238, \"Kurtosis\" => NaN, \"Skewness\" => NaN, \"Standard Deviation\" => 0.0, \"Mean\" => 0.903238, \"Variance\" => 0.0), \"monthly_max_cumulative_survival_final_time_step\" => Dict(\"Median\" => 0.9114925, \"Kurtosis\" => 0.30671843235356633, \"Skewness\" => -0.7355273703231046, \"Standard Deviation\" => 0.001565627173681435, \"Mean\" => 0.9115005833333333, \"Variance\" => 2.451188446969718e-6), \"monthly_min_cumulative_survival_final_time_step\" => Dict(\"Median\" => 0.903238, \"Kurtosis\" => 7.09090909090904, \"Skewness\" => -3.0151134457776236, \"Standard Deviation\" => 0.01288068450562055, \"Mean\" => 0.8995196666666666, \"Variance\" => 0.00016591203333333332), \"mean_fuel_survival_by_duration\" => Dict(\"Median\" => 1.0, \"Kurtosis\" => NaN, \"Skewness\" => NaN"
     ]
    },
    {
     "name": "stdout",
     "output_type": "stream",
     "text": [
      ", \"Standard Deviation\" => 0.0, \"Mean\" => 1.0, \"Variance\" => 0.0)))\n"
     ]
    },
    {
     "data": {
      "image/png": "[encoded data removed]",
      "image/svg+xml": [
       "<?xml version=\"1.0\" encoding=\"utf-8\"?>\n",
       "<svg xmlns=\"http://www.w3.org/2000/svg\" xmlns:xlink=\"http://www.w3.org/1999/xlink\" width=\"600\" height=\"400\" viewBox=\"0 0 2400 1600\">\n",
       "<defs>\n",
       "  <clipPath id=\"clip100\">\n",
       "    <rect x=\"0\" y=\"0\" width=\"2400\" height=\"1600\"/>\n",
       "  </clipPath>\n",
       "</defs>\n",
       "<path clip-path=\"url(#clip100)\" d=\"M0 1600 L2400 1600 L2400 0 L0 0  Z\" fill=\"#ffffff\" fill-rule=\"evenodd\" fill-opacity=\"1\"/>\n",
       "<defs>\n",
       "  <clipPath id=\"clip101\">\n",
       "    <rect x=\"480\" y=\"0\" width=\"1681\" height=\"1600\"/>\n",
       "  </clipPath>\n",
       "</defs>\n",
       "<path clip-path=\"url(#clip100)\" d=\"M169.121 1486.45 L2352.76 1486.45 L2352.76 47.2441 L169.121 47.2441  Z\" fill=\"#ffffff\" fill-rule=\"evenodd\" fill-opacity=\"1\"/>\n",
       "<defs>\n",
       "  <clipPath id=\"clip102\">\n",
       "    <rect x=\"169\" y=\"47\" width=\"2185\" height=\"1440\"/>\n",
       "  </clipPath>\n",
       "</defs>\n",
       "<polyline clip-path=\"url(#clip102)\" style=\"stroke:#000000; stroke-linecap:round; stroke-linejoin:round; stroke-width:2; stroke-opacity:0.1; fill:none\" points=\"230.922,1486.45 230.922,47.2441 \"/>\n",
       "<polyline clip-path=\"url(#clip102)\" style=\"stroke:#000000; stroke-linecap:round; stroke-linejoin:round; stroke-width:2; stroke-opacity:0.1; fill:none\" points=\"1260.94,1486.45 1260.94,47.2441 \"/>\n",
       "<polyline clip-path=\"url(#clip102)\" style=\"stroke:#000000; stroke-linecap:round; stroke-linejoin:round; stroke-width:2; stroke-opacity:0.1; fill:none\" points=\"2290.95,1486.45 2290.95,47.2441 \"/>\n",
       "<polyline clip-path=\"url(#clip100)\" style=\"stroke:#000000; stroke-linecap:round; stroke-linejoin:round; stroke-width:4; stroke-opacity:1; fill:none\" points=\"169.121,1486.45 2352.76,1486.45 \"/>\n",
       "<polyline clip-path=\"url(#clip100)\" style=\"stroke:#000000; stroke-linecap:round; stroke-linejoin:round; stroke-width:4; stroke-opacity:1; fill:none\" points=\"230.922,1486.45 230.922,1467.55 \"/>\n",
       "<polyline clip-path=\"url(#clip100)\" style=\"stroke:#000000; stroke-linecap:round; stroke-linejoin:round; stroke-width:4; stroke-opacity:1; fill:none\" points=\"1260.94,1486.45 1260.94,1467.55 \"/>\n",
       "<polyline clip-path=\"url(#clip100)\" style=\"stroke:#000000; stroke-linecap:round; stroke-linejoin:round; stroke-width:4; stroke-opacity:1; fill:none\" points=\"2290.95,1486.45 2290.95,1467.55 \"/>\n",
       "<path clip-path=\"url(#clip100)\" d=\"M157.74 1517.46 Q152.647 1517.46 149.638 1521.26 Q146.652 1525.05 146.652 1531.6 Q146.652 1538.13 149.638 1541.93 Q152.647 1545.72 157.74 1545.72 Q162.832 1545.72 165.795 1541.93 Q168.781 1538.13 168.781 1531.6 Q168.781 1525.05 165.795 1521.26 Q162.832 1517.46 157.74 1517.46 M157.74 1513.66 Q165.008 1513.66 169.36 1518.55 Q173.712 1523.41 173.712 1531.6 Q173.712 1539.77 169.36 1544.66 Q165.008 1549.52 157.74 1549.52 Q150.448 1549.52 146.073 1544.66 Q141.721 1539.8 141.721 1531.6 Q141.721 1523.41 146.073 1518.55 Q150.448 1513.66 157.74 1513.66 Z\" fill=\"#000000\" fill-rule=\"nonzero\" fill-opacity=\"1\" /><path clip-path=\"url(#clip100)\" d=\"M195.865 1526.9 Q195.147 1526.49 194.291 1526.3 Q193.457 1526.09 192.439 1526.09 Q188.828 1526.09 186.883 1528.45 Q184.962 1530.79 184.962 1535.19 L184.962 1548.85 L180.68 1548.85 L180.68 1522.92 L184.962 1522.92 L184.962 1526.95 Q186.304 1524.59 188.457 1523.45 Q190.61 1522.3 193.689 1522.3 Q194.129 1522.3 194.661 1522.37 Q195.193 1522.41 195.841 1522.53 L195.865 1526.9 Z\" fill=\"#000000\" fill-rule=\"nonzero\" fill-opacity=\"1\" /><path clip-path=\"url(#clip100)\" d=\"M200.332 1522.92 L204.591 1522.92 L204.591 1548.85 L200.332 1548.85 L200.332 1522.92 M200.332 1512.83 L204.591 1512.83 L204.591 1518.22 L200.332 1518.22 L200.332 1512.83 Z\" fill=\"#000000\" fill-rule=\"nonzero\" fill-opacity=\"1\" /><path clip-path=\"url(#clip100)\" d=\"M230.564 1535.58 Q230.564 1530.95 228.642 1528.41 Q226.744 1525.86 223.295 1525.86 Q219.869 1525.86 217.948 1528.41 Q216.05 1530.95 216.05 1535.58 Q216.05 1540.19 217.948 1542.74 Q219.869 1545.28 223.295 1545.28 Q226.744 1545.28 228.642 1542.74 Q230.564 1540.19 230.564 1535.58 M234.823 1545.63 Q234.823 1552.25 231.883 1555.47 Q228.943 1558.71 222.878 1558.71 Q220.633 1558.71 218.642 1558.36 Q216.652 1558.04 214.777 1557.34 L214.777 1553.2 Q216.652 1554.22 218.48 1554.7 Q220.309 1555.19 222.207 1555.19 Q226.397 1555.19 228.48 1552.99 Q230.564 1550.82 230.564 1546.39 L230.564 1544.29 Q229.244 1546.58 227.184 1547.71 Q225.124 1548.85 222.253 1548.85 Q217.485 1548.85 214.568 1545.21 Q211.652 1541.58 211.652 1535.58 Q211.652 1529.57 214.568 1525.93 Q217.485 1522.3 222.253 1522.3 Q225.124 1522.3 227.184 1523.43 Q229.244 1524.57 230.564 1526.86 L230.564 1522.92 L234.823 1522.92 L234.823 1545.63 Z\" fill=\"#000000\" fill-rule=\"nonzero\" fill-opacity=\"1\" /><path clip-path=\"url(#clip100)\" d=\"M243.596 1522.92 L247.855 1522.92 L247.855 1548.85 L243.596 1548.85 L243.596 1522.92 M243.596 1512.83 L247.855 1512.83 L247.855 1518.22 L243.596 1518.22 L243.596 1512.83 Z\" fill=\"#000000\" fill-rule=\"nonzero\" fill-opacity=\"1\" /><path clip-path=\"url(#clip100)\" d=\"M278.318 1533.2 L278.318 1548.85 L274.059 1548.85 L274.059 1533.34 Q274.059 1529.66 272.623 1527.83 Q271.188 1526 268.318 1526 Q264.869 1526 262.878 1528.2 Q260.887 1530.4 260.887 1534.2 L260.887 1548.85 L256.605 1548.85 L256.605 1522.92 L260.887 1522.92 L260.887 1526.95 Q262.415 1524.61 264.475 1523.45 Q266.559 1522.3 269.267 1522.3 Q273.735 1522.3 276.026 1525.07 Q278.318 1527.83 278.318 1533.2 Z\" fill=\"#000000\" fill-rule=\"nonzero\" fill-opacity=\"1\" /><path clip-path=\"url(#clip100)\" d=\"M298.596 1535.82 Q293.434 1535.82 291.443 1537 Q289.452 1538.18 289.452 1541.02 Q289.452 1543.29 290.934 1544.63 Q292.438 1545.95 295.008 1545.95 Q298.549 1545.95 300.679 1543.45 Q302.832 1540.93 302.832 1536.76 L302.832 1535.82 L298.596 1535.82 M307.091 1534.06 L307.091 1548.85 L302.832 1548.85 L302.832 1544.91 Q301.373 1547.27 299.197 1548.41 Q297.021 1549.52 293.873 1549.52 Q289.892 1549.52 287.531 1547.3 Q285.193 1545.05 285.193 1541.3 Q285.193 1536.93 288.109 1534.7 Q291.049 1532.48 296.859 1532.48 L302.832 1532.48 L302.832 1532.07 Q302.832 1529.13 300.887 1527.53 Q298.966 1525.91 295.471 1525.91 Q293.248 1525.91 291.142 1526.44 Q289.035 1526.97 287.091 1528.04 L287.091 1524.1 Q289.429 1523.2 291.628 1522.76 Q293.827 1522.3 295.91 1522.3 Q301.535 1522.3 304.313 1525.21 Q307.091 1528.13 307.091 1534.06 Z\" fill=\"#000000\" fill-rule=\"nonzero\" fill-opacity=\"1\" /><path clip-path=\"url(#clip100)\" d=\"M315.864 1512.83 L320.123 1512.83 L320.123 1548.85 L315.864 1548.85 L315.864 1512.83 Z\" fill=\"#000000\" fill-rule=\"nonzero\" fill-opacity=\"1\" /><path clip-path=\"url(#clip100)\" d=\"M1142.48 1514.29 L1147.15 1514.29 L1147.15 1548.85 L1142.48 1548.85 L1142.48 1514.29 Z\" fill=\"#000000\" fill-rule=\"nonzero\" fill-opacity=\"1\" /><path clip-path=\"url(#clip100)\" d=\"M1160.49 1515.56 L1160.49 1522.92 L1169.26 1522.92 L1169.26 1526.23 L1160.49 1526.23 L1160.49 1540.31 Q1160.49 1543.48 1161.34 1544.38 Q1162.22 1545.28 1164.89 1545.28 L1169.26 1545.28 L1169.26 1548.85 L1164.89 1548.85 Q1159.96 1548.85 1158.08 1547.02 Q1156.21 1545.17 1156.21 1540.31 L1156.21 1526.23 L1153.08 1526.23 L1153.08 1522.92 L1156.21 1522.92 L1156.21 1515.56 L1160.49 1515.56 Z\" fill=\"#000000\" fill-rule=\"nonzero\" fill-opacity=\"1\" /><path clip-path=\"url(#clip100)\" d=\"M1197.04 1534.82 L1197.04 1536.9 L1177.46 1536.9 Q1177.73 1541.3 1180.09 1543.62 Q1182.48 1545.91 1186.71 1545.91 Q1189.17 1545.91 1191.46 1545.31 Q1193.77 1544.7 1196.04 1543.5 L1196.04 1547.53 Q1193.75 1548.5 1191.34 1549.01 Q1188.94 1549.52 1186.46 1549.52 Q1180.26 1549.52 1176.62 1545.91 Q1173.01 1542.3 1173.01 1536.14 Q1173.01 1529.77 1176.44 1526.05 Q1179.89 1522.3 1185.72 1522.3 Q1190.95 1522.3 1193.98 1525.68 Q1197.04 1529.03 1197.04 1534.82 M1192.78 1533.57 Q1192.73 1530.07 1190.81 1527.99 Q1188.91 1525.91 1185.77 1525.91 Q1182.2 1525.91 1180.05 1527.92 Q1177.92 1529.94 1177.59 1533.59 L1192.78 1533.57 Z\" fill=\"#000000\" fill-rule=\"nonzero\" fill-opacity=\"1\" /><path clip-path=\"url(#clip100)\" d=\"M1219.05 1526.9 Q1218.33 1526.49 1217.48 1526.3 Q1216.64 1526.09 1215.63 1526.09 Q1212.02 1526.09 1210.07 1528.45 Q1208.15 1530.79 1208.15 1535.19 L1208.15 1548.85 L1203.87 1548.85 L1203.87 1522.92 L1208.15 1522.92 L1208.15 1526.95 Q1209.49 1524.59 1211.64 1523.45 Q1213.8 1522.3 1216.88 1522.3 Q1217.32 1522.3 1217.85 1522.37 Q1218.38 1522.41 1219.03 1522.53 L1219.05 1526.9 Z\" fill=\"#000000\" fill-rule=\"nonzero\" fill-opacity=\"1\" /><path clip-path=\"url(#clip100)\" d=\"M1235.3 1535.82 Q1230.14 1535.82 1228.15 1537 Q1226.16 1538.18 1226.16 1541.02 Q1226.16 1543.29 1227.64 1544.63 Q1229.14 1545.95 1231.71 1545.95 Q1235.26 1545.95 1237.39 1543.45 Q1239.54 1540.93 1239.54 1536.76 L1239.54 1535.82 L1235.3 1535.82 M1243.8 1534.06 L1243.8 1548.85 L1239.54 1548.85 L1239.54 1544.91 Q1238.08 1547.27 1235.9 1548.41 Q1233.73 1549.52 1230.58 1549.52 Q1226.6 1549.52 1224.24 1547.3 Q1221.9 1545.05 1221.9 1541.3 Q1221.9 1536.93 1224.82 1534.7 Q1227.76 1532.48 1233.57 1532.48 L1239.54 1532.48 L1239.54 1532.07 Q1239.54 1529.13 1237.59 1527.53 Q1235.67 1525.91 1232.18 1525.91 Q1229.95 1525.91 1227.85 1526.44 Q1225.74 1526.97 1223.8 1528.04 L1223.8 1524.1 Q1226.14 1523.2 1228.33 1522.76 Q1230.53 1522.3 1232.62 1522.3 Q1238.24 1522.3 1241.02 1525.21 Q1243.8 1528.13 1243.8 1534.06 Z\" fill=\"#000000\" fill-rule=\"nonzero\" fill-opacity=\"1\" /><path clip-path=\"url(#clip100)\" d=\"M1256.78 1515.56 L1256.78 1522.92 L1265.56 1522.92 L1265.56 1526.23 L1256.78 1526.23 L1256.78 1540.31 Q1256.78 1543.48 1257.64 1544.38 Q1258.52 1545.28 1261.18 1545.28 L1265.56 1545.28 L1265.56 1548.85 L1261.18 1548.85 Q1256.25 1548.85 1254.38 1547.02 Q1252.5 1545.17 1252.5 1540.31 L1252.5 1526.23 L1249.38 1526.23 L1249.38 1522.92 L1252.5 1522.92 L1252.5 1515.56 L1256.78 1515.56 Z\" fill=\"#000000\" fill-rule=\"nonzero\" fill-opacity=\"1\" /><path clip-path=\"url(#clip100)\" d=\"M1271.16 1522.92 L1275.42 1522.92 L1275.42 1548.85 L1271.16 1548.85 L1271.16 1522.92 M1271.16 1512.83 L1275.42 1512.83 L1275.42 1518.22 L1271.16 1518.22 L1271.16 1512.83 Z\" fill=\"#000000\" fill-rule=\"nonzero\" fill-opacity=\"1\" /><path clip-path=\"url(#clip100)\" d=\"M1294.38 1525.91 Q1290.95 1525.91 1288.96 1528.59 Q1286.97 1531.26 1286.97 1535.91 Q1286.97 1540.56 1288.94 1543.25 Q1290.93 1545.91 1294.38 1545.91 Q1297.78 1545.91 1299.77 1543.22 Q1301.76 1540.54 1301.76 1535.91 Q1301.76 1531.3 1299.77 1528.62 Q1297.78 1525.91 1294.38 1525.91 M1294.38 1522.3 Q1299.93 1522.3 1303.1 1525.91 Q1306.27 1529.52 1306.27 1535.91 Q1306.27 1542.27 1303.1 1545.91 Q1299.93 1549.52 1294.38 1549.52 Q1288.8 1549.52 1285.63 1545.91 Q1282.48 1542.27 1282.48 1535.91 Q1282.48 1529.52 1285.63 1525.91 Q1288.8 1522.3 1294.38 1522.3 Z\" fill=\"#000000\" fill-rule=\"nonzero\" fill-opacity=\"1\" /><path clip-path=\"url(#clip100)\" d=\"M1334.88 1533.2 L1334.88 1548.85 L1330.63 1548.85 L1330.63 1533.34 Q1330.63 1529.66 1329.19 1527.83 Q1327.76 1526 1324.89 1526 Q1321.44 1526 1319.45 1528.2 Q1317.45 1530.4 1317.45 1534.2 L1317.45 1548.85 L1313.17 1548.85 L1313.17 1522.92 L1317.45 1522.92 L1317.45 1526.95 Q1318.98 1524.61 1321.04 1523.45 Q1323.13 1522.3 1325.83 1522.3 Q1330.3 1522.3 1332.59 1525.07 Q1334.88 1527.83 1334.88 1533.2 Z\" fill=\"#000000\" fill-rule=\"nonzero\" fill-opacity=\"1\" /><path clip-path=\"url(#clip100)\" d=\"M1363.08 1544.91 L1379.4 1544.91 L1379.4 1548.85 L1357.45 1548.85 L1357.45 1544.91 Q1360.12 1542.16 1364.7 1537.53 Q1369.31 1532.88 1370.49 1531.53 Q1372.73 1529.01 1373.61 1527.27 Q1374.51 1525.51 1374.51 1523.82 Q1374.51 1521.07 1372.57 1519.33 Q1370.65 1517.6 1367.55 1517.6 Q1365.35 1517.6 1362.89 1518.36 Q1360.46 1519.13 1357.69 1520.68 L1357.69 1515.95 Q1360.51 1514.82 1362.96 1514.24 Q1365.42 1513.66 1367.45 1513.66 Q1372.82 1513.66 1376.02 1516.35 Q1379.21 1519.03 1379.21 1523.52 Q1379.21 1525.65 1378.4 1527.57 Q1377.62 1529.47 1375.51 1532.07 Q1374.93 1532.74 1371.83 1535.95 Q1368.73 1539.15 1363.08 1544.91 Z\" fill=\"#000000\" fill-rule=\"nonzero\" fill-opacity=\"1\" /><path clip-path=\"url(#clip100)\" d=\"M2240.87 1514.29 L2260.74 1514.29 L2260.74 1518.22 L2245.55 1518.22 L2245.55 1528.41 L2259.25 1528.41 L2259.25 1532.34 L2245.55 1532.34 L2245.55 1548.85 L2240.87 1548.85 L2240.87 1514.29 Z\" fill=\"#000000\" fill-rule=\"nonzero\" fill-opacity=\"1\" /><path clip-path=\"url(#clip100)\" d=\"M2264.51 1522.92 L2268.77 1522.92 L2268.77 1548.85 L2264.51 1548.85 L2264.51 1522.92 M2264.51 1512.83 L2268.77 1512.83 L2268.77 1518.22 L2264.51 1518.22 L2264.51 1512.83 Z\" fill=\"#000000\" fill-rule=\"nonzero\" fill-opacity=\"1\" /><path clip-path=\"url(#clip100)\" d=\"M2299.23 1533.2 L2299.23 1548.85 L2294.97 1548.85 L2294.97 1533.34 Q2294.97 1529.66 2293.54 1527.83 Q2292.1 1526 2289.23 1526 Q2285.78 1526 2283.79 1528.2 Q2281.8 1530.4 2281.8 1534.2 L2281.8 1548.85 L2277.52 1548.85 L2277.52 1522.92 L2281.8 1522.92 L2281.8 1526.95 Q2283.33 1524.61 2285.39 1523.45 Q2287.47 1522.3 2290.18 1522.3 Q2294.65 1522.3 2296.94 1525.07 Q2299.23 1527.83 2299.23 1533.2 Z\" fill=\"#000000\" fill-rule=\"nonzero\" fill-opacity=\"1\" /><path clip-path=\"url(#clip100)\" d=\"M2319.51 1535.82 Q2314.35 1535.82 2312.36 1537 Q2310.36 1538.18 2310.36 1541.02 Q2310.36 1543.29 2311.85 1544.63 Q2313.35 1545.95 2315.92 1545.95 Q2319.46 1545.95 2321.59 1543.45 Q2323.74 1540.93 2323.74 1536.76 L2323.74 1535.82 L2319.51 1535.82 M2328 1534.06 L2328 1548.85 L2323.74 1548.85 L2323.74 1544.91 Q2322.29 1547.27 2320.11 1548.41 Q2317.93 1549.52 2314.79 1549.52 Q2310.8 1549.52 2308.44 1547.3 Q2306.11 1545.05 2306.11 1541.3 Q2306.11 1536.93 2309.02 1534.7 Q2311.96 1532.48 2317.77 1532.48 L2323.74 1532.48 L2323.74 1532.07 Q2323.74 1529.13 2321.8 1527.53 Q2319.88 1525.91 2316.38 1525.91 Q2314.16 1525.91 2312.05 1526.44 Q2309.95 1526.97 2308 1528.04 L2308 1524.1 Q2310.34 1523.2 2312.54 1522.76 Q2314.74 1522.3 2316.82 1522.3 Q2322.45 1522.3 2325.23 1525.21 Q2328 1528.13 2328 1534.06 Z\" fill=\"#000000\" fill-rule=\"nonzero\" fill-opacity=\"1\" /><path clip-path=\"url(#clip100)\" d=\"M2336.78 1512.83 L2341.04 1512.83 L2341.04 1548.85 L2336.78 1548.85 L2336.78 1512.83 Z\" fill=\"#000000\" fill-rule=\"nonzero\" fill-opacity=\"1\" /><polyline clip-path=\"url(#clip102)\" style=\"stroke:#000000; stroke-linecap:round; stroke-linejoin:round; stroke-width:2; stroke-opacity:0.1; fill:none\" points=\"169.121,1299.16 2352.76,1299.16 \"/>\n",
       "<polyline clip-path=\"url(#clip102)\" style=\"stroke:#000000; stroke-linecap:round; stroke-linejoin:round; stroke-width:2; stroke-opacity:0.1; fill:none\" points=\"169.121,1031.43 2352.76,1031.43 \"/>\n",
       "<polyline clip-path=\"url(#clip102)\" style=\"stroke:#000000; stroke-linecap:round; stroke-linejoin:round; stroke-width:2; stroke-opacity:0.1; fill:none\" points=\"169.121,763.693 2352.76,763.693 \"/>\n",
       "<polyline clip-path=\"url(#clip102)\" style=\"stroke:#000000; stroke-linecap:round; stroke-linejoin:round; stroke-width:2; stroke-opacity:0.1; fill:none\" points=\"169.121,495.958 2352.76,495.958 \"/>\n",
       "<polyline clip-path=\"url(#clip102)\" style=\"stroke:#000000; stroke-linecap:round; stroke-linejoin:round; stroke-width:2; stroke-opacity:0.1; fill:none\" points=\"169.121,228.223 2352.76,228.223 \"/>\n",
       "<polyline clip-path=\"url(#clip100)\" style=\"stroke:#000000; stroke-linecap:round; stroke-linejoin:round; stroke-width:4; stroke-opacity:1; fill:none\" points=\"169.121,1486.45 169.121,47.2441 \"/>\n",
       "<polyline clip-path=\"url(#clip100)\" style=\"stroke:#000000; stroke-linecap:round; stroke-linejoin:round; stroke-width:4; stroke-opacity:1; fill:none\" points=\"169.121,1299.16 188.019,1299.16 \"/>\n",
       "<polyline clip-path=\"url(#clip100)\" style=\"stroke:#000000; stroke-linecap:round; stroke-linejoin:round; stroke-width:4; stroke-opacity:1; fill:none\" points=\"169.121,1031.43 188.019,1031.43 \"/>\n",
       "<polyline clip-path=\"url(#clip100)\" style=\"stroke:#000000; stroke-linecap:round; stroke-linejoin:round; stroke-width:4; stroke-opacity:1; fill:none\" points=\"169.121,763.693 188.019,763.693 \"/>\n",
       "<polyline clip-path=\"url(#clip100)\" style=\"stroke:#000000; stroke-linecap:round; stroke-linejoin:round; stroke-width:4; stroke-opacity:1; fill:none\" points=\"169.121,495.958 188.019,495.958 \"/>\n",
       "<polyline clip-path=\"url(#clip100)\" style=\"stroke:#000000; stroke-linecap:round; stroke-linejoin:round; stroke-width:4; stroke-opacity:1; fill:none\" points=\"169.121,228.223 188.019,228.223 \"/>\n",
       "<path clip-path=\"url(#clip100)\" d=\"M91.5938 1297.3 Q88.4456 1297.3 86.5938 1299.45 Q84.7651 1301.61 84.7651 1305.36 Q84.7651 1309.08 86.5938 1311.26 Q88.4456 1313.41 91.5938 1313.41 Q94.7419 1313.41 96.5706 1311.26 Q98.4224 1309.08 98.4224 1305.36 Q98.4224 1301.61 96.5706 1299.45 Q94.7419 1297.3 91.5938 1297.3 M100.876 1282.65 L100.876 1286.91 Q99.1169 1286.07 97.3113 1285.63 Q95.5289 1285.19 93.7697 1285.19 Q89.1401 1285.19 86.6864 1288.32 Q84.2558 1291.44 83.9086 1297.76 Q85.2743 1295.75 87.3345 1294.68 Q89.3947 1293.6 91.8715 1293.6 Q97.0798 1293.6 100.089 1296.77 Q103.121 1299.92 103.121 1305.36 Q103.121 1310.68 99.9733 1313.9 Q96.8252 1317.11 91.5938 1317.11 Q85.5984 1317.11 82.4271 1312.53 Q79.2559 1307.92 79.2559 1299.2 Q79.2559 1291 83.1447 1286.14 Q87.0336 1281.26 93.5845 1281.26 Q95.3437 1281.26 97.1261 1281.61 Q98.9317 1281.95 100.876 1282.65 Z\" fill=\"#000000\" fill-rule=\"nonzero\" fill-opacity=\"1\" /><path clip-path=\"url(#clip100)\" d=\"M121.177 1284.96 Q117.566 1284.96 115.737 1288.53 Q113.932 1292.07 113.932 1299.2 Q113.932 1306.3 115.737 1309.87 Q117.566 1313.41 121.177 1313.41 Q124.811 1313.41 126.617 1309.87 Q128.445 1306.3 128.445 1299.2 Q128.445 1292.07 126.617 1288.53 Q124.811 1284.96 121.177 1284.96 M121.177 1281.26 Q126.987 1281.26 130.043 1285.86 Q133.121 1290.45 133.121 1299.2 Q133.121 1307.92 130.043 1312.53 Q126.987 1317.11 121.177 1317.11 Q115.367 1317.11 112.288 1312.53 Q109.233 1307.92 109.233 1299.2 Q109.233 1290.45 112.288 1285.86 Q115.367 1281.26 121.177 1281.26 Z\" fill=\"#000000\" fill-rule=\"nonzero\" fill-opacity=\"1\" /><path clip-path=\"url(#clip100)\" d=\"M81.154 1047.99 L81.154 1043.73 Q82.9133 1044.56 84.7188 1045 Q86.5243 1045.44 88.2604 1045.44 Q92.89 1045.44 95.3206 1042.34 Q97.7743 1039.22 98.1215 1032.87 Q96.7789 1034.87 94.7187 1035.93 Q92.6586 1037 90.1586 1037 Q84.9734 1037 81.941 1033.87 Q78.9318 1030.72 78.9318 1025.28 Q78.9318 1019.96 82.0799 1016.74 Q85.2281 1013.52 90.4595 1013.52 Q96.4548 1013.52 99.603 1018.13 Q102.774 1022.71 102.774 1031.46 Q102.774 1039.63 98.8854 1044.52 Q95.0197 1049.38 88.4688 1049.38 Q86.7095 1049.38 84.904 1049.03 Q83.0984 1048.68 81.154 1047.99 M90.4595 1033.34 Q93.6076 1033.34 95.4363 1031.18 Q97.2882 1029.03 97.2882 1025.28 Q97.2882 1021.56 95.4363 1019.4 Q93.6076 1017.23 90.4595 1017.23 Q87.3114 1017.23 85.4595 1019.4 Q83.6308 1021.56 83.6308 1025.28 Q83.6308 1029.03 85.4595 1031.18 Q87.3114 1033.34 90.4595 1033.34 Z\" fill=\"#000000\" fill-rule=\"nonzero\" fill-opacity=\"1\" /><path clip-path=\"url(#clip100)\" d=\"M121.177 1017.23 Q117.566 1017.23 115.737 1020.79 Q113.932 1024.33 113.932 1031.46 Q113.932 1038.57 115.737 1042.13 Q117.566 1045.68 121.177 1045.68 Q124.811 1045.68 126.617 1042.13 Q128.445 1038.57 128.445 1031.46 Q128.445 1024.33 126.617 1020.79 Q124.811 1017.23 121.177 1017.23 M121.177 1013.52 Q126.987 1013.52 130.043 1018.13 Q133.121 1022.71 133.121 1031.46 Q133.121 1040.19 130.043 1044.8 Q126.987 1049.38 121.177 1049.38 Q115.367 1049.38 112.288 1044.8 Q109.233 1040.19 109.233 1031.46 Q109.233 1022.71 112.288 1018.13 Q115.367 1013.52 121.177 1013.52 Z\" fill=\"#000000\" fill-rule=\"nonzero\" fill-opacity=\"1\" /><path clip-path=\"url(#clip100)\" d=\"M51.6634 777.038 L59.3023 777.038 L59.3023 750.672 L50.9921 752.339 L50.9921 748.079 L59.256 746.413 L63.9319 746.413 L63.9319 777.038 L71.5707 777.038 L71.5707 780.973 L51.6634 780.973 L51.6634 777.038 Z\" fill=\"#000000\" fill-rule=\"nonzero\" fill-opacity=\"1\" /><path clip-path=\"url(#clip100)\" d=\"M85.0429 777.038 L101.362 777.038 L101.362 780.973 L79.4179 780.973 L79.4179 777.038 Q82.0799 774.283 86.6632 769.653 Q91.2697 765.001 92.4502 763.658 Q94.6956 761.135 95.5752 759.399 Q96.478 757.64 96.478 755.95 Q96.478 753.195 94.5336 751.459 Q92.6123 749.723 89.5104 749.723 Q87.3114 749.723 84.8577 750.487 Q82.4271 751.251 79.6494 752.802 L79.6494 748.079 Q82.4734 746.945 84.9271 746.367 Q87.3808 745.788 89.4178 745.788 Q94.7882 745.788 97.9826 748.473 Q101.177 751.158 101.177 755.649 Q101.177 757.779 100.367 759.7 Q99.5798 761.598 97.4734 764.191 Q96.8947 764.862 93.7928 768.079 Q90.691 771.274 85.0429 777.038 Z\" fill=\"#000000\" fill-rule=\"nonzero\" fill-opacity=\"1\" /><path clip-path=\"url(#clip100)\" d=\"M121.177 749.492 Q117.566 749.492 115.737 753.056 Q113.932 756.598 113.932 763.728 Q113.932 770.834 115.737 774.399 Q117.566 777.94 121.177 777.94 Q124.811 777.94 126.617 774.399 Q128.445 770.834 128.445 763.728 Q128.445 756.598 126.617 753.056 Q124.811 749.492 121.177 749.492 M121.177 745.788 Q126.987 745.788 130.043 750.394 Q133.121 754.978 133.121 763.728 Q133.121 772.454 130.043 777.061 Q126.987 781.644 121.177 781.644 Q115.367 781.644 112.288 777.061 Q109.233 772.454 109.233 763.728 Q109.233 754.978 112.288 750.394 Q115.367 745.788 121.177 745.788 Z\" fill=\"#000000\" fill-rule=\"nonzero\" fill-opacity=\"1\" /><path clip-path=\"url(#clip100)\" d=\"M51.6634 509.303 L59.3023 509.303 L59.3023 482.937 L50.9921 484.604 L50.9921 480.344 L59.256 478.678 L63.9319 478.678 L63.9319 509.303 L71.5707 509.303 L71.5707 513.238 L51.6634 513.238 L51.6634 509.303 Z\" fill=\"#000000\" fill-rule=\"nonzero\" fill-opacity=\"1\" /><path clip-path=\"url(#clip100)\" d=\"M81.0614 478.678 L99.4178 478.678 L99.4178 482.613 L85.3438 482.613 L85.3438 491.085 Q86.3623 490.738 87.3808 490.576 Q88.3993 490.391 89.4178 490.391 Q95.2049 490.391 98.5845 493.562 Q101.964 496.733 101.964 502.15 Q101.964 507.728 98.4919 510.83 Q95.0197 513.909 88.7003 513.909 Q86.5243 513.909 84.2558 513.539 Q82.0105 513.168 79.6031 512.428 L79.6031 507.728 Q81.6864 508.863 83.9086 509.418 Q86.1308 509.974 88.6077 509.974 Q92.6123 509.974 94.9502 507.867 Q97.2882 505.761 97.2882 502.15 Q97.2882 498.539 94.9502 496.432 Q92.6123 494.326 88.6077 494.326 Q86.7327 494.326 84.8577 494.742 Q83.0058 495.159 81.0614 496.039 L81.0614 478.678 Z\" fill=\"#000000\" fill-rule=\"nonzero\" fill-opacity=\"1\" /><path clip-path=\"url(#clip100)\" d=\"M121.177 481.756 Q117.566 481.756 115.737 485.321 Q113.932 488.863 113.932 495.992 Q113.932 503.099 115.737 506.664 Q117.566 510.205 121.177 510.205 Q124.811 510.205 126.617 506.664 Q128.445 503.099 128.445 495.992 Q128.445 488.863 126.617 485.321 Q124.811 481.756 121.177 481.756 M121.177 478.053 Q126.987 478.053 130.043 482.659 Q133.121 487.242 133.121 495.992 Q133.121 504.719 130.043 509.326 Q126.987 513.909 121.177 513.909 Q115.367 513.909 112.288 509.326 Q109.233 504.719 109.233 495.992 Q109.233 487.242 112.288 482.659 Q115.367 478.053 121.177 478.053 Z\" fill=\"#000000\" fill-rule=\"nonzero\" fill-opacity=\"1\" /><path clip-path=\"url(#clip100)\" d=\"M51.6634 241.567 L59.3023 241.567 L59.3023 215.202 L50.9921 216.868 L50.9921 212.609 L59.256 210.943 L63.9319 210.943 L63.9319 241.567 L71.5707 241.567 L71.5707 245.503 L51.6634 245.503 L51.6634 241.567 Z\" fill=\"#000000\" fill-rule=\"nonzero\" fill-opacity=\"1\" /><path clip-path=\"url(#clip100)\" d=\"M91.0151 229.091 Q87.6817 229.091 85.7605 230.873 Q83.8623 232.655 83.8623 235.78 Q83.8623 238.905 85.7605 240.688 Q87.6817 242.47 91.0151 242.47 Q94.3484 242.47 96.2697 240.688 Q98.1909 238.882 98.1909 235.78 Q98.1909 232.655 96.2697 230.873 Q94.3715 229.091 91.0151 229.091 M86.3392 227.1 Q83.3299 226.359 81.6401 224.299 Q79.9735 222.239 79.9735 219.276 Q79.9735 215.132 82.9133 212.725 Q85.8762 210.318 91.0151 210.318 Q96.1771 210.318 99.1169 212.725 Q102.057 215.132 102.057 219.276 Q102.057 222.239 100.367 224.299 Q98.7002 226.359 95.7141 227.1 Q99.0937 227.887 100.969 230.179 Q102.867 232.47 102.867 235.78 Q102.867 240.804 99.7882 243.489 Q96.7326 246.174 91.0151 246.174 Q85.2975 246.174 82.2188 243.489 Q79.1633 240.804 79.1633 235.78 Q79.1633 232.47 81.0614 230.179 Q82.9595 227.887 86.3392 227.1 M84.6262 219.716 Q84.6262 222.401 86.2929 223.905 Q87.9827 225.41 91.0151 225.41 Q94.0243 225.41 95.7141 223.905 Q97.4271 222.401 97.4271 219.716 Q97.4271 217.031 95.7141 215.526 Q94.0243 214.021 91.0151 214.021 Q87.9827 214.021 86.2929 215.526 Q84.6262 217.031 84.6262 219.716 Z\" fill=\"#000000\" fill-rule=\"nonzero\" fill-opacity=\"1\" /><path clip-path=\"url(#clip100)\" d=\"M121.177 214.021 Q117.566 214.021 115.737 217.586 Q113.932 221.128 113.932 228.257 Q113.932 235.364 115.737 238.929 Q117.566 242.47 121.177 242.47 Q124.811 242.47 126.617 238.929 Q128.445 235.364 128.445 228.257 Q128.445 221.128 126.617 217.586 Q124.811 214.021 121.177 214.021 M121.177 210.318 Q126.987 210.318 130.043 214.924 Q133.121 219.507 133.121 228.257 Q133.121 236.984 130.043 241.591 Q126.987 246.174 121.177 246.174 Q115.367 246.174 112.288 241.591 Q109.233 236.984 109.233 228.257 Q109.233 219.507 112.288 214.924 Q115.367 210.318 121.177 210.318 Z\" fill=\"#000000\" fill-rule=\"nonzero\" fill-opacity=\"1\" /><polyline clip-path=\"url(#clip102)\" style=\"stroke:#0000ff; stroke-linecap:round; stroke-linejoin:round; stroke-width:8; stroke-opacity:1; fill:none\" points=\"230.922,1445.72 1260.94,1445.72 2290.95,1445.72 \"/>\n",
       "<circle clip-path=\"url(#clip102)\" cx=\"230.922\" cy=\"1445.72\" r=\"14.4\" fill=\"#0000ff\" fill-rule=\"evenodd\" fill-opacity=\"1\" stroke=\"#000000\" stroke-opacity=\"1\" stroke-width=\"3.2\"/>\n",
       "<circle clip-path=\"url(#clip102)\" cx=\"1260.94\" cy=\"1445.72\" r=\"14.4\" fill=\"#0000ff\" fill-rule=\"evenodd\" fill-opacity=\"1\" stroke=\"#000000\" stroke-opacity=\"1\" stroke-width=\"3.2\"/>\n",
       "<circle clip-path=\"url(#clip102)\" cx=\"2290.95\" cy=\"1445.72\" r=\"14.4\" fill=\"#0000ff\" fill-rule=\"evenodd\" fill-opacity=\"1\" stroke=\"#000000\" stroke-opacity=\"1\" stroke-width=\"3.2\"/>\n",
       "<polyline clip-path=\"url(#clip102)\" style=\"stroke:#ff0000; stroke-linecap:round; stroke-linejoin:round; stroke-width:8; stroke-opacity:1; fill:none\" points=\"230.922,99.2836 1260.94,87.9763 2290.95,87.9763 \"/>\n",
       "<circle clip-path=\"url(#clip102)\" cx=\"230.922\" cy=\"99.2836\" r=\"14.4\" fill=\"#ff0000\" fill-rule=\"evenodd\" fill-opacity=\"1\" stroke=\"#000000\" stroke-opacity=\"1\" stroke-width=\"3.2\"/>\n",
       "<circle clip-path=\"url(#clip102)\" cx=\"1260.94\" cy=\"87.9763\" r=\"14.4\" fill=\"#ff0000\" fill-rule=\"evenodd\" fill-opacity=\"1\" stroke=\"#000000\" stroke-opacity=\"1\" stroke-width=\"3.2\"/>\n",
       "<circle clip-path=\"url(#clip102)\" cx=\"2290.95\" cy=\"87.9763\" r=\"14.4\" fill=\"#ff0000\" fill-rule=\"evenodd\" fill-opacity=\"1\" stroke=\"#000000\" stroke-opacity=\"1\" stroke-width=\"3.2\"/>\n",
       "<path clip-path=\"url(#clip100)\" d=\"M241.909 250.738 L795.178 250.738 L795.178 95.2176 L241.909 95.2176  Z\" fill=\"#ffffff\" fill-rule=\"evenodd\" fill-opacity=\"1\"/>\n",
       "<polyline clip-path=\"url(#clip100)\" style=\"stroke:#000000; stroke-linecap:round; stroke-linejoin:round; stroke-width:4; stroke-opacity:1; fill:none\" points=\"241.909,250.738 795.178,250.738 795.178,95.2176 241.909,95.2176 241.909,250.738 \"/>\n",
       "<polyline clip-path=\"url(#clip100)\" style=\"stroke:#0000ff; stroke-linecap:round; stroke-linejoin:round; stroke-width:8; stroke-opacity:1; fill:none\" points=\"266.172,147.058 411.747,147.058 \"/>\n",
       "<circle clip-path=\"url(#clip100)\" cx=\"338.96\" cy=\"147.058\" r=\"20.2188\" fill=\"#0000ff\" fill-rule=\"evenodd\" fill-opacity=\"1\" stroke=\"#000000\" stroke-opacity=\"1\" stroke-width=\"4.55111\"/>\n",
       "<path clip-path=\"url(#clip100)\" d=\"M436.01 129.778 L442.978 129.778 L451.797 153.296 L460.663 129.778 L467.63 129.778 L467.63 164.338 L463.07 164.338 L463.07 133.99 L454.158 157.694 L449.459 157.694 L440.547 133.99 L440.547 164.338 L436.01 164.338 L436.01 129.778 Z\" fill=\"#000000\" fill-rule=\"nonzero\" fill-opacity=\"1\" /><path clip-path=\"url(#clip100)\" d=\"M476.727 138.412 L480.987 138.412 L480.987 164.338 L476.727 164.338 L476.727 138.412 M476.727 128.319 L480.987 128.319 L480.987 133.713 L476.727 133.713 L476.727 128.319 Z\" fill=\"#000000\" fill-rule=\"nonzero\" fill-opacity=\"1\" /><path clip-path=\"url(#clip100)\" d=\"M511.449 148.689 L511.449 164.338 L507.19 164.338 L507.19 148.828 Q507.19 145.148 505.755 143.319 Q504.32 141.49 501.449 141.49 Q498 141.49 496.01 143.69 Q494.019 145.889 494.019 149.685 L494.019 164.338 L489.737 164.338 L489.737 138.412 L494.019 138.412 L494.019 142.44 Q495.547 140.102 497.607 138.944 Q499.69 137.787 502.399 137.787 Q506.866 137.787 509.158 140.565 Q511.449 143.319 511.449 148.689 Z\" fill=\"#000000\" fill-rule=\"nonzero\" fill-opacity=\"1\" /><path clip-path=\"url(#clip100)\" d=\"M535.199 129.778 L555.06 129.778 L555.06 133.713 L539.875 133.713 L539.875 143.898 L553.579 143.898 L553.579 147.833 L539.875 147.833 L539.875 164.338 L535.199 164.338 L535.199 129.778 Z\" fill=\"#000000\" fill-rule=\"nonzero\" fill-opacity=\"1\" /><path clip-path=\"url(#clip100)\" d=\"M559.25 154.106 L559.25 138.412 L563.509 138.412 L563.509 153.944 Q563.509 157.625 564.944 159.476 Q566.38 161.305 569.25 161.305 Q572.699 161.305 574.69 159.106 Q576.704 156.907 576.704 153.111 L576.704 138.412 L580.963 138.412 L580.963 164.338 L576.704 164.338 L576.704 160.356 Q575.153 162.717 573.093 163.875 Q571.056 165.009 568.347 165.009 Q563.88 165.009 561.565 162.231 Q559.25 159.453 559.25 154.106 M569.968 137.787 L569.968 137.787 Z\" fill=\"#000000\" fill-rule=\"nonzero\" fill-opacity=\"1\" /><path clip-path=\"url(#clip100)\" d=\"M611.912 150.31 L611.912 152.393 L592.329 152.393 Q592.606 156.791 594.967 159.106 Q597.352 161.398 601.588 161.398 Q604.041 161.398 606.333 160.796 Q608.648 160.194 610.916 158.99 L610.916 163.018 Q608.625 163.99 606.217 164.5 Q603.81 165.009 601.333 165.009 Q595.13 165.009 591.495 161.398 Q587.884 157.787 587.884 151.629 Q587.884 145.264 591.31 141.537 Q594.759 137.787 600.592 137.787 Q605.824 137.787 608.856 141.166 Q611.912 144.523 611.912 150.31 M607.653 149.06 Q607.606 145.565 605.685 143.481 Q603.787 141.398 600.639 141.398 Q597.074 141.398 594.921 143.412 Q592.792 145.426 592.467 149.083 L607.653 149.06 Z\" fill=\"#000000\" fill-rule=\"nonzero\" fill-opacity=\"1\" /><path clip-path=\"url(#clip100)\" d=\"M618.903 128.319 L623.162 128.319 L623.162 164.338 L618.903 164.338 L618.903 128.319 Z\" fill=\"#000000\" fill-rule=\"nonzero\" fill-opacity=\"1\" /><path clip-path=\"url(#clip100)\" d=\"M646.796 129.778 L651.495 129.778 L651.495 150.773 Q651.495 156.328 653.509 158.782 Q655.523 161.213 660.037 161.213 Q664.527 161.213 666.541 158.782 Q668.555 156.328 668.555 150.773 L668.555 129.778 L673.254 129.778 L673.254 151.352 Q673.254 158.111 669.898 161.56 Q666.564 165.009 660.037 165.009 Q653.486 165.009 650.129 161.56 Q646.796 158.111 646.796 151.352 L646.796 129.778 Z\" fill=\"#000000\" fill-rule=\"nonzero\" fill-opacity=\"1\" /><path clip-path=\"url(#clip100)\" d=\"M698.37 139.176 L698.37 143.203 Q696.564 142.277 694.62 141.815 Q692.675 141.352 690.592 141.352 Q687.421 141.352 685.823 142.324 Q684.249 143.296 684.249 145.24 Q684.249 146.722 685.384 147.578 Q686.518 148.412 689.944 149.176 L691.402 149.5 Q695.939 150.472 697.837 152.254 Q699.759 154.014 699.759 157.185 Q699.759 160.796 696.888 162.902 Q694.041 165.009 689.041 165.009 Q686.958 165.009 684.689 164.592 Q682.444 164.199 679.944 163.388 L679.944 158.99 Q682.305 160.217 684.597 160.842 Q686.888 161.444 689.134 161.444 Q692.143 161.444 693.763 160.426 Q695.384 159.384 695.384 157.509 Q695.384 155.773 694.203 154.847 Q693.046 153.921 689.087 153.064 L687.606 152.717 Q683.648 151.884 681.888 150.171 Q680.129 148.435 680.129 145.426 Q680.129 141.768 682.722 139.778 Q685.314 137.787 690.083 137.787 Q692.444 137.787 694.527 138.134 Q696.61 138.481 698.37 139.176 Z\" fill=\"#000000\" fill-rule=\"nonzero\" fill-opacity=\"1\" /><path clip-path=\"url(#clip100)\" d=\"M728.717 150.31 L728.717 152.393 L709.134 152.393 Q709.411 156.791 711.772 159.106 Q714.157 161.398 718.393 161.398 Q720.846 161.398 723.138 160.796 Q725.453 160.194 727.721 158.99 L727.721 163.018 Q725.43 163.99 723.022 164.5 Q720.615 165.009 718.138 165.009 Q711.934 165.009 708.3 161.398 Q704.689 157.787 704.689 151.629 Q704.689 145.264 708.115 141.537 Q711.564 137.787 717.397 137.787 Q722.629 137.787 725.661 141.166 Q728.717 144.523 728.717 150.31 M724.458 149.06 Q724.411 145.565 722.49 143.481 Q720.592 141.398 717.444 141.398 Q713.879 141.398 711.726 143.412 Q709.596 145.426 709.272 149.083 L724.458 149.06 Z\" fill=\"#000000\" fill-rule=\"nonzero\" fill-opacity=\"1\" /><path clip-path=\"url(#clip100)\" d=\"M752.768 142.347 L752.768 128.319 L757.027 128.319 L757.027 164.338 L752.768 164.338 L752.768 160.449 Q751.425 162.763 749.365 163.898 Q747.328 165.009 744.457 165.009 Q739.758 165.009 736.795 161.259 Q733.856 157.509 733.856 151.398 Q733.856 145.287 736.795 141.537 Q739.758 137.787 744.457 137.787 Q747.328 137.787 749.365 138.921 Q751.425 140.032 752.768 142.347 M738.254 151.398 Q738.254 156.097 740.175 158.782 Q742.119 161.444 745.499 161.444 Q748.879 161.444 750.823 158.782 Q752.768 156.097 752.768 151.398 Q752.768 146.699 750.823 144.037 Q748.879 141.352 745.499 141.352 Q742.119 141.352 740.175 144.037 Q738.254 146.699 738.254 151.398 Z\" fill=\"#000000\" fill-rule=\"nonzero\" fill-opacity=\"1\" /><polyline clip-path=\"url(#clip100)\" style=\"stroke:#ff0000; stroke-linecap:round; stroke-linejoin:round; stroke-width:8; stroke-opacity:1; fill:none\" points=\"266.172,198.898 411.747,198.898 \"/>\n",
       "<circle clip-path=\"url(#clip100)\" cx=\"338.96\" cy=\"198.898\" r=\"20.2188\" fill=\"#ff0000\" fill-rule=\"evenodd\" fill-opacity=\"1\" stroke=\"#000000\" stroke-opacity=\"1\" stroke-width=\"4.55111\"/>\n",
       "<path clip-path=\"url(#clip100)\" d=\"M436.01 181.618 L442.978 181.618 L451.797 205.136 L460.663 181.618 L467.63 181.618 L467.63 216.178 L463.07 216.178 L463.07 185.83 L454.158 209.534 L449.459 209.534 L440.547 185.83 L440.547 216.178 L436.01 216.178 L436.01 181.618 Z\" fill=\"#000000\" fill-rule=\"nonzero\" fill-opacity=\"1\" /><path clip-path=\"url(#clip100)\" d=\"M488.51 203.145 Q483.348 203.145 481.357 204.326 Q479.366 205.506 479.366 208.354 Q479.366 210.622 480.848 211.965 Q482.352 213.284 484.922 213.284 Q488.463 213.284 490.593 210.784 Q492.746 208.261 492.746 204.094 L492.746 203.145 L488.51 203.145 M497.005 201.386 L497.005 216.178 L492.746 216.178 L492.746 212.242 Q491.287 214.603 489.112 215.738 Q486.936 216.849 483.788 216.849 Q479.806 216.849 477.445 214.627 Q475.107 212.381 475.107 208.631 Q475.107 204.256 478.024 202.034 Q480.963 199.812 486.774 199.812 L492.746 199.812 L492.746 199.395 Q492.746 196.455 490.801 194.858 Q488.88 193.238 485.385 193.238 Q483.163 193.238 481.056 193.77 Q478.95 194.303 477.005 195.367 L477.005 191.432 Q479.343 190.53 481.542 190.09 Q483.741 189.627 485.825 189.627 Q491.45 189.627 494.227 192.543 Q497.005 195.46 497.005 201.386 Z\" fill=\"#000000\" fill-rule=\"nonzero\" fill-opacity=\"1\" /><path clip-path=\"url(#clip100)\" d=\"M527.329 190.252 L517.954 202.867 L527.815 216.178 L522.792 216.178 L515.246 205.992 L507.699 216.178 L502.676 216.178 L512.746 202.613 L503.533 190.252 L508.556 190.252 L515.431 199.488 L522.306 190.252 L527.329 190.252 Z\" fill=\"#000000\" fill-rule=\"nonzero\" fill-opacity=\"1\" /><path clip-path=\"url(#clip100)\" d=\"M549.088 181.618 L568.949 181.618 L568.949 185.553 L553.764 185.553 L553.764 195.738 L567.468 195.738 L567.468 199.673 L553.764 199.673 L553.764 216.178 L549.088 216.178 L549.088 181.618 Z\" fill=\"#000000\" fill-rule=\"nonzero\" fill-opacity=\"1\" /><path clip-path=\"url(#clip100)\" d=\"M573.139 205.946 L573.139 190.252 L577.398 190.252 L577.398 205.784 Q577.398 209.465 578.833 211.316 Q580.268 213.145 583.139 213.145 Q586.588 213.145 588.579 210.946 Q590.592 208.747 590.592 204.951 L590.592 190.252 L594.852 190.252 L594.852 216.178 L590.592 216.178 L590.592 212.196 Q589.042 214.557 586.981 215.715 Q584.944 216.849 582.236 216.849 Q577.768 216.849 575.454 214.071 Q573.139 211.293 573.139 205.946 M583.856 189.627 L583.856 189.627 Z\" fill=\"#000000\" fill-rule=\"nonzero\" fill-opacity=\"1\" /><path clip-path=\"url(#clip100)\" d=\"M625.801 202.15 L625.801 204.233 L606.217 204.233 Q606.495 208.631 608.856 210.946 Q611.241 213.238 615.477 213.238 Q617.93 213.238 620.222 212.636 Q622.537 212.034 624.805 210.83 L624.805 214.858 Q622.514 215.83 620.106 216.34 Q617.699 216.849 615.222 216.849 Q609.018 216.849 605.384 213.238 Q601.773 209.627 601.773 203.469 Q601.773 197.104 605.199 193.377 Q608.648 189.627 614.481 189.627 Q619.713 189.627 622.745 193.006 Q625.801 196.363 625.801 202.15 M621.541 200.9 Q621.495 197.405 619.574 195.321 Q617.676 193.238 614.528 193.238 Q610.963 193.238 608.81 195.252 Q606.68 197.266 606.356 200.923 L621.541 200.9 Z\" fill=\"#000000\" fill-rule=\"nonzero\" fill-opacity=\"1\" /><path clip-path=\"url(#clip100)\" d=\"M632.791 180.159 L637.051 180.159 L637.051 216.178 L632.791 216.178 L632.791 180.159 Z\" fill=\"#000000\" fill-rule=\"nonzero\" fill-opacity=\"1\" /><path clip-path=\"url(#clip100)\" d=\"M660.685 181.618 L665.384 181.618 L665.384 202.613 Q665.384 208.168 667.398 210.622 Q669.412 213.053 673.925 213.053 Q678.416 213.053 680.43 210.622 Q682.444 208.168 682.444 202.613 L682.444 181.618 L687.143 181.618 L687.143 203.192 Q687.143 209.951 683.786 213.4 Q680.453 216.849 673.925 216.849 Q667.374 216.849 664.018 213.4 Q660.685 209.951 660.685 203.192 L660.685 181.618 Z\" fill=\"#000000\" fill-rule=\"nonzero\" fill-opacity=\"1\" /><path clip-path=\"url(#clip100)\" d=\"M712.259 191.016 L712.259 195.043 Q710.453 194.117 708.509 193.655 Q706.564 193.192 704.481 193.192 Q701.309 193.192 699.712 194.164 Q698.138 195.136 698.138 197.08 Q698.138 198.562 699.272 199.418 Q700.407 200.252 703.833 201.016 L705.291 201.34 Q709.828 202.312 711.726 204.094 Q713.647 205.854 713.647 209.025 Q713.647 212.636 710.777 214.742 Q707.93 216.849 702.93 216.849 Q700.847 216.849 698.578 216.432 Q696.333 216.039 693.833 215.228 L693.833 210.83 Q696.194 212.057 698.485 212.682 Q700.777 213.284 703.022 213.284 Q706.032 213.284 707.652 212.266 Q709.272 211.224 709.272 209.349 Q709.272 207.613 708.092 206.687 Q706.934 205.761 702.976 204.904 L701.495 204.557 Q697.536 203.724 695.777 202.011 Q694.018 200.275 694.018 197.266 Q694.018 193.608 696.61 191.618 Q699.203 189.627 703.972 189.627 Q706.333 189.627 708.416 189.974 Q710.499 190.321 712.259 191.016 Z\" fill=\"#000000\" fill-rule=\"nonzero\" fill-opacity=\"1\" /><path clip-path=\"url(#clip100)\" d=\"M742.606 202.15 L742.606 204.233 L723.022 204.233 Q723.3 208.631 725.661 210.946 Q728.045 213.238 732.282 213.238 Q734.735 213.238 737.027 212.636 Q739.342 212.034 741.61 210.83 L741.61 214.858 Q739.319 215.83 736.911 216.34 Q734.504 216.849 732.027 216.849 Q725.823 216.849 722.189 213.238 Q718.578 209.627 718.578 203.469 Q718.578 197.104 722.004 193.377 Q725.453 189.627 731.286 189.627 Q736.518 189.627 739.55 193.006 Q742.606 196.363 742.606 202.15 M738.346 200.9 Q738.3 197.405 736.379 195.321 Q734.481 193.238 731.332 193.238 Q727.768 193.238 725.615 195.252 Q723.485 197.266 723.161 200.923 L738.346 200.9 Z\" fill=\"#000000\" fill-rule=\"nonzero\" fill-opacity=\"1\" /><path clip-path=\"url(#clip100)\" d=\"M766.656 194.187 L766.656 180.159 L770.916 180.159 L770.916 216.178 L766.656 216.178 L766.656 212.289 Q765.314 214.603 763.254 215.738 Q761.217 216.849 758.346 216.849 Q753.647 216.849 750.684 213.099 Q747.744 209.349 747.744 203.238 Q747.744 197.127 750.684 193.377 Q753.647 189.627 758.346 189.627 Q761.217 189.627 763.254 190.761 Q765.314 191.872 766.656 194.187 M752.143 203.238 Q752.143 207.937 754.064 210.622 Q756.008 213.284 759.388 213.284 Q762.767 213.284 764.712 210.622 Q766.656 207.937 766.656 203.238 Q766.656 198.539 764.712 195.877 Q762.767 193.192 759.388 193.192 Q756.008 193.192 754.064 195.877 Q752.143 198.539 752.143 203.238 Z\" fill=\"#000000\" fill-rule=\"nonzero\" fill-opacity=\"1\" /></svg>\n"
      ],
      "text/html": [
       "<?xml version=\"1.0\" encoding=\"utf-8\"?>\n",
       "<svg xmlns=\"http://www.w3.org/2000/svg\" xmlns:xlink=\"http://www.w3.org/1999/xlink\" width=\"600\" height=\"400\" viewBox=\"0 0 2400 1600\">\n",
       "<defs>\n",
       "  <clipPath id=\"clip150\">\n",
       "    <rect x=\"0\" y=\"0\" width=\"2400\" height=\"1600\"/>\n",
       "  </clipPath>\n",
       "</defs>\n",
       "<path clip-path=\"url(#clip150)\" d=\"M0 1600 L2400 1600 L2400 0 L0 0  Z\" fill=\"#ffffff\" fill-rule=\"evenodd\" fill-opacity=\"1\"/>\n",
       "<defs>\n",
       "  <clipPath id=\"clip151\">\n",
       "    <rect x=\"480\" y=\"0\" width=\"1681\" height=\"1600\"/>\n",
       "  </clipPath>\n",
       "</defs>\n",
       "<path clip-path=\"url(#clip150)\" d=\"M169.121 1486.45 L2352.76 1486.45 L2352.76 47.2441 L169.121 47.2441  Z\" fill=\"#ffffff\" fill-rule=\"evenodd\" fill-opacity=\"1\"/>\n",
       "<defs>\n",
       "  <clipPath id=\"clip152\">\n",
       "    <rect x=\"169\" y=\"47\" width=\"2185\" height=\"1440\"/>\n",
       "  </clipPath>\n",
       "</defs>\n",
       "<polyline clip-path=\"url(#clip152)\" style=\"stroke:#000000; stroke-linecap:round; stroke-linejoin:round; stroke-width:2; stroke-opacity:0.1; fill:none\" points=\"230.922,1486.45 230.922,47.2441 \"/>\n",
       "<polyline clip-path=\"url(#clip152)\" style=\"stroke:#000000; stroke-linecap:round; stroke-linejoin:round; stroke-width:2; stroke-opacity:0.1; fill:none\" points=\"1260.94,1486.45 1260.94,47.2441 \"/>\n",
       "<polyline clip-path=\"url(#clip152)\" style=\"stroke:#000000; stroke-linecap:round; stroke-linejoin:round; stroke-width:2; stroke-opacity:0.1; fill:none\" points=\"2290.95,1486.45 2290.95,47.2441 \"/>\n",
       "<polyline clip-path=\"url(#clip150)\" style=\"stroke:#000000; stroke-linecap:round; stroke-linejoin:round; stroke-width:4; stroke-opacity:1; fill:none\" points=\"169.121,1486.45 2352.76,1486.45 \"/>\n",
       "<polyline clip-path=\"url(#clip150)\" style=\"stroke:#000000; stroke-linecap:round; stroke-linejoin:round; stroke-width:4; stroke-opacity:1; fill:none\" points=\"230.922,1486.45 230.922,1467.55 \"/>\n",
       "<polyline clip-path=\"url(#clip150)\" style=\"stroke:#000000; stroke-linecap:round; stroke-linejoin:round; stroke-width:4; stroke-opacity:1; fill:none\" points=\"1260.94,1486.45 1260.94,1467.55 \"/>\n",
       "<polyline clip-path=\"url(#clip150)\" style=\"stroke:#000000; stroke-linecap:round; stroke-linejoin:round; stroke-width:4; stroke-opacity:1; fill:none\" points=\"2290.95,1486.45 2290.95,1467.55 \"/>\n",
       "<path clip-path=\"url(#clip150)\" d=\"M157.74 1517.46 Q152.647 1517.46 149.638 1521.26 Q146.652 1525.05 146.652 1531.6 Q146.652 1538.13 149.638 1541.93 Q152.647 1545.72 157.74 1545.72 Q162.832 1545.72 165.795 1541.93 Q168.781 1538.13 168.781 1531.6 Q168.781 1525.05 165.795 1521.26 Q162.832 1517.46 157.74 1517.46 M157.74 1513.66 Q165.008 1513.66 169.36 1518.55 Q173.712 1523.41 173.712 1531.6 Q173.712 1539.77 169.36 1544.66 Q165.008 1549.52 157.74 1549.52 Q150.448 1549.52 146.073 1544.66 Q141.721 1539.8 141.721 1531.6 Q141.721 1523.41 146.073 1518.55 Q150.448 1513.66 157.74 1513.66 Z\" fill=\"#000000\" fill-rule=\"nonzero\" fill-opacity=\"1\" /><path clip-path=\"url(#clip150)\" d=\"M195.865 1526.9 Q195.147 1526.49 194.291 1526.3 Q193.457 1526.09 192.439 1526.09 Q188.828 1526.09 186.883 1528.45 Q184.962 1530.79 184.962 1535.19 L184.962 1548.85 L180.68 1548.85 L180.68 1522.92 L184.962 1522.92 L184.962 1526.95 Q186.304 1524.59 188.457 1523.45 Q190.61 1522.3 193.689 1522.3 Q194.129 1522.3 194.661 1522.37 Q195.193 1522.41 195.841 1522.53 L195.865 1526.9 Z\" fill=\"#000000\" fill-rule=\"nonzero\" fill-opacity=\"1\" /><path clip-path=\"url(#clip150)\" d=\"M200.332 1522.92 L204.591 1522.92 L204.591 1548.85 L200.332 1548.85 L200.332 1522.92 M200.332 1512.83 L204.591 1512.83 L204.591 1518.22 L200.332 1518.22 L200.332 1512.83 Z\" fill=\"#000000\" fill-rule=\"nonzero\" fill-opacity=\"1\" /><path clip-path=\"url(#clip150)\" d=\"M230.564 1535.58 Q230.564 1530.95 228.642 1528.41 Q226.744 1525.86 223.295 1525.86 Q219.869 1525.86 217.948 1528.41 Q216.05 1530.95 216.05 1535.58 Q216.05 1540.19 217.948 1542.74 Q219.869 1545.28 223.295 1545.28 Q226.744 1545.28 228.642 1542.74 Q230.564 1540.19 230.564 1535.58 M234.823 1545.63 Q234.823 1552.25 231.883 1555.47 Q228.943 1558.71 222.878 1558.71 Q220.633 1558.71 218.642 1558.36 Q216.652 1558.04 214.777 1557.34 L214.777 1553.2 Q216.652 1554.22 218.48 1554.7 Q220.309 1555.19 222.207 1555.19 Q226.397 1555.19 228.48 1552.99 Q230.564 1550.82 230.564 1546.39 L230.564 1544.29 Q229.244 1546.58 227.184 1547.71 Q225.124 1548.85 222.253 1548.85 Q217.485 1548.85 214.568 1545.21 Q211.652 1541.58 211.652 1535.58 Q211.652 1529.57 214.568 1525.93 Q217.485 1522.3 222.253 1522.3 Q225.124 1522.3 227.184 1523.43 Q229.244 1524.57 230.564 1526.86 L230.564 1522.92 L234.823 1522.92 L234.823 1545.63 Z\" fill=\"#000000\" fill-rule=\"nonzero\" fill-opacity=\"1\" /><path clip-path=\"url(#clip150)\" d=\"M243.596 1522.92 L247.855 1522.92 L247.855 1548.85 L243.596 1548.85 L243.596 1522.92 M243.596 1512.83 L247.855 1512.83 L247.855 1518.22 L243.596 1518.22 L243.596 1512.83 Z\" fill=\"#000000\" fill-rule=\"nonzero\" fill-opacity=\"1\" /><path clip-path=\"url(#clip150)\" d=\"M278.318 1533.2 L278.318 1548.85 L274.059 1548.85 L274.059 1533.34 Q274.059 1529.66 272.623 1527.83 Q271.188 1526 268.318 1526 Q264.869 1526 262.878 1528.2 Q260.887 1530.4 260.887 1534.2 L260.887 1548.85 L256.605 1548.85 L256.605 1522.92 L260.887 1522.92 L260.887 1526.95 Q262.415 1524.61 264.475 1523.45 Q266.559 1522.3 269.267 1522.3 Q273.735 1522.3 276.026 1525.07 Q278.318 1527.83 278.318 1533.2 Z\" fill=\"#000000\" fill-rule=\"nonzero\" fill-opacity=\"1\" /><path clip-path=\"url(#clip150)\" d=\"M298.596 1535.82 Q293.434 1535.82 291.443 1537 Q289.452 1538.18 289.452 1541.02 Q289.452 1543.29 290.934 1544.63 Q292.438 1545.95 295.008 1545.95 Q298.549 1545.95 300.679 1543.45 Q302.832 1540.93 302.832 1536.76 L302.832 1535.82 L298.596 1535.82 M307.091 1534.06 L307.091 1548.85 L302.832 1548.85 L302.832 1544.91 Q301.373 1547.27 299.197 1548.41 Q297.021 1549.52 293.873 1549.52 Q289.892 1549.52 287.531 1547.3 Q285.193 1545.05 285.193 1541.3 Q285.193 1536.93 288.109 1534.7 Q291.049 1532.48 296.859 1532.48 L302.832 1532.48 L302.832 1532.07 Q302.832 1529.13 300.887 1527.53 Q298.966 1525.91 295.471 1525.91 Q293.248 1525.91 291.142 1526.44 Q289.035 1526.97 287.091 1528.04 L287.091 1524.1 Q289.429 1523.2 291.628 1522.76 Q293.827 1522.3 295.91 1522.3 Q301.535 1522.3 304.313 1525.21 Q307.091 1528.13 307.091 1534.06 Z\" fill=\"#000000\" fill-rule=\"nonzero\" fill-opacity=\"1\" /><path clip-path=\"url(#clip150)\" d=\"M315.864 1512.83 L320.123 1512.83 L320.123 1548.85 L315.864 1548.85 L315.864 1512.83 Z\" fill=\"#000000\" fill-rule=\"nonzero\" fill-opacity=\"1\" /><path clip-path=\"url(#clip150)\" d=\"M1142.48 1514.29 L1147.15 1514.29 L1147.15 1548.85 L1142.48 1548.85 L1142.48 1514.29 Z\" fill=\"#000000\" fill-rule=\"nonzero\" fill-opacity=\"1\" /><path clip-path=\"url(#clip150)\" d=\"M1160.49 1515.56 L1160.49 1522.92 L1169.26 1522.92 L1169.26 1526.23 L1160.49 1526.23 L1160.49 1540.31 Q1160.49 1543.48 1161.34 1544.38 Q1162.22 1545.28 1164.89 1545.28 L1169.26 1545.28 L1169.26 1548.85 L1164.89 1548.85 Q1159.96 1548.85 1158.08 1547.02 Q1156.21 1545.17 1156.21 1540.31 L1156.21 1526.23 L1153.08 1526.23 L1153.08 1522.92 L1156.21 1522.92 L1156.21 1515.56 L1160.49 1515.56 Z\" fill=\"#000000\" fill-rule=\"nonzero\" fill-opacity=\"1\" /><path clip-path=\"url(#clip150)\" d=\"M1197.04 1534.82 L1197.04 1536.9 L1177.46 1536.9 Q1177.73 1541.3 1180.09 1543.62 Q1182.48 1545.91 1186.71 1545.91 Q1189.17 1545.91 1191.46 1545.31 Q1193.77 1544.7 1196.04 1543.5 L1196.04 1547.53 Q1193.75 1548.5 1191.34 1549.01 Q1188.94 1549.52 1186.46 1549.52 Q1180.26 1549.52 1176.62 1545.91 Q1173.01 1542.3 1173.01 1536.14 Q1173.01 1529.77 1176.44 1526.05 Q1179.89 1522.3 1185.72 1522.3 Q1190.95 1522.3 1193.98 1525.68 Q1197.04 1529.03 1197.04 1534.82 M1192.78 1533.57 Q1192.73 1530.07 1190.81 1527.99 Q1188.91 1525.91 1185.77 1525.91 Q1182.2 1525.91 1180.05 1527.92 Q1177.92 1529.94 1177.59 1533.59 L1192.78 1533.57 Z\" fill=\"#000000\" fill-rule=\"nonzero\" fill-opacity=\"1\" /><path clip-path=\"url(#clip150)\" d=\"M1219.05 1526.9 Q1218.33 1526.49 1217.48 1526.3 Q1216.64 1526.09 1215.63 1526.09 Q1212.02 1526.09 1210.07 1528.45 Q1208.15 1530.79 1208.15 1535.19 L1208.15 1548.85 L1203.87 1548.85 L1203.87 1522.92 L1208.15 1522.92 L1208.15 1526.95 Q1209.49 1524.59 1211.64 1523.45 Q1213.8 1522.3 1216.88 1522.3 Q1217.32 1522.3 1217.85 1522.37 Q1218.38 1522.41 1219.03 1522.53 L1219.05 1526.9 Z\" fill=\"#000000\" fill-rule=\"nonzero\" fill-opacity=\"1\" /><path clip-path=\"url(#clip150)\" d=\"M1235.3 1535.82 Q1230.14 1535.82 1228.15 1537 Q1226.16 1538.18 1226.16 1541.02 Q1226.16 1543.29 1227.64 1544.63 Q1229.14 1545.95 1231.71 1545.95 Q1235.26 1545.95 1237.39 1543.45 Q1239.54 1540.93 1239.54 1536.76 L1239.54 1535.82 L1235.3 1535.82 M1243.8 1534.06 L1243.8 1548.85 L1239.54 1548.85 L1239.54 1544.91 Q1238.08 1547.27 1235.9 1548.41 Q1233.73 1549.52 1230.58 1549.52 Q1226.6 1549.52 1224.24 1547.3 Q1221.9 1545.05 1221.9 1541.3 Q1221.9 1536.93 1224.82 1534.7 Q1227.76 1532.48 1233.57 1532.48 L1239.54 1532.48 L1239.54 1532.07 Q1239.54 1529.13 1237.59 1527.53 Q1235.67 1525.91 1232.18 1525.91 Q1229.95 1525.91 1227.85 1526.44 Q1225.74 1526.97 1223.8 1528.04 L1223.8 1524.1 Q1226.14 1523.2 1228.33 1522.76 Q1230.53 1522.3 1232.62 1522.3 Q1238.24 1522.3 1241.02 1525.21 Q1243.8 1528.13 1243.8 1534.06 Z\" fill=\"#000000\" fill-rule=\"nonzero\" fill-opacity=\"1\" /><path clip-path=\"url(#clip150)\" d=\"M1256.78 1515.56 L1256.78 1522.92 L1265.56 1522.92 L1265.56 1526.23 L1256.78 1526.23 L1256.78 1540.31 Q1256.78 1543.48 1257.64 1544.38 Q1258.52 1545.28 1261.18 1545.28 L1265.56 1545.28 L1265.56 1548.85 L1261.18 1548.85 Q1256.25 1548.85 1254.38 1547.02 Q1252.5 1545.17 1252.5 1540.31 L1252.5 1526.23 L1249.38 1526.23 L1249.38 1522.92 L1252.5 1522.92 L1252.5 1515.56 L1256.78 1515.56 Z\" fill=\"#000000\" fill-rule=\"nonzero\" fill-opacity=\"1\" /><path clip-path=\"url(#clip150)\" d=\"M1271.16 1522.92 L1275.42 1522.92 L1275.42 1548.85 L1271.16 1548.85 L1271.16 1522.92 M1271.16 1512.83 L1275.42 1512.83 L1275.42 1518.22 L1271.16 1518.22 L1271.16 1512.83 Z\" fill=\"#000000\" fill-rule=\"nonzero\" fill-opacity=\"1\" /><path clip-path=\"url(#clip150)\" d=\"M1294.38 1525.91 Q1290.95 1525.91 1288.96 1528.59 Q1286.97 1531.26 1286.97 1535.91 Q1286.97 1540.56 1288.94 1543.25 Q1290.93 1545.91 1294.38 1545.91 Q1297.78 1545.91 1299.77 1543.22 Q1301.76 1540.54 1301.76 1535.91 Q1301.76 1531.3 1299.77 1528.62 Q1297.78 1525.91 1294.38 1525.91 M1294.38 1522.3 Q1299.93 1522.3 1303.1 1525.91 Q1306.27 1529.52 1306.27 1535.91 Q1306.27 1542.27 1303.1 1545.91 Q1299.93 1549.52 1294.38 1549.52 Q1288.8 1549.52 1285.63 1545.91 Q1282.48 1542.27 1282.48 1535.91 Q1282.48 1529.52 1285.63 1525.91 Q1288.8 1522.3 1294.38 1522.3 Z\" fill=\"#000000\" fill-rule=\"nonzero\" fill-opacity=\"1\" /><path clip-path=\"url(#clip150)\" d=\"M1334.88 1533.2 L1334.88 1548.85 L1330.63 1548.85 L1330.63 1533.34 Q1330.63 1529.66 1329.19 1527.83 Q1327.76 1526 1324.89 1526 Q1321.44 1526 1319.45 1528.2 Q1317.45 1530.4 1317.45 1534.2 L1317.45 1548.85 L1313.17 1548.85 L1313.17 1522.92 L1317.45 1522.92 L1317.45 1526.95 Q1318.98 1524.61 1321.04 1523.45 Q1323.13 1522.3 1325.83 1522.3 Q1330.3 1522.3 1332.59 1525.07 Q1334.88 1527.83 1334.88 1533.2 Z\" fill=\"#000000\" fill-rule=\"nonzero\" fill-opacity=\"1\" /><path clip-path=\"url(#clip150)\" d=\"M1363.08 1544.91 L1379.4 1544.91 L1379.4 1548.85 L1357.45 1548.85 L1357.45 1544.91 Q1360.12 1542.16 1364.7 1537.53 Q1369.31 1532.88 1370.49 1531.53 Q1372.73 1529.01 1373.61 1527.27 Q1374.51 1525.51 1374.51 1523.82 Q1374.51 1521.07 1372.57 1519.33 Q1370.65 1517.6 1367.55 1517.6 Q1365.35 1517.6 1362.89 1518.36 Q1360.46 1519.13 1357.69 1520.68 L1357.69 1515.95 Q1360.51 1514.82 1362.96 1514.24 Q1365.42 1513.66 1367.45 1513.66 Q1372.82 1513.66 1376.02 1516.35 Q1379.21 1519.03 1379.21 1523.52 Q1379.21 1525.65 1378.4 1527.57 Q1377.62 1529.47 1375.51 1532.07 Q1374.93 1532.74 1371.83 1535.95 Q1368.73 1539.15 1363.08 1544.91 Z\" fill=\"#000000\" fill-rule=\"nonzero\" fill-opacity=\"1\" /><path clip-path=\"url(#clip150)\" d=\"M2240.87 1514.29 L2260.74 1514.29 L2260.74 1518.22 L2245.55 1518.22 L2245.55 1528.41 L2259.25 1528.41 L2259.25 1532.34 L2245.55 1532.34 L2245.55 1548.85 L2240.87 1548.85 L2240.87 1514.29 Z\" fill=\"#000000\" fill-rule=\"nonzero\" fill-opacity=\"1\" /><path clip-path=\"url(#clip150)\" d=\"M2264.51 1522.92 L2268.77 1522.92 L2268.77 1548.85 L2264.51 1548.85 L2264.51 1522.92 M2264.51 1512.83 L2268.77 1512.83 L2268.77 1518.22 L2264.51 1518.22 L2264.51 1512.83 Z\" fill=\"#000000\" fill-rule=\"nonzero\" fill-opacity=\"1\" /><path clip-path=\"url(#clip150)\" d=\"M2299.23 1533.2 L2299.23 1548.85 L2294.97 1548.85 L2294.97 1533.34 Q2294.97 1529.66 2293.54 1527.83 Q2292.1 1526 2289.23 1526 Q2285.78 1526 2283.79 1528.2 Q2281.8 1530.4 2281.8 1534.2 L2281.8 1548.85 L2277.52 1548.85 L2277.52 1522.92 L2281.8 1522.92 L2281.8 1526.95 Q2283.33 1524.61 2285.39 1523.45 Q2287.47 1522.3 2290.18 1522.3 Q2294.65 1522.3 2296.94 1525.07 Q2299.23 1527.83 2299.23 1533.2 Z\" fill=\"#000000\" fill-rule=\"nonzero\" fill-opacity=\"1\" /><path clip-path=\"url(#clip150)\" d=\"M2319.51 1535.82 Q2314.35 1535.82 2312.36 1537 Q2310.36 1538.18 2310.36 1541.02 Q2310.36 1543.29 2311.85 1544.63 Q2313.35 1545.95 2315.92 1545.95 Q2319.46 1545.95 2321.59 1543.45 Q2323.74 1540.93 2323.74 1536.76 L2323.74 1535.82 L2319.51 1535.82 M2328 1534.06 L2328 1548.85 L2323.74 1548.85 L2323.74 1544.91 Q2322.29 1547.27 2320.11 1548.41 Q2317.93 1549.52 2314.79 1549.52 Q2310.8 1549.52 2308.44 1547.3 Q2306.11 1545.05 2306.11 1541.3 Q2306.11 1536.93 2309.02 1534.7 Q2311.96 1532.48 2317.77 1532.48 L2323.74 1532.48 L2323.74 1532.07 Q2323.74 1529.13 2321.8 1527.53 Q2319.88 1525.91 2316.38 1525.91 Q2314.16 1525.91 2312.05 1526.44 Q2309.95 1526.97 2308 1528.04 L2308 1524.1 Q2310.34 1523.2 2312.54 1522.76 Q2314.74 1522.3 2316.82 1522.3 Q2322.45 1522.3 2325.23 1525.21 Q2328 1528.13 2328 1534.06 Z\" fill=\"#000000\" fill-rule=\"nonzero\" fill-opacity=\"1\" /><path clip-path=\"url(#clip150)\" d=\"M2336.78 1512.83 L2341.04 1512.83 L2341.04 1548.85 L2336.78 1548.85 L2336.78 1512.83 Z\" fill=\"#000000\" fill-rule=\"nonzero\" fill-opacity=\"1\" /><polyline clip-path=\"url(#clip152)\" style=\"stroke:#000000; stroke-linecap:round; stroke-linejoin:round; stroke-width:2; stroke-opacity:0.1; fill:none\" points=\"169.121,1299.16 2352.76,1299.16 \"/>\n",
       "<polyline clip-path=\"url(#clip152)\" style=\"stroke:#000000; stroke-linecap:round; stroke-linejoin:round; stroke-width:2; stroke-opacity:0.1; fill:none\" points=\"169.121,1031.43 2352.76,1031.43 \"/>\n",
       "<polyline clip-path=\"url(#clip152)\" style=\"stroke:#000000; stroke-linecap:round; stroke-linejoin:round; stroke-width:2; stroke-opacity:0.1; fill:none\" points=\"169.121,763.693 2352.76,763.693 \"/>\n",
       "<polyline clip-path=\"url(#clip152)\" style=\"stroke:#000000; stroke-linecap:round; stroke-linejoin:round; stroke-width:2; stroke-opacity:0.1; fill:none\" points=\"169.121,495.958 2352.76,495.958 \"/>\n",
       "<polyline clip-path=\"url(#clip152)\" style=\"stroke:#000000; stroke-linecap:round; stroke-linejoin:round; stroke-width:2; stroke-opacity:0.1; fill:none\" points=\"169.121,228.223 2352.76,228.223 \"/>\n",
       "<polyline clip-path=\"url(#clip150)\" style=\"stroke:#000000; stroke-linecap:round; stroke-linejoin:round; stroke-width:4; stroke-opacity:1; fill:none\" points=\"169.121,1486.45 169.121,47.2441 \"/>\n",
       "<polyline clip-path=\"url(#clip150)\" style=\"stroke:#000000; stroke-linecap:round; stroke-linejoin:round; stroke-width:4; stroke-opacity:1; fill:none\" points=\"169.121,1299.16 188.019,1299.16 \"/>\n",
       "<polyline clip-path=\"url(#clip150)\" style=\"stroke:#000000; stroke-linecap:round; stroke-linejoin:round; stroke-width:4; stroke-opacity:1; fill:none\" points=\"169.121,1031.43 188.019,1031.43 \"/>\n",
       "<polyline clip-path=\"url(#clip150)\" style=\"stroke:#000000; stroke-linecap:round; stroke-linejoin:round; stroke-width:4; stroke-opacity:1; fill:none\" points=\"169.121,763.693 188.019,763.693 \"/>\n",
       "<polyline clip-path=\"url(#clip150)\" style=\"stroke:#000000; stroke-linecap:round; stroke-linejoin:round; stroke-width:4; stroke-opacity:1; fill:none\" points=\"169.121,495.958 188.019,495.958 \"/>\n",
       "<polyline clip-path=\"url(#clip150)\" style=\"stroke:#000000; stroke-linecap:round; stroke-linejoin:round; stroke-width:4; stroke-opacity:1; fill:none\" points=\"169.121,228.223 188.019,228.223 \"/>\n",
       "<path clip-path=\"url(#clip150)\" d=\"M91.5938 1297.3 Q88.4456 1297.3 86.5938 1299.45 Q84.7651 1301.61 84.7651 1305.36 Q84.7651 1309.08 86.5938 1311.26 Q88.4456 1313.41 91.5938 1313.41 Q94.7419 1313.41 96.5706 1311.26 Q98.4224 1309.08 98.4224 1305.36 Q98.4224 1301.61 96.5706 1299.45 Q94.7419 1297.3 91.5938 1297.3 M100.876 1282.65 L100.876 1286.91 Q99.1169 1286.07 97.3113 1285.63 Q95.5289 1285.19 93.7697 1285.19 Q89.1401 1285.19 86.6864 1288.32 Q84.2558 1291.44 83.9086 1297.76 Q85.2743 1295.75 87.3345 1294.68 Q89.3947 1293.6 91.8715 1293.6 Q97.0798 1293.6 100.089 1296.77 Q103.121 1299.92 103.121 1305.36 Q103.121 1310.68 99.9733 1313.9 Q96.8252 1317.11 91.5938 1317.11 Q85.5984 1317.11 82.4271 1312.53 Q79.2559 1307.92 79.2559 1299.2 Q79.2559 1291 83.1447 1286.14 Q87.0336 1281.26 93.5845 1281.26 Q95.3437 1281.26 97.1261 1281.61 Q98.9317 1281.95 100.876 1282.65 Z\" fill=\"#000000\" fill-rule=\"nonzero\" fill-opacity=\"1\" /><path clip-path=\"url(#clip150)\" d=\"M121.177 1284.96 Q117.566 1284.96 115.737 1288.53 Q113.932 1292.07 113.932 1299.2 Q113.932 1306.3 115.737 1309.87 Q117.566 1313.41 121.177 1313.41 Q124.811 1313.41 126.617 1309.87 Q128.445 1306.3 128.445 1299.2 Q128.445 1292.07 126.617 1288.53 Q124.811 1284.96 121.177 1284.96 M121.177 1281.26 Q126.987 1281.26 130.043 1285.86 Q133.121 1290.45 133.121 1299.2 Q133.121 1307.92 130.043 1312.53 Q126.987 1317.11 121.177 1317.11 Q115.367 1317.11 112.288 1312.53 Q109.233 1307.92 109.233 1299.2 Q109.233 1290.45 112.288 1285.86 Q115.367 1281.26 121.177 1281.26 Z\" fill=\"#000000\" fill-rule=\"nonzero\" fill-opacity=\"1\" /><path clip-path=\"url(#clip150)\" d=\"M81.154 1047.99 L81.154 1043.73 Q82.9133 1044.56 84.7188 1045 Q86.5243 1045.44 88.2604 1045.44 Q92.89 1045.44 95.3206 1042.34 Q97.7743 1039.22 98.1215 1032.87 Q96.7789 1034.87 94.7187 1035.93 Q92.6586 1037 90.1586 1037 Q84.9734 1037 81.941 1033.87 Q78.9318 1030.72 78.9318 1025.28 Q78.9318 1019.96 82.0799 1016.74 Q85.2281 1013.52 90.4595 1013.52 Q96.4548 1013.52 99.603 1018.13 Q102.774 1022.71 102.774 1031.46 Q102.774 1039.63 98.8854 1044.52 Q95.0197 1049.38 88.4688 1049.38 Q86.7095 1049.38 84.904 1049.03 Q83.0984 1048.68 81.154 1047.99 M90.4595 1033.34 Q93.6076 1033.34 95.4363 1031.18 Q97.2882 1029.03 97.2882 1025.28 Q97.2882 1021.56 95.4363 1019.4 Q93.6076 1017.23 90.4595 1017.23 Q87.3114 1017.23 85.4595 1019.4 Q83.6308 1021.56 83.6308 1025.28 Q83.6308 1029.03 85.4595 1031.18 Q87.3114 1033.34 90.4595 1033.34 Z\" fill=\"#000000\" fill-rule=\"nonzero\" fill-opacity=\"1\" /><path clip-path=\"url(#clip150)\" d=\"M121.177 1017.23 Q117.566 1017.23 115.737 1020.79 Q113.932 1024.33 113.932 1031.46 Q113.932 1038.57 115.737 1042.13 Q117.566 1045.68 121.177 1045.68 Q124.811 1045.68 126.617 1042.13 Q128.445 1038.57 128.445 1031.46 Q128.445 1024.33 126.617 1020.79 Q124.811 1017.23 121.177 1017.23 M121.177 1013.52 Q126.987 1013.52 130.043 1018.13 Q133.121 1022.71 133.121 1031.46 Q133.121 1040.19 130.043 1044.8 Q126.987 1049.38 121.177 1049.38 Q115.367 1049.38 112.288 1044.8 Q109.233 1040.19 109.233 1031.46 Q109.233 1022.71 112.288 1018.13 Q115.367 1013.52 121.177 1013.52 Z\" fill=\"#000000\" fill-rule=\"nonzero\" fill-opacity=\"1\" /><path clip-path=\"url(#clip150)\" d=\"M51.6634 777.038 L59.3023 777.038 L59.3023 750.672 L50.9921 752.339 L50.9921 748.079 L59.256 746.413 L63.9319 746.413 L63.9319 777.038 L71.5707 777.038 L71.5707 780.973 L51.6634 780.973 L51.6634 777.038 Z\" fill=\"#000000\" fill-rule=\"nonzero\" fill-opacity=\"1\" /><path clip-path=\"url(#clip150)\" d=\"M85.0429 777.038 L101.362 777.038 L101.362 780.973 L79.4179 780.973 L79.4179 777.038 Q82.0799 774.283 86.6632 769.653 Q91.2697 765.001 92.4502 763.658 Q94.6956 761.135 95.5752 759.399 Q96.478 757.64 96.478 755.95 Q96.478 753.195 94.5336 751.459 Q92.6123 749.723 89.5104 749.723 Q87.3114 749.723 84.8577 750.487 Q82.4271 751.251 79.6494 752.802 L79.6494 748.079 Q82.4734 746.945 84.9271 746.367 Q87.3808 745.788 89.4178 745.788 Q94.7882 745.788 97.9826 748.473 Q101.177 751.158 101.177 755.649 Q101.177 757.779 100.367 759.7 Q99.5798 761.598 97.4734 764.191 Q96.8947 764.862 93.7928 768.079 Q90.691 771.274 85.0429 777.038 Z\" fill=\"#000000\" fill-rule=\"nonzero\" fill-opacity=\"1\" /><path clip-path=\"url(#clip150)\" d=\"M121.177 749.492 Q117.566 749.492 115.737 753.056 Q113.932 756.598 113.932 763.728 Q113.932 770.834 115.737 774.399 Q117.566 777.94 121.177 777.94 Q124.811 777.94 126.617 774.399 Q128.445 770.834 128.445 763.728 Q128.445 756.598 126.617 753.056 Q124.811 749.492 121.177 749.492 M121.177 745.788 Q126.987 745.788 130.043 750.394 Q133.121 754.978 133.121 763.728 Q133.121 772.454 130.043 777.061 Q126.987 781.644 121.177 781.644 Q115.367 781.644 112.288 777.061 Q109.233 772.454 109.233 763.728 Q109.233 754.978 112.288 750.394 Q115.367 745.788 121.177 745.788 Z\" fill=\"#000000\" fill-rule=\"nonzero\" fill-opacity=\"1\" /><path clip-path=\"url(#clip150)\" d=\"M51.6634 509.303 L59.3023 509.303 L59.3023 482.937 L50.9921 484.604 L50.9921 480.344 L59.256 478.678 L63.9319 478.678 L63.9319 509.303 L71.5707 509.303 L71.5707 513.238 L51.6634 513.238 L51.6634 509.303 Z\" fill=\"#000000\" fill-rule=\"nonzero\" fill-opacity=\"1\" /><path clip-path=\"url(#clip150)\" d=\"M81.0614 478.678 L99.4178 478.678 L99.4178 482.613 L85.3438 482.613 L85.3438 491.085 Q86.3623 490.738 87.3808 490.576 Q88.3993 490.391 89.4178 490.391 Q95.2049 490.391 98.5845 493.562 Q101.964 496.733 101.964 502.15 Q101.964 507.728 98.4919 510.83 Q95.0197 513.909 88.7003 513.909 Q86.5243 513.909 84.2558 513.539 Q82.0105 513.168 79.6031 512.428 L79.6031 507.728 Q81.6864 508.863 83.9086 509.418 Q86.1308 509.974 88.6077 509.974 Q92.6123 509.974 94.9502 507.867 Q97.2882 505.761 97.2882 502.15 Q97.2882 498.539 94.9502 496.432 Q92.6123 494.326 88.6077 494.326 Q86.7327 494.326 84.8577 494.742 Q83.0058 495.159 81.0614 496.039 L81.0614 478.678 Z\" fill=\"#000000\" fill-rule=\"nonzero\" fill-opacity=\"1\" /><path clip-path=\"url(#clip150)\" d=\"M121.177 481.756 Q117.566 481.756 115.737 485.321 Q113.932 488.863 113.932 495.992 Q113.932 503.099 115.737 506.664 Q117.566 510.205 121.177 510.205 Q124.811 510.205 126.617 506.664 Q128.445 503.099 128.445 495.992 Q128.445 488.863 126.617 485.321 Q124.811 481.756 121.177 481.756 M121.177 478.053 Q126.987 478.053 130.043 482.659 Q133.121 487.242 133.121 495.992 Q133.121 504.719 130.043 509.326 Q126.987 513.909 121.177 513.909 Q115.367 513.909 112.288 509.326 Q109.233 504.719 109.233 495.992 Q109.233 487.242 112.288 482.659 Q115.367 478.053 121.177 478.053 Z\" fill=\"#000000\" fill-rule=\"nonzero\" fill-opacity=\"1\" /><path clip-path=\"url(#clip150)\" d=\"M51.6634 241.567 L59.3023 241.567 L59.3023 215.202 L50.9921 216.868 L50.9921 212.609 L59.256 210.943 L63.9319 210.943 L63.9319 241.567 L71.5707 241.567 L71.5707 245.503 L51.6634 245.503 L51.6634 241.567 Z\" fill=\"#000000\" fill-rule=\"nonzero\" fill-opacity=\"1\" /><path clip-path=\"url(#clip150)\" d=\"M91.0151 229.091 Q87.6817 229.091 85.7605 230.873 Q83.8623 232.655 83.8623 235.78 Q83.8623 238.905 85.7605 240.688 Q87.6817 242.47 91.0151 242.47 Q94.3484 242.47 96.2697 240.688 Q98.1909 238.882 98.1909 235.78 Q98.1909 232.655 96.2697 230.873 Q94.3715 229.091 91.0151 229.091 M86.3392 227.1 Q83.3299 226.359 81.6401 224.299 Q79.9735 222.239 79.9735 219.276 Q79.9735 215.132 82.9133 212.725 Q85.8762 210.318 91.0151 210.318 Q96.1771 210.318 99.1169 212.725 Q102.057 215.132 102.057 219.276 Q102.057 222.239 100.367 224.299 Q98.7002 226.359 95.7141 227.1 Q99.0937 227.887 100.969 230.179 Q102.867 232.47 102.867 235.78 Q102.867 240.804 99.7882 243.489 Q96.7326 246.174 91.0151 246.174 Q85.2975 246.174 82.2188 243.489 Q79.1633 240.804 79.1633 235.78 Q79.1633 232.47 81.0614 230.179 Q82.9595 227.887 86.3392 227.1 M84.6262 219.716 Q84.6262 222.401 86.2929 223.905 Q87.9827 225.41 91.0151 225.41 Q94.0243 225.41 95.7141 223.905 Q97.4271 222.401 97.4271 219.716 Q97.4271 217.031 95.7141 215.526 Q94.0243 214.021 91.0151 214.021 Q87.9827 214.021 86.2929 215.526 Q84.6262 217.031 84.6262 219.716 Z\" fill=\"#000000\" fill-rule=\"nonzero\" fill-opacity=\"1\" /><path clip-path=\"url(#clip150)\" d=\"M121.177 214.021 Q117.566 214.021 115.737 217.586 Q113.932 221.128 113.932 228.257 Q113.932 235.364 115.737 238.929 Q117.566 242.47 121.177 242.47 Q124.811 242.47 126.617 238.929 Q128.445 235.364 128.445 228.257 Q128.445 221.128 126.617 217.586 Q124.811 214.021 121.177 214.021 M121.177 210.318 Q126.987 210.318 130.043 214.924 Q133.121 219.507 133.121 228.257 Q133.121 236.984 130.043 241.591 Q126.987 246.174 121.177 246.174 Q115.367 246.174 112.288 241.591 Q109.233 236.984 109.233 228.257 Q109.233 219.507 112.288 214.924 Q115.367 210.318 121.177 210.318 Z\" fill=\"#000000\" fill-rule=\"nonzero\" fill-opacity=\"1\" /><polyline clip-path=\"url(#clip152)\" style=\"stroke:#0000ff; stroke-linecap:round; stroke-linejoin:round; stroke-width:8; stroke-opacity:1; fill:none\" points=\"230.922,1445.72 1260.94,1445.72 2290.95,1445.72 \"/>\n",
       "<circle clip-path=\"url(#clip152)\" cx=\"230.922\" cy=\"1445.72\" r=\"14.4\" fill=\"#0000ff\" fill-rule=\"evenodd\" fill-opacity=\"1\" stroke=\"#000000\" stroke-opacity=\"1\" stroke-width=\"3.2\"/>\n",
       "<circle clip-path=\"url(#clip152)\" cx=\"1260.94\" cy=\"1445.72\" r=\"14.4\" fill=\"#0000ff\" fill-rule=\"evenodd\" fill-opacity=\"1\" stroke=\"#000000\" stroke-opacity=\"1\" stroke-width=\"3.2\"/>\n",
       "<circle clip-path=\"url(#clip152)\" cx=\"2290.95\" cy=\"1445.72\" r=\"14.4\" fill=\"#0000ff\" fill-rule=\"evenodd\" fill-opacity=\"1\" stroke=\"#000000\" stroke-opacity=\"1\" stroke-width=\"3.2\"/>\n",
       "<polyline clip-path=\"url(#clip152)\" style=\"stroke:#ff0000; stroke-linecap:round; stroke-linejoin:round; stroke-width:8; stroke-opacity:1; fill:none\" points=\"230.922,99.2836 1260.94,87.9763 2290.95,87.9763 \"/>\n",
       "<circle clip-path=\"url(#clip152)\" cx=\"230.922\" cy=\"99.2836\" r=\"14.4\" fill=\"#ff0000\" fill-rule=\"evenodd\" fill-opacity=\"1\" stroke=\"#000000\" stroke-opacity=\"1\" stroke-width=\"3.2\"/>\n",
       "<circle clip-path=\"url(#clip152)\" cx=\"1260.94\" cy=\"87.9763\" r=\"14.4\" fill=\"#ff0000\" fill-rule=\"evenodd\" fill-opacity=\"1\" stroke=\"#000000\" stroke-opacity=\"1\" stroke-width=\"3.2\"/>\n",
       "<circle clip-path=\"url(#clip152)\" cx=\"2290.95\" cy=\"87.9763\" r=\"14.4\" fill=\"#ff0000\" fill-rule=\"evenodd\" fill-opacity=\"1\" stroke=\"#000000\" stroke-opacity=\"1\" stroke-width=\"3.2\"/>\n",
       "<path clip-path=\"url(#clip150)\" d=\"M241.909 250.738 L795.178 250.738 L795.178 95.2176 L241.909 95.2176  Z\" fill=\"#ffffff\" fill-rule=\"evenodd\" fill-opacity=\"1\"/>\n",
       "<polyline clip-path=\"url(#clip150)\" style=\"stroke:#000000; stroke-linecap:round; stroke-linejoin:round; stroke-width:4; stroke-opacity:1; fill:none\" points=\"241.909,250.738 795.178,250.738 795.178,95.2176 241.909,95.2176 241.909,250.738 \"/>\n",
       "<polyline clip-path=\"url(#clip150)\" style=\"stroke:#0000ff; stroke-linecap:round; stroke-linejoin:round; stroke-width:8; stroke-opacity:1; fill:none\" points=\"266.172,147.058 411.747,147.058 \"/>\n",
       "<circle clip-path=\"url(#clip150)\" cx=\"338.96\" cy=\"147.058\" r=\"20.2188\" fill=\"#0000ff\" fill-rule=\"evenodd\" fill-opacity=\"1\" stroke=\"#000000\" stroke-opacity=\"1\" stroke-width=\"4.55111\"/>\n",
       "<path clip-path=\"url(#clip150)\" d=\"M436.01 129.778 L442.978 129.778 L451.797 153.296 L460.663 129.778 L467.63 129.778 L467.63 164.338 L463.07 164.338 L463.07 133.99 L454.158 157.694 L449.459 157.694 L440.547 133.99 L440.547 164.338 L436.01 164.338 L436.01 129.778 Z\" fill=\"#000000\" fill-rule=\"nonzero\" fill-opacity=\"1\" /><path clip-path=\"url(#clip150)\" d=\"M476.727 138.412 L480.987 138.412 L480.987 164.338 L476.727 164.338 L476.727 138.412 M476.727 128.319 L480.987 128.319 L480.987 133.713 L476.727 133.713 L476.727 128.319 Z\" fill=\"#000000\" fill-rule=\"nonzero\" fill-opacity=\"1\" /><path clip-path=\"url(#clip150)\" d=\"M511.449 148.689 L511.449 164.338 L507.19 164.338 L507.19 148.828 Q507.19 145.148 505.755 143.319 Q504.32 141.49 501.449 141.49 Q498 141.49 496.01 143.69 Q494.019 145.889 494.019 149.685 L494.019 164.338 L489.737 164.338 L489.737 138.412 L494.019 138.412 L494.019 142.44 Q495.547 140.102 497.607 138.944 Q499.69 137.787 502.399 137.787 Q506.866 137.787 509.158 140.565 Q511.449 143.319 511.449 148.689 Z\" fill=\"#000000\" fill-rule=\"nonzero\" fill-opacity=\"1\" /><path clip-path=\"url(#clip150)\" d=\"M535.199 129.778 L555.06 129.778 L555.06 133.713 L539.875 133.713 L539.875 143.898 L553.579 143.898 L553.579 147.833 L539.875 147.833 L539.875 164.338 L535.199 164.338 L535.199 129.778 Z\" fill=\"#000000\" fill-rule=\"nonzero\" fill-opacity=\"1\" /><path clip-path=\"url(#clip150)\" d=\"M559.25 154.106 L559.25 138.412 L563.509 138.412 L563.509 153.944 Q563.509 157.625 564.944 159.476 Q566.38 161.305 569.25 161.305 Q572.699 161.305 574.69 159.106 Q576.704 156.907 576.704 153.111 L576.704 138.412 L580.963 138.412 L580.963 164.338 L576.704 164.338 L576.704 160.356 Q575.153 162.717 573.093 163.875 Q571.056 165.009 568.347 165.009 Q563.88 165.009 561.565 162.231 Q559.25 159.453 559.25 154.106 M569.968 137.787 L569.968 137.787 Z\" fill=\"#000000\" fill-rule=\"nonzero\" fill-opacity=\"1\" /><path clip-path=\"url(#clip150)\" d=\"M611.912 150.31 L611.912 152.393 L592.329 152.393 Q592.606 156.791 594.967 159.106 Q597.352 161.398 601.588 161.398 Q604.041 161.398 606.333 160.796 Q608.648 160.194 610.916 158.99 L610.916 163.018 Q608.625 163.99 606.217 164.5 Q603.81 165.009 601.333 165.009 Q595.13 165.009 591.495 161.398 Q587.884 157.787 587.884 151.629 Q587.884 145.264 591.31 141.537 Q594.759 137.787 600.592 137.787 Q605.824 137.787 608.856 141.166 Q611.912 144.523 611.912 150.31 M607.653 149.06 Q607.606 145.565 605.685 143.481 Q603.787 141.398 600.639 141.398 Q597.074 141.398 594.921 143.412 Q592.792 145.426 592.467 149.083 L607.653 149.06 Z\" fill=\"#000000\" fill-rule=\"nonzero\" fill-opacity=\"1\" /><path clip-path=\"url(#clip150)\" d=\"M618.903 128.319 L623.162 128.319 L623.162 164.338 L618.903 164.338 L618.903 128.319 Z\" fill=\"#000000\" fill-rule=\"nonzero\" fill-opacity=\"1\" /><path clip-path=\"url(#clip150)\" d=\"M646.796 129.778 L651.495 129.778 L651.495 150.773 Q651.495 156.328 653.509 158.782 Q655.523 161.213 660.037 161.213 Q664.527 161.213 666.541 158.782 Q668.555 156.328 668.555 150.773 L668.555 129.778 L673.254 129.778 L673.254 151.352 Q673.254 158.111 669.898 161.56 Q666.564 165.009 660.037 165.009 Q653.486 165.009 650.129 161.56 Q646.796 158.111 646.796 151.352 L646.796 129.778 Z\" fill=\"#000000\" fill-rule=\"nonzero\" fill-opacity=\"1\" /><path clip-path=\"url(#clip150)\" d=\"M698.37 139.176 L698.37 143.203 Q696.564 142.277 694.62 141.815 Q692.675 141.352 690.592 141.352 Q687.421 141.352 685.823 142.324 Q684.249 143.296 684.249 145.24 Q684.249 146.722 685.384 147.578 Q686.518 148.412 689.944 149.176 L691.402 149.5 Q695.939 150.472 697.837 152.254 Q699.759 154.014 699.759 157.185 Q699.759 160.796 696.888 162.902 Q694.041 165.009 689.041 165.009 Q686.958 165.009 684.689 164.592 Q682.444 164.199 679.944 163.388 L679.944 158.99 Q682.305 160.217 684.597 160.842 Q686.888 161.444 689.134 161.444 Q692.143 161.444 693.763 160.426 Q695.384 159.384 695.384 157.509 Q695.384 155.773 694.203 154.847 Q693.046 153.921 689.087 153.064 L687.606 152.717 Q683.648 151.884 681.888 150.171 Q680.129 148.435 680.129 145.426 Q680.129 141.768 682.722 139.778 Q685.314 137.787 690.083 137.787 Q692.444 137.787 694.527 138.134 Q696.61 138.481 698.37 139.176 Z\" fill=\"#000000\" fill-rule=\"nonzero\" fill-opacity=\"1\" /><path clip-path=\"url(#clip150)\" d=\"M728.717 150.31 L728.717 152.393 L709.134 152.393 Q709.411 156.791 711.772 159.106 Q714.157 161.398 718.393 161.398 Q720.846 161.398 723.138 160.796 Q725.453 160.194 727.721 158.99 L727.721 163.018 Q725.43 163.99 723.022 164.5 Q720.615 165.009 718.138 165.009 Q711.934 165.009 708.3 161.398 Q704.689 157.787 704.689 151.629 Q704.689 145.264 708.115 141.537 Q711.564 137.787 717.397 137.787 Q722.629 137.787 725.661 141.166 Q728.717 144.523 728.717 150.31 M724.458 149.06 Q724.411 145.565 722.49 143.481 Q720.592 141.398 717.444 141.398 Q713.879 141.398 711.726 143.412 Q709.596 145.426 709.272 149.083 L724.458 149.06 Z\" fill=\"#000000\" fill-rule=\"nonzero\" fill-opacity=\"1\" /><path clip-path=\"url(#clip150)\" d=\"M752.768 142.347 L752.768 128.319 L757.027 128.319 L757.027 164.338 L752.768 164.338 L752.768 160.449 Q751.425 162.763 749.365 163.898 Q747.328 165.009 744.457 165.009 Q739.758 165.009 736.795 161.259 Q733.856 157.509 733.856 151.398 Q733.856 145.287 736.795 141.537 Q739.758 137.787 744.457 137.787 Q747.328 137.787 749.365 138.921 Q751.425 140.032 752.768 142.347 M738.254 151.398 Q738.254 156.097 740.175 158.782 Q742.119 161.444 745.499 161.444 Q748.879 161.444 750.823 158.782 Q752.768 156.097 752.768 151.398 Q752.768 146.699 750.823 144.037 Q748.879 141.352 745.499 141.352 Q742.119 141.352 740.175 144.037 Q738.254 146.699 738.254 151.398 Z\" fill=\"#000000\" fill-rule=\"nonzero\" fill-opacity=\"1\" /><polyline clip-path=\"url(#clip150)\" style=\"stroke:#ff0000; stroke-linecap:round; stroke-linejoin:round; stroke-width:8; stroke-opacity:1; fill:none\" points=\"266.172,198.898 411.747,198.898 \"/>\n",
       "<circle clip-path=\"url(#clip150)\" cx=\"338.96\" cy=\"198.898\" r=\"20.2188\" fill=\"#ff0000\" fill-rule=\"evenodd\" fill-opacity=\"1\" stroke=\"#000000\" stroke-opacity=\"1\" stroke-width=\"4.55111\"/>\n",
       "<path clip-path=\"url(#clip150)\" d=\"M436.01 181.618 L442.978 181.618 L451.797 205.136 L460.663 181.618 L467.63 181.618 L467.63 216.178 L463.07 216.178 L463.07 185.83 L454.158 209.534 L449.459 209.534 L440.547 185.83 L440.547 216.178 L436.01 216.178 L436.01 181.618 Z\" fill=\"#000000\" fill-rule=\"nonzero\" fill-opacity=\"1\" /><path clip-path=\"url(#clip150)\" d=\"M488.51 203.145 Q483.348 203.145 481.357 204.326 Q479.366 205.506 479.366 208.354 Q479.366 210.622 480.848 211.965 Q482.352 213.284 484.922 213.284 Q488.463 213.284 490.593 210.784 Q492.746 208.261 492.746 204.094 L492.746 203.145 L488.51 203.145 M497.005 201.386 L497.005 216.178 L492.746 216.178 L492.746 212.242 Q491.287 214.603 489.112 215.738 Q486.936 216.849 483.788 216.849 Q479.806 216.849 477.445 214.627 Q475.107 212.381 475.107 208.631 Q475.107 204.256 478.024 202.034 Q480.963 199.812 486.774 199.812 L492.746 199.812 L492.746 199.395 Q492.746 196.455 490.801 194.858 Q488.88 193.238 485.385 193.238 Q483.163 193.238 481.056 193.77 Q478.95 194.303 477.005 195.367 L477.005 191.432 Q479.343 190.53 481.542 190.09 Q483.741 189.627 485.825 189.627 Q491.45 189.627 494.227 192.543 Q497.005 195.46 497.005 201.386 Z\" fill=\"#000000\" fill-rule=\"nonzero\" fill-opacity=\"1\" /><path clip-path=\"url(#clip150)\" d=\"M527.329 190.252 L517.954 202.867 L527.815 216.178 L522.792 216.178 L515.246 205.992 L507.699 216.178 L502.676 216.178 L512.746 202.613 L503.533 190.252 L508.556 190.252 L515.431 199.488 L522.306 190.252 L527.329 190.252 Z\" fill=\"#000000\" fill-rule=\"nonzero\" fill-opacity=\"1\" /><path clip-path=\"url(#clip150)\" d=\"M549.088 181.618 L568.949 181.618 L568.949 185.553 L553.764 185.553 L553.764 195.738 L567.468 195.738 L567.468 199.673 L553.764 199.673 L553.764 216.178 L549.088 216.178 L549.088 181.618 Z\" fill=\"#000000\" fill-rule=\"nonzero\" fill-opacity=\"1\" /><path clip-path=\"url(#clip150)\" d=\"M573.139 205.946 L573.139 190.252 L577.398 190.252 L577.398 205.784 Q577.398 209.465 578.833 211.316 Q580.268 213.145 583.139 213.145 Q586.588 213.145 588.579 210.946 Q590.592 208.747 590.592 204.951 L590.592 190.252 L594.852 190.252 L594.852 216.178 L590.592 216.178 L590.592 212.196 Q589.042 214.557 586.981 215.715 Q584.944 216.849 582.236 216.849 Q577.768 216.849 575.454 214.071 Q573.139 211.293 573.139 205.946 M583.856 189.627 L583.856 189.627 Z\" fill=\"#000000\" fill-rule=\"nonzero\" fill-opacity=\"1\" /><path clip-path=\"url(#clip150)\" d=\"M625.801 202.15 L625.801 204.233 L606.217 204.233 Q606.495 208.631 608.856 210.946 Q611.241 213.238 615.477 213.238 Q617.93 213.238 620.222 212.636 Q622.537 212.034 624.805 210.83 L624.805 214.858 Q622.514 215.83 620.106 216.34 Q617.699 216.849 615.222 216.849 Q609.018 216.849 605.384 213.238 Q601.773 209.627 601.773 203.469 Q601.773 197.104 605.199 193.377 Q608.648 189.627 614.481 189.627 Q619.713 189.627 622.745 193.006 Q625.801 196.363 625.801 202.15 M621.541 200.9 Q621.495 197.405 619.574 195.321 Q617.676 193.238 614.528 193.238 Q610.963 193.238 608.81 195.252 Q606.68 197.266 606.356 200.923 L621.541 200.9 Z\" fill=\"#000000\" fill-rule=\"nonzero\" fill-opacity=\"1\" /><path clip-path=\"url(#clip150)\" d=\"M632.791 180.159 L637.051 180.159 L637.051 216.178 L632.791 216.178 L632.791 180.159 Z\" fill=\"#000000\" fill-rule=\"nonzero\" fill-opacity=\"1\" /><path clip-path=\"url(#clip150)\" d=\"M660.685 181.618 L665.384 181.618 L665.384 202.613 Q665.384 208.168 667.398 210.622 Q669.412 213.053 673.925 213.053 Q678.416 213.053 680.43 210.622 Q682.444 208.168 682.444 202.613 L682.444 181.618 L687.143 181.618 L687.143 203.192 Q687.143 209.951 683.786 213.4 Q680.453 216.849 673.925 216.849 Q667.374 216.849 664.018 213.4 Q660.685 209.951 660.685 203.192 L660.685 181.618 Z\" fill=\"#000000\" fill-rule=\"nonzero\" fill-opacity=\"1\" /><path clip-path=\"url(#clip150)\" d=\"M712.259 191.016 L712.259 195.043 Q710.453 194.117 708.509 193.655 Q706.564 193.192 704.481 193.192 Q701.309 193.192 699.712 194.164 Q698.138 195.136 698.138 197.08 Q698.138 198.562 699.272 199.418 Q700.407 200.252 703.833 201.016 L705.291 201.34 Q709.828 202.312 711.726 204.094 Q713.647 205.854 713.647 209.025 Q713.647 212.636 710.777 214.742 Q707.93 216.849 702.93 216.849 Q700.847 216.849 698.578 216.432 Q696.333 216.039 693.833 215.228 L693.833 210.83 Q696.194 212.057 698.485 212.682 Q700.777 213.284 703.022 213.284 Q706.032 213.284 707.652 212.266 Q709.272 211.224 709.272 209.349 Q709.272 207.613 708.092 206.687 Q706.934 205.761 702.976 204.904 L701.495 204.557 Q697.536 203.724 695.777 202.011 Q694.018 200.275 694.018 197.266 Q694.018 193.608 696.61 191.618 Q699.203 189.627 703.972 189.627 Q706.333 189.627 708.416 189.974 Q710.499 190.321 712.259 191.016 Z\" fill=\"#000000\" fill-rule=\"nonzero\" fill-opacity=\"1\" /><path clip-path=\"url(#clip150)\" d=\"M742.606 202.15 L742.606 204.233 L723.022 204.233 Q723.3 208.631 725.661 210.946 Q728.045 213.238 732.282 213.238 Q734.735 213.238 737.027 212.636 Q739.342 212.034 741.61 210.83 L741.61 214.858 Q739.319 215.83 736.911 216.34 Q734.504 216.849 732.027 216.849 Q725.823 216.849 722.189 213.238 Q718.578 209.627 718.578 203.469 Q718.578 197.104 722.004 193.377 Q725.453 189.627 731.286 189.627 Q736.518 189.627 739.55 193.006 Q742.606 196.363 742.606 202.15 M738.346 200.9 Q738.3 197.405 736.379 195.321 Q734.481 193.238 731.332 193.238 Q727.768 193.238 725.615 195.252 Q723.485 197.266 723.161 200.923 L738.346 200.9 Z\" fill=\"#000000\" fill-rule=\"nonzero\" fill-opacity=\"1\" /><path clip-path=\"url(#clip150)\" d=\"M766.656 194.187 L766.656 180.159 L770.916 180.159 L770.916 216.178 L766.656 216.178 L766.656 212.289 Q765.314 214.603 763.254 215.738 Q761.217 216.849 758.346 216.849 Q753.647 216.849 750.684 213.099 Q747.744 209.349 747.744 203.238 Q747.744 197.127 750.684 193.377 Q753.647 189.627 758.346 189.627 Q761.217 189.627 763.254 190.761 Q765.314 191.872 766.656 194.187 M752.143 203.238 Q752.143 207.937 754.064 210.622 Q756.008 213.284 759.388 213.284 Q762.767 213.284 764.712 210.622 Q766.656 207.937 766.656 203.238 Q766.656 198.539 764.712 195.877 Q762.767 193.192 759.388 193.192 Q756.008 193.192 754.064 195.877 Q752.143 198.539 752.143 203.238 Z\" fill=\"#000000\" fill-rule=\"nonzero\" fill-opacity=\"1\" /></svg>\n"
      ]
     },
     "metadata": {},
     "output_type": "display_data"
    }
   ],
   "source": [
    "datasets = Dict(\n",
    "    \"Original\"    =>   reliability_results,\n",
    "    \"Iteration 2\" =>   reliability_results2,\n",
    "    \"Final\"       =>   reliability_results_final\n",
    ")\n",
    "\n",
    "# Compute descriptive statistics for each dataset\n",
    "descriptive_statistics_all = Dict(\n",
    "    name => Dict(\n",
    "        key =>   isa(value, Vector{Float64}) ? descriptive_stats(value) : value\n",
    "        for (key, value) in dataset\n",
    "    )\n",
    "    for (name, dataset) in datasets\n",
    ")\n",
    "\n",
    "println(\"Descriptive Statistics:\")\n",
    "println(descriptive_statistics_all)\n",
    "\n",
    "open(\"./results/stats.json\", \"w\") do f\n",
    "    write(f, JSON.json(descriptive_statistics_all))\n",
    "end\n",
    "\n",
    "# Function to plot comparison line charts\n",
    "function compare_lineplots(key)\n",
    "    # Assuming the key exists in all datasets\n",
    "    if isa(datasets[\"Original\"][key], Vector{Float64})\n",
    "        p = plot(\n",
    "            datasets[\"Original\"][key] .* 100,  # Multiply by 100\n",
    "            label     =   \"Original\",\n",
    "            title     =   key,\n",
    "            linewidth =   2,\n",
    "            ylims     =   (0, 115),   # Set y-axis limits\n",
    "            ylabel    =   \"%\",        # Label for y-axis\n",
    "            legend    =   :topright\n",
    "        )\n",
    "        plot!(p, datasets[\"Iteration 2\"][key] .* 100, label=\"Iteration 2\", linewidth=2, linestyle=:dash)  # Multiply by 100\n",
    "        plot!(p, datasets[\"Final\"][key] .* 100, label=\"Final\", linewidth=2, linestyle=:dot)  # Multiply by 100\n",
    "        savefig(\"./results/plots/comparison_$(key)_lineplot.png\")\n",
    "    end\n",
    "end\n",
    "\n",
    "# Extract unique keys across all datasets (assuming they all have the same keys)\n",
    "all_keys =   keys(datasets[\"Original\"])\n",
    "\n",
    "# Plot comparison line charts for each key\n",
    "for key in all_keys\n",
    "    compare_lineplots(key)\n",
    "end\n",
    "\n",
    "# Plot line chart for min and max fuel used\n",
    "p_fuel = plot(\n",
    "    [\"Original\", \"Iteration 2\", \"Final\"],\n",
    "    [\n",
    "        datasets[\"Original\"][\"min_fuel_used\"],\n",
    "        datasets[\"Iteration 2\"][\"min_fuel_used\"],\n",
    "        datasets[\"Final\"][\"min_fuel_used\"]\n",
    "    ],\n",
    "    label     =   \"Min Fuel Used\",\n",
    "    color     =   :blue,\n",
    "    linewidth =   2,\n",
    "    marker    =   :circle\n",
    ")\n",
    "plot!(\n",
    "    p_fuel,\n",
    "    [\"Original\", \"Iteration 2\", \"Final\"],\n",
    "    [\n",
    "        datasets[\"Original\"][\"max_fuel_used\"],\n",
    "        datasets[\"Iteration 2\"][\"max_fuel_used\"],\n",
    "        datasets[\"Final\"][\"max_fuel_used\"]\n",
    "    ],\n",
    "    label     =   \"Max Fuel Used\",\n",
    "    color     =   :red,\n",
    "    linewidth =   2,\n",
    "    marker    =   :circle\n",
    ")"
   ]
  }
 ],
 "metadata": {
  "kernelspec": {
   "display_name": "Julia 1.8.4",
   "language": "julia",
   "name": "julia-1.8"
  },
  "language_info": {
   "file_extension": ".jl",
   "mimetype": "application/julia",
   "name": "julia",
   "version": "1.8.4"
  },
  "orig_nbformat": 4
 },
 "nbformat": 4,
 "nbformat_minor": 2
}
